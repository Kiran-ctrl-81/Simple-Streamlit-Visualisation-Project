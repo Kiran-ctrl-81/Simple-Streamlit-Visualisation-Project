{
 "cells": [
  {
   "cell_type": "markdown",
   "metadata": {},
   "source": [
    "Importing Relevant Libraries"
   ]
  },
  {
   "cell_type": "code",
   "execution_count": 2,
   "metadata": {},
   "outputs": [],
   "source": [
    "import numpy as np\n",
    "import pandas as pd\n",
    "\n",
    "import matplotlib.pyplot as plt\n",
    "import seaborn as sns\n",
    "import plotly.express as px"
   ]
  },
  {
   "cell_type": "markdown",
   "metadata": {},
   "source": [
    "Loading World Energy Consumption Dataset"
   ]
  },
  {
   "cell_type": "code",
   "execution_count": 3,
   "metadata": {},
   "outputs": [
    {
     "data": {
      "text/html": [
       "<div>\n",
       "<style scoped>\n",
       "    .dataframe tbody tr th:only-of-type {\n",
       "        vertical-align: middle;\n",
       "    }\n",
       "\n",
       "    .dataframe tbody tr th {\n",
       "        vertical-align: top;\n",
       "    }\n",
       "\n",
       "    .dataframe thead th {\n",
       "        text-align: right;\n",
       "    }\n",
       "</style>\n",
       "<table border=\"1\" class=\"dataframe\">\n",
       "  <thead>\n",
       "    <tr style=\"text-align: right;\">\n",
       "      <th></th>\n",
       "      <th>Country name</th>\n",
       "      <th>Regional indicator</th>\n",
       "      <th>Ladder score</th>\n",
       "      <th>upperwhisker</th>\n",
       "      <th>lowerwhisker</th>\n",
       "      <th>Log GDP per capita</th>\n",
       "      <th>Social support</th>\n",
       "      <th>Healthy life expectancy</th>\n",
       "      <th>Freedom to make life choices</th>\n",
       "      <th>Generosity</th>\n",
       "      <th>Perceptions of corruption</th>\n",
       "      <th>Dystopia + residual</th>\n",
       "    </tr>\n",
       "  </thead>\n",
       "  <tbody>\n",
       "    <tr>\n",
       "      <th>0</th>\n",
       "      <td>Finland</td>\n",
       "      <td>Western Europe</td>\n",
       "      <td>7.741</td>\n",
       "      <td>7.815</td>\n",
       "      <td>7.667</td>\n",
       "      <td>1.844</td>\n",
       "      <td>1.572</td>\n",
       "      <td>0.695</td>\n",
       "      <td>0.859</td>\n",
       "      <td>0.142</td>\n",
       "      <td>0.546</td>\n",
       "      <td>2.082</td>\n",
       "    </tr>\n",
       "    <tr>\n",
       "      <th>1</th>\n",
       "      <td>Denmark</td>\n",
       "      <td>Western Europe</td>\n",
       "      <td>7.583</td>\n",
       "      <td>7.665</td>\n",
       "      <td>7.500</td>\n",
       "      <td>1.908</td>\n",
       "      <td>1.520</td>\n",
       "      <td>0.699</td>\n",
       "      <td>0.823</td>\n",
       "      <td>0.204</td>\n",
       "      <td>0.548</td>\n",
       "      <td>1.881</td>\n",
       "    </tr>\n",
       "    <tr>\n",
       "      <th>2</th>\n",
       "      <td>Iceland</td>\n",
       "      <td>Western Europe</td>\n",
       "      <td>7.525</td>\n",
       "      <td>7.618</td>\n",
       "      <td>7.433</td>\n",
       "      <td>1.881</td>\n",
       "      <td>1.617</td>\n",
       "      <td>0.718</td>\n",
       "      <td>0.819</td>\n",
       "      <td>0.258</td>\n",
       "      <td>0.182</td>\n",
       "      <td>2.050</td>\n",
       "    </tr>\n",
       "    <tr>\n",
       "      <th>3</th>\n",
       "      <td>Sweden</td>\n",
       "      <td>Western Europe</td>\n",
       "      <td>7.344</td>\n",
       "      <td>7.422</td>\n",
       "      <td>7.267</td>\n",
       "      <td>1.878</td>\n",
       "      <td>1.501</td>\n",
       "      <td>0.724</td>\n",
       "      <td>0.838</td>\n",
       "      <td>0.221</td>\n",
       "      <td>0.524</td>\n",
       "      <td>1.658</td>\n",
       "    </tr>\n",
       "    <tr>\n",
       "      <th>4</th>\n",
       "      <td>Israel</td>\n",
       "      <td>Middle East and North Africa</td>\n",
       "      <td>7.341</td>\n",
       "      <td>7.405</td>\n",
       "      <td>7.277</td>\n",
       "      <td>1.803</td>\n",
       "      <td>1.513</td>\n",
       "      <td>0.740</td>\n",
       "      <td>0.641</td>\n",
       "      <td>0.153</td>\n",
       "      <td>0.193</td>\n",
       "      <td>2.298</td>\n",
       "    </tr>\n",
       "  </tbody>\n",
       "</table>\n",
       "</div>"
      ],
      "text/plain": [
       "  Country name            Regional indicator  Ladder score  upperwhisker  \\\n",
       "0      Finland                Western Europe         7.741         7.815   \n",
       "1      Denmark                Western Europe         7.583         7.665   \n",
       "2      Iceland                Western Europe         7.525         7.618   \n",
       "3       Sweden                Western Europe         7.344         7.422   \n",
       "4       Israel  Middle East and North Africa         7.341         7.405   \n",
       "\n",
       "   lowerwhisker  Log GDP per capita  Social support  Healthy life expectancy  \\\n",
       "0         7.667               1.844           1.572                    0.695   \n",
       "1         7.500               1.908           1.520                    0.699   \n",
       "2         7.433               1.881           1.617                    0.718   \n",
       "3         7.267               1.878           1.501                    0.724   \n",
       "4         7.277               1.803           1.513                    0.740   \n",
       "\n",
       "   Freedom to make life choices  Generosity  Perceptions of corruption  \\\n",
       "0                         0.859       0.142                      0.546   \n",
       "1                         0.823       0.204                      0.548   \n",
       "2                         0.819       0.258                      0.182   \n",
       "3                         0.838       0.221                      0.524   \n",
       "4                         0.641       0.153                      0.193   \n",
       "\n",
       "   Dystopia + residual  \n",
       "0                2.082  \n",
       "1                1.881  \n",
       "2                2.050  \n",
       "3                1.658  \n",
       "4                2.298  "
      ]
     },
     "execution_count": 3,
     "metadata": {},
     "output_type": "execute_result"
    }
   ],
   "source": [
    "df = pd.read_csv(\"D:/Kiran/Projects/Dashboard/data/World-happiness-report-2024.csv\")\n",
    "df.head()"
   ]
  },
  {
   "cell_type": "code",
   "execution_count": 4,
   "metadata": {},
   "outputs": [
    {
     "name": "stdout",
     "output_type": "stream",
     "text": [
      "<class 'pandas.core.frame.DataFrame'>\n",
      "RangeIndex: 143 entries, 0 to 142\n",
      "Data columns (total 12 columns):\n",
      " #   Column                        Non-Null Count  Dtype  \n",
      "---  ------                        --------------  -----  \n",
      " 0   Country name                  143 non-null    object \n",
      " 1   Regional indicator            143 non-null    object \n",
      " 2   Ladder score                  143 non-null    float64\n",
      " 3   upperwhisker                  143 non-null    float64\n",
      " 4   lowerwhisker                  143 non-null    float64\n",
      " 5   Log GDP per capita            140 non-null    float64\n",
      " 6   Social support                140 non-null    float64\n",
      " 7   Healthy life expectancy       140 non-null    float64\n",
      " 8   Freedom to make life choices  140 non-null    float64\n",
      " 9   Generosity                    140 non-null    float64\n",
      " 10  Perceptions of corruption     140 non-null    float64\n",
      " 11  Dystopia + residual           140 non-null    float64\n",
      "dtypes: float64(10), object(2)\n",
      "memory usage: 13.5+ KB\n"
     ]
    }
   ],
   "source": [
    "df.info()"
   ]
  },
  {
   "cell_type": "code",
   "execution_count": 5,
   "metadata": {},
   "outputs": [
    {
     "data": {
      "text/html": [
       "<div>\n",
       "<style scoped>\n",
       "    .dataframe tbody tr th:only-of-type {\n",
       "        vertical-align: middle;\n",
       "    }\n",
       "\n",
       "    .dataframe tbody tr th {\n",
       "        vertical-align: top;\n",
       "    }\n",
       "\n",
       "    .dataframe thead th {\n",
       "        text-align: right;\n",
       "    }\n",
       "</style>\n",
       "<table border=\"1\" class=\"dataframe\">\n",
       "  <thead>\n",
       "    <tr style=\"text-align: right;\">\n",
       "      <th></th>\n",
       "      <th>Ladder score</th>\n",
       "      <th>upperwhisker</th>\n",
       "      <th>lowerwhisker</th>\n",
       "      <th>Log GDP per capita</th>\n",
       "      <th>Social support</th>\n",
       "      <th>Healthy life expectancy</th>\n",
       "      <th>Freedom to make life choices</th>\n",
       "      <th>Generosity</th>\n",
       "      <th>Perceptions of corruption</th>\n",
       "      <th>Dystopia + residual</th>\n",
       "    </tr>\n",
       "  </thead>\n",
       "  <tbody>\n",
       "    <tr>\n",
       "      <th>count</th>\n",
       "      <td>143.000000</td>\n",
       "      <td>143.000000</td>\n",
       "      <td>143.000000</td>\n",
       "      <td>140.000000</td>\n",
       "      <td>140.000000</td>\n",
       "      <td>140.000000</td>\n",
       "      <td>140.000000</td>\n",
       "      <td>140.000000</td>\n",
       "      <td>140.000000</td>\n",
       "      <td>140.000000</td>\n",
       "    </tr>\n",
       "    <tr>\n",
       "      <th>mean</th>\n",
       "      <td>5.527580</td>\n",
       "      <td>5.641175</td>\n",
       "      <td>5.413972</td>\n",
       "      <td>1.378807</td>\n",
       "      <td>1.134329</td>\n",
       "      <td>0.520886</td>\n",
       "      <td>0.620621</td>\n",
       "      <td>0.146271</td>\n",
       "      <td>0.154121</td>\n",
       "      <td>1.575914</td>\n",
       "    </tr>\n",
       "    <tr>\n",
       "      <th>std</th>\n",
       "      <td>1.170717</td>\n",
       "      <td>1.155008</td>\n",
       "      <td>1.187133</td>\n",
       "      <td>0.425098</td>\n",
       "      <td>0.333317</td>\n",
       "      <td>0.164923</td>\n",
       "      <td>0.162492</td>\n",
       "      <td>0.073441</td>\n",
       "      <td>0.126238</td>\n",
       "      <td>0.537459</td>\n",
       "    </tr>\n",
       "    <tr>\n",
       "      <th>min</th>\n",
       "      <td>1.721000</td>\n",
       "      <td>1.775000</td>\n",
       "      <td>1.667000</td>\n",
       "      <td>0.000000</td>\n",
       "      <td>0.000000</td>\n",
       "      <td>0.000000</td>\n",
       "      <td>0.000000</td>\n",
       "      <td>0.000000</td>\n",
       "      <td>0.000000</td>\n",
       "      <td>-0.073000</td>\n",
       "    </tr>\n",
       "    <tr>\n",
       "      <th>25%</th>\n",
       "      <td>4.726000</td>\n",
       "      <td>4.845500</td>\n",
       "      <td>4.606000</td>\n",
       "      <td>1.077750</td>\n",
       "      <td>0.921750</td>\n",
       "      <td>0.398000</td>\n",
       "      <td>0.527500</td>\n",
       "      <td>0.091000</td>\n",
       "      <td>0.068750</td>\n",
       "      <td>1.308250</td>\n",
       "    </tr>\n",
       "    <tr>\n",
       "      <th>50%</th>\n",
       "      <td>5.785000</td>\n",
       "      <td>5.895000</td>\n",
       "      <td>5.674000</td>\n",
       "      <td>1.431500</td>\n",
       "      <td>1.237500</td>\n",
       "      <td>0.549500</td>\n",
       "      <td>0.641000</td>\n",
       "      <td>0.136500</td>\n",
       "      <td>0.120500</td>\n",
       "      <td>1.644500</td>\n",
       "    </tr>\n",
       "    <tr>\n",
       "      <th>75%</th>\n",
       "      <td>6.416000</td>\n",
       "      <td>6.507500</td>\n",
       "      <td>6.319000</td>\n",
       "      <td>1.741500</td>\n",
       "      <td>1.383250</td>\n",
       "      <td>0.648500</td>\n",
       "      <td>0.736000</td>\n",
       "      <td>0.192500</td>\n",
       "      <td>0.193750</td>\n",
       "      <td>1.881750</td>\n",
       "    </tr>\n",
       "    <tr>\n",
       "      <th>max</th>\n",
       "      <td>7.741000</td>\n",
       "      <td>7.815000</td>\n",
       "      <td>7.667000</td>\n",
       "      <td>2.141000</td>\n",
       "      <td>1.617000</td>\n",
       "      <td>0.857000</td>\n",
       "      <td>0.863000</td>\n",
       "      <td>0.401000</td>\n",
       "      <td>0.575000</td>\n",
       "      <td>2.998000</td>\n",
       "    </tr>\n",
       "  </tbody>\n",
       "</table>\n",
       "</div>"
      ],
      "text/plain": [
       "       Ladder score  upperwhisker  lowerwhisker  Log GDP per capita  \\\n",
       "count    143.000000    143.000000    143.000000          140.000000   \n",
       "mean       5.527580      5.641175      5.413972            1.378807   \n",
       "std        1.170717      1.155008      1.187133            0.425098   \n",
       "min        1.721000      1.775000      1.667000            0.000000   \n",
       "25%        4.726000      4.845500      4.606000            1.077750   \n",
       "50%        5.785000      5.895000      5.674000            1.431500   \n",
       "75%        6.416000      6.507500      6.319000            1.741500   \n",
       "max        7.741000      7.815000      7.667000            2.141000   \n",
       "\n",
       "       Social support  Healthy life expectancy  Freedom to make life choices  \\\n",
       "count      140.000000               140.000000                    140.000000   \n",
       "mean         1.134329                 0.520886                      0.620621   \n",
       "std          0.333317                 0.164923                      0.162492   \n",
       "min          0.000000                 0.000000                      0.000000   \n",
       "25%          0.921750                 0.398000                      0.527500   \n",
       "50%          1.237500                 0.549500                      0.641000   \n",
       "75%          1.383250                 0.648500                      0.736000   \n",
       "max          1.617000                 0.857000                      0.863000   \n",
       "\n",
       "       Generosity  Perceptions of corruption  Dystopia + residual  \n",
       "count  140.000000                 140.000000           140.000000  \n",
       "mean     0.146271                   0.154121             1.575914  \n",
       "std      0.073441                   0.126238             0.537459  \n",
       "min      0.000000                   0.000000            -0.073000  \n",
       "25%      0.091000                   0.068750             1.308250  \n",
       "50%      0.136500                   0.120500             1.644500  \n",
       "75%      0.192500                   0.193750             1.881750  \n",
       "max      0.401000                   0.575000             2.998000  "
      ]
     },
     "execution_count": 5,
     "metadata": {},
     "output_type": "execute_result"
    }
   ],
   "source": [
    "df.describe()"
   ]
  },
  {
   "cell_type": "code",
   "execution_count": 6,
   "metadata": {},
   "outputs": [
    {
     "data": {
      "text/plain": [
       "Country name                    0\n",
       "Regional indicator              0\n",
       "Ladder score                    0\n",
       "upperwhisker                    0\n",
       "lowerwhisker                    0\n",
       "Log GDP per capita              3\n",
       "Social support                  3\n",
       "Healthy life expectancy         3\n",
       "Freedom to make life choices    3\n",
       "Generosity                      3\n",
       "Perceptions of corruption       3\n",
       "Dystopia + residual             3\n",
       "dtype: int64"
      ]
     },
     "execution_count": 6,
     "metadata": {},
     "output_type": "execute_result"
    }
   ],
   "source": [
    "df.isnull().sum()"
   ]
  },
  {
   "cell_type": "code",
   "execution_count": 7,
   "metadata": {},
   "outputs": [
    {
     "name": "stderr",
     "output_type": "stream",
     "text": [
      "C:\\Users\\kiran\\AppData\\Local\\Temp\\ipykernel_8820\\1065765963.py:1: FutureWarning: A value is trying to be set on a copy of a DataFrame or Series through chained assignment using an inplace method.\n",
      "The behavior will change in pandas 3.0. This inplace method will never work because the intermediate object on which we are setting values always behaves as a copy.\n",
      "\n",
      "For example, when doing 'df[col].method(value, inplace=True)', try using 'df.method({col: value}, inplace=True)' or df[col] = df[col].method(value) instead, to perform the operation inplace on the original object.\n",
      "\n",
      "\n",
      "  df['Log GDP per capita'].fillna(df['Log GDP per capita'].mean(),inplace=True)\n",
      "C:\\Users\\kiran\\AppData\\Local\\Temp\\ipykernel_8820\\1065765963.py:2: FutureWarning: A value is trying to be set on a copy of a DataFrame or Series through chained assignment using an inplace method.\n",
      "The behavior will change in pandas 3.0. This inplace method will never work because the intermediate object on which we are setting values always behaves as a copy.\n",
      "\n",
      "For example, when doing 'df[col].method(value, inplace=True)', try using 'df.method({col: value}, inplace=True)' or df[col] = df[col].method(value) instead, to perform the operation inplace on the original object.\n",
      "\n",
      "\n",
      "  df['Social support'].fillna(df['Social support'].mean(),inplace=True)\n",
      "C:\\Users\\kiran\\AppData\\Local\\Temp\\ipykernel_8820\\1065765963.py:3: FutureWarning: A value is trying to be set on a copy of a DataFrame or Series through chained assignment using an inplace method.\n",
      "The behavior will change in pandas 3.0. This inplace method will never work because the intermediate object on which we are setting values always behaves as a copy.\n",
      "\n",
      "For example, when doing 'df[col].method(value, inplace=True)', try using 'df.method({col: value}, inplace=True)' or df[col] = df[col].method(value) instead, to perform the operation inplace on the original object.\n",
      "\n",
      "\n",
      "  df['Healthy life expectancy'].fillna(df['Healthy life expectancy'].mean(),inplace=True)\n",
      "C:\\Users\\kiran\\AppData\\Local\\Temp\\ipykernel_8820\\1065765963.py:4: FutureWarning: A value is trying to be set on a copy of a DataFrame or Series through chained assignment using an inplace method.\n",
      "The behavior will change in pandas 3.0. This inplace method will never work because the intermediate object on which we are setting values always behaves as a copy.\n",
      "\n",
      "For example, when doing 'df[col].method(value, inplace=True)', try using 'df.method({col: value}, inplace=True)' or df[col] = df[col].method(value) instead, to perform the operation inplace on the original object.\n",
      "\n",
      "\n",
      "  df['Freedom to make life choices'].fillna(df['Freedom to make life choices'].mean(),inplace=True)\n",
      "C:\\Users\\kiran\\AppData\\Local\\Temp\\ipykernel_8820\\1065765963.py:5: FutureWarning: A value is trying to be set on a copy of a DataFrame or Series through chained assignment using an inplace method.\n",
      "The behavior will change in pandas 3.0. This inplace method will never work because the intermediate object on which we are setting values always behaves as a copy.\n",
      "\n",
      "For example, when doing 'df[col].method(value, inplace=True)', try using 'df.method({col: value}, inplace=True)' or df[col] = df[col].method(value) instead, to perform the operation inplace on the original object.\n",
      "\n",
      "\n",
      "  df['Generosity'].fillna(df['Generosity'].mean(),inplace=True)\n",
      "C:\\Users\\kiran\\AppData\\Local\\Temp\\ipykernel_8820\\1065765963.py:6: FutureWarning: A value is trying to be set on a copy of a DataFrame or Series through chained assignment using an inplace method.\n",
      "The behavior will change in pandas 3.0. This inplace method will never work because the intermediate object on which we are setting values always behaves as a copy.\n",
      "\n",
      "For example, when doing 'df[col].method(value, inplace=True)', try using 'df.method({col: value}, inplace=True)' or df[col] = df[col].method(value) instead, to perform the operation inplace on the original object.\n",
      "\n",
      "\n",
      "  df['Perceptions of corruption'].fillna(df['Perceptions of corruption'].mean(),inplace=True)\n",
      "C:\\Users\\kiran\\AppData\\Local\\Temp\\ipykernel_8820\\1065765963.py:7: FutureWarning: A value is trying to be set on a copy of a DataFrame or Series through chained assignment using an inplace method.\n",
      "The behavior will change in pandas 3.0. This inplace method will never work because the intermediate object on which we are setting values always behaves as a copy.\n",
      "\n",
      "For example, when doing 'df[col].method(value, inplace=True)', try using 'df.method({col: value}, inplace=True)' or df[col] = df[col].method(value) instead, to perform the operation inplace on the original object.\n",
      "\n",
      "\n",
      "  df['Dystopia + residual'].fillna(df['Dystopia + residual'].mean(),inplace=True)\n"
     ]
    }
   ],
   "source": [
    "df['Log GDP per capita'].fillna(df['Log GDP per capita'].mean(),inplace=True)\n",
    "df['Social support'].fillna(df['Social support'].mean(),inplace=True)\n",
    "df['Healthy life expectancy'].fillna(df['Healthy life expectancy'].mean(),inplace=True)\n",
    "df['Freedom to make life choices'].fillna(df['Freedom to make life choices'].mean(),inplace=True)\n",
    "df['Generosity'].fillna(df['Generosity'].mean(),inplace=True)\n",
    "df['Perceptions of corruption'].fillna(df['Perceptions of corruption'].mean(),inplace=True)\n",
    "df['Dystopia + residual'].fillna(df['Dystopia + residual'].mean(),inplace=True)"
   ]
  },
  {
   "cell_type": "code",
   "execution_count": 8,
   "metadata": {},
   "outputs": [
    {
     "name": "stdout",
     "output_type": "stream",
     "text": [
      "<class 'pandas.core.frame.DataFrame'>\n",
      "RangeIndex: 143 entries, 0 to 142\n",
      "Data columns (total 12 columns):\n",
      " #   Column                        Non-Null Count  Dtype  \n",
      "---  ------                        --------------  -----  \n",
      " 0   Country name                  143 non-null    object \n",
      " 1   Regional indicator            143 non-null    object \n",
      " 2   Ladder score                  143 non-null    float64\n",
      " 3   upperwhisker                  143 non-null    float64\n",
      " 4   lowerwhisker                  143 non-null    float64\n",
      " 5   Log GDP per capita            143 non-null    float64\n",
      " 6   Social support                143 non-null    float64\n",
      " 7   Healthy life expectancy       143 non-null    float64\n",
      " 8   Freedom to make life choices  143 non-null    float64\n",
      " 9   Generosity                    143 non-null    float64\n",
      " 10  Perceptions of corruption     143 non-null    float64\n",
      " 11  Dystopia + residual           143 non-null    float64\n",
      "dtypes: float64(10), object(2)\n",
      "memory usage: 13.5+ KB\n"
     ]
    }
   ],
   "source": [
    "df.info()"
   ]
  },
  {
   "cell_type": "code",
   "execution_count": 9,
   "metadata": {},
   "outputs": [
    {
     "data": {
      "text/html": [
       "<div>\n",
       "<style scoped>\n",
       "    .dataframe tbody tr th:only-of-type {\n",
       "        vertical-align: middle;\n",
       "    }\n",
       "\n",
       "    .dataframe tbody tr th {\n",
       "        vertical-align: top;\n",
       "    }\n",
       "\n",
       "    .dataframe thead th {\n",
       "        text-align: right;\n",
       "    }\n",
       "</style>\n",
       "<table border=\"1\" class=\"dataframe\">\n",
       "  <thead>\n",
       "    <tr style=\"text-align: right;\">\n",
       "      <th></th>\n",
       "      <th>Ladder score</th>\n",
       "      <th>upperwhisker</th>\n",
       "      <th>lowerwhisker</th>\n",
       "      <th>Log GDP per capita</th>\n",
       "      <th>Social support</th>\n",
       "      <th>Healthy life expectancy</th>\n",
       "      <th>Freedom to make life choices</th>\n",
       "      <th>Generosity</th>\n",
       "      <th>Perceptions of corruption</th>\n",
       "      <th>Dystopia + residual</th>\n",
       "    </tr>\n",
       "  </thead>\n",
       "  <tbody>\n",
       "    <tr>\n",
       "      <th>count</th>\n",
       "      <td>143.000000</td>\n",
       "      <td>143.000000</td>\n",
       "      <td>143.000000</td>\n",
       "      <td>143.000000</td>\n",
       "      <td>143.000000</td>\n",
       "      <td>143.000000</td>\n",
       "      <td>143.000000</td>\n",
       "      <td>143.000000</td>\n",
       "      <td>143.000000</td>\n",
       "      <td>143.000000</td>\n",
       "    </tr>\n",
       "    <tr>\n",
       "      <th>mean</th>\n",
       "      <td>5.527580</td>\n",
       "      <td>5.641175</td>\n",
       "      <td>5.413972</td>\n",
       "      <td>1.378807</td>\n",
       "      <td>1.134329</td>\n",
       "      <td>0.520886</td>\n",
       "      <td>0.620621</td>\n",
       "      <td>0.146271</td>\n",
       "      <td>0.154121</td>\n",
       "      <td>1.575914</td>\n",
       "    </tr>\n",
       "    <tr>\n",
       "      <th>std</th>\n",
       "      <td>1.170717</td>\n",
       "      <td>1.155008</td>\n",
       "      <td>1.187133</td>\n",
       "      <td>0.420584</td>\n",
       "      <td>0.329777</td>\n",
       "      <td>0.163171</td>\n",
       "      <td>0.160766</td>\n",
       "      <td>0.072661</td>\n",
       "      <td>0.124898</td>\n",
       "      <td>0.531751</td>\n",
       "    </tr>\n",
       "    <tr>\n",
       "      <th>min</th>\n",
       "      <td>1.721000</td>\n",
       "      <td>1.775000</td>\n",
       "      <td>1.667000</td>\n",
       "      <td>0.000000</td>\n",
       "      <td>0.000000</td>\n",
       "      <td>0.000000</td>\n",
       "      <td>0.000000</td>\n",
       "      <td>0.000000</td>\n",
       "      <td>0.000000</td>\n",
       "      <td>-0.073000</td>\n",
       "    </tr>\n",
       "    <tr>\n",
       "      <th>25%</th>\n",
       "      <td>4.726000</td>\n",
       "      <td>4.845500</td>\n",
       "      <td>4.606000</td>\n",
       "      <td>1.079000</td>\n",
       "      <td>0.924500</td>\n",
       "      <td>0.400000</td>\n",
       "      <td>0.531000</td>\n",
       "      <td>0.092500</td>\n",
       "      <td>0.069000</td>\n",
       "      <td>1.317000</td>\n",
       "    </tr>\n",
       "    <tr>\n",
       "      <th>50%</th>\n",
       "      <td>5.785000</td>\n",
       "      <td>5.895000</td>\n",
       "      <td>5.674000</td>\n",
       "      <td>1.403000</td>\n",
       "      <td>1.217000</td>\n",
       "      <td>0.549000</td>\n",
       "      <td>0.632000</td>\n",
       "      <td>0.138000</td>\n",
       "      <td>0.122000</td>\n",
       "      <td>1.640000</td>\n",
       "    </tr>\n",
       "    <tr>\n",
       "      <th>75%</th>\n",
       "      <td>6.416000</td>\n",
       "      <td>6.507500</td>\n",
       "      <td>6.319000</td>\n",
       "      <td>1.733000</td>\n",
       "      <td>1.377000</td>\n",
       "      <td>0.644000</td>\n",
       "      <td>0.734000</td>\n",
       "      <td>0.191500</td>\n",
       "      <td>0.191000</td>\n",
       "      <td>1.879500</td>\n",
       "    </tr>\n",
       "    <tr>\n",
       "      <th>max</th>\n",
       "      <td>7.741000</td>\n",
       "      <td>7.815000</td>\n",
       "      <td>7.667000</td>\n",
       "      <td>2.141000</td>\n",
       "      <td>1.617000</td>\n",
       "      <td>0.857000</td>\n",
       "      <td>0.863000</td>\n",
       "      <td>0.401000</td>\n",
       "      <td>0.575000</td>\n",
       "      <td>2.998000</td>\n",
       "    </tr>\n",
       "  </tbody>\n",
       "</table>\n",
       "</div>"
      ],
      "text/plain": [
       "       Ladder score  upperwhisker  lowerwhisker  Log GDP per capita  \\\n",
       "count    143.000000    143.000000    143.000000          143.000000   \n",
       "mean       5.527580      5.641175      5.413972            1.378807   \n",
       "std        1.170717      1.155008      1.187133            0.420584   \n",
       "min        1.721000      1.775000      1.667000            0.000000   \n",
       "25%        4.726000      4.845500      4.606000            1.079000   \n",
       "50%        5.785000      5.895000      5.674000            1.403000   \n",
       "75%        6.416000      6.507500      6.319000            1.733000   \n",
       "max        7.741000      7.815000      7.667000            2.141000   \n",
       "\n",
       "       Social support  Healthy life expectancy  Freedom to make life choices  \\\n",
       "count      143.000000               143.000000                    143.000000   \n",
       "mean         1.134329                 0.520886                      0.620621   \n",
       "std          0.329777                 0.163171                      0.160766   \n",
       "min          0.000000                 0.000000                      0.000000   \n",
       "25%          0.924500                 0.400000                      0.531000   \n",
       "50%          1.217000                 0.549000                      0.632000   \n",
       "75%          1.377000                 0.644000                      0.734000   \n",
       "max          1.617000                 0.857000                      0.863000   \n",
       "\n",
       "       Generosity  Perceptions of corruption  Dystopia + residual  \n",
       "count  143.000000                 143.000000           143.000000  \n",
       "mean     0.146271                   0.154121             1.575914  \n",
       "std      0.072661                   0.124898             0.531751  \n",
       "min      0.000000                   0.000000            -0.073000  \n",
       "25%      0.092500                   0.069000             1.317000  \n",
       "50%      0.138000                   0.122000             1.640000  \n",
       "75%      0.191500                   0.191000             1.879500  \n",
       "max      0.401000                   0.575000             2.998000  "
      ]
     },
     "execution_count": 9,
     "metadata": {},
     "output_type": "execute_result"
    }
   ],
   "source": [
    "df.describe()"
   ]
  },
  {
   "cell_type": "code",
   "execution_count": 10,
   "metadata": {},
   "outputs": [
    {
     "data": {
      "text/plain": [
       "Country name                    0\n",
       "Regional indicator              0\n",
       "Ladder score                    0\n",
       "upperwhisker                    0\n",
       "lowerwhisker                    0\n",
       "Log GDP per capita              0\n",
       "Social support                  0\n",
       "Healthy life expectancy         0\n",
       "Freedom to make life choices    0\n",
       "Generosity                      0\n",
       "Perceptions of corruption       0\n",
       "Dystopia + residual             0\n",
       "dtype: int64"
      ]
     },
     "execution_count": 10,
     "metadata": {},
     "output_type": "execute_result"
    }
   ],
   "source": [
    "df.isnull().sum()"
   ]
  },
  {
   "cell_type": "code",
   "execution_count": 11,
   "metadata": {},
   "outputs": [
    {
     "data": {
      "text/html": [
       "<div>\n",
       "<style scoped>\n",
       "    .dataframe tbody tr th:only-of-type {\n",
       "        vertical-align: middle;\n",
       "    }\n",
       "\n",
       "    .dataframe tbody tr th {\n",
       "        vertical-align: top;\n",
       "    }\n",
       "\n",
       "    .dataframe thead th {\n",
       "        text-align: right;\n",
       "    }\n",
       "</style>\n",
       "<table border=\"1\" class=\"dataframe\">\n",
       "  <thead>\n",
       "    <tr style=\"text-align: right;\">\n",
       "      <th></th>\n",
       "      <th>Country name</th>\n",
       "      <th>Regional indicator</th>\n",
       "      <th>Ladder score</th>\n",
       "      <th>upperwhisker</th>\n",
       "      <th>lowerwhisker</th>\n",
       "      <th>Log GDP per capita</th>\n",
       "      <th>Social support</th>\n",
       "      <th>Healthy life expectancy</th>\n",
       "      <th>Freedom to make life choices</th>\n",
       "      <th>Generosity</th>\n",
       "      <th>Perceptions of corruption</th>\n",
       "      <th>Dystopia + residual</th>\n",
       "    </tr>\n",
       "  </thead>\n",
       "  <tbody>\n",
       "    <tr>\n",
       "      <th>0</th>\n",
       "      <td>Finland</td>\n",
       "      <td>Western Europe</td>\n",
       "      <td>7.741</td>\n",
       "      <td>7.815</td>\n",
       "      <td>7.667</td>\n",
       "      <td>1.844</td>\n",
       "      <td>1.572</td>\n",
       "      <td>0.695</td>\n",
       "      <td>0.859</td>\n",
       "      <td>0.142</td>\n",
       "      <td>0.546</td>\n",
       "      <td>2.082</td>\n",
       "    </tr>\n",
       "    <tr>\n",
       "      <th>1</th>\n",
       "      <td>Denmark</td>\n",
       "      <td>Western Europe</td>\n",
       "      <td>7.583</td>\n",
       "      <td>7.665</td>\n",
       "      <td>7.500</td>\n",
       "      <td>1.908</td>\n",
       "      <td>1.520</td>\n",
       "      <td>0.699</td>\n",
       "      <td>0.823</td>\n",
       "      <td>0.204</td>\n",
       "      <td>0.548</td>\n",
       "      <td>1.881</td>\n",
       "    </tr>\n",
       "    <tr>\n",
       "      <th>2</th>\n",
       "      <td>Iceland</td>\n",
       "      <td>Western Europe</td>\n",
       "      <td>7.525</td>\n",
       "      <td>7.618</td>\n",
       "      <td>7.433</td>\n",
       "      <td>1.881</td>\n",
       "      <td>1.617</td>\n",
       "      <td>0.718</td>\n",
       "      <td>0.819</td>\n",
       "      <td>0.258</td>\n",
       "      <td>0.182</td>\n",
       "      <td>2.050</td>\n",
       "    </tr>\n",
       "    <tr>\n",
       "      <th>3</th>\n",
       "      <td>Sweden</td>\n",
       "      <td>Western Europe</td>\n",
       "      <td>7.344</td>\n",
       "      <td>7.422</td>\n",
       "      <td>7.267</td>\n",
       "      <td>1.878</td>\n",
       "      <td>1.501</td>\n",
       "      <td>0.724</td>\n",
       "      <td>0.838</td>\n",
       "      <td>0.221</td>\n",
       "      <td>0.524</td>\n",
       "      <td>1.658</td>\n",
       "    </tr>\n",
       "    <tr>\n",
       "      <th>4</th>\n",
       "      <td>Israel</td>\n",
       "      <td>Middle East and North Africa</td>\n",
       "      <td>7.341</td>\n",
       "      <td>7.405</td>\n",
       "      <td>7.277</td>\n",
       "      <td>1.803</td>\n",
       "      <td>1.513</td>\n",
       "      <td>0.740</td>\n",
       "      <td>0.641</td>\n",
       "      <td>0.153</td>\n",
       "      <td>0.193</td>\n",
       "      <td>2.298</td>\n",
       "    </tr>\n",
       "    <tr>\n",
       "      <th>5</th>\n",
       "      <td>Netherlands</td>\n",
       "      <td>Western Europe</td>\n",
       "      <td>7.319</td>\n",
       "      <td>7.383</td>\n",
       "      <td>7.256</td>\n",
       "      <td>1.901</td>\n",
       "      <td>1.462</td>\n",
       "      <td>0.706</td>\n",
       "      <td>0.725</td>\n",
       "      <td>0.247</td>\n",
       "      <td>0.372</td>\n",
       "      <td>1.906</td>\n",
       "    </tr>\n",
       "    <tr>\n",
       "      <th>6</th>\n",
       "      <td>Norway</td>\n",
       "      <td>Western Europe</td>\n",
       "      <td>7.302</td>\n",
       "      <td>7.389</td>\n",
       "      <td>7.215</td>\n",
       "      <td>1.952</td>\n",
       "      <td>1.517</td>\n",
       "      <td>0.704</td>\n",
       "      <td>0.835</td>\n",
       "      <td>0.224</td>\n",
       "      <td>0.484</td>\n",
       "      <td>1.586</td>\n",
       "    </tr>\n",
       "    <tr>\n",
       "      <th>7</th>\n",
       "      <td>Luxembourg</td>\n",
       "      <td>Western Europe</td>\n",
       "      <td>7.122</td>\n",
       "      <td>7.213</td>\n",
       "      <td>7.031</td>\n",
       "      <td>2.141</td>\n",
       "      <td>1.355</td>\n",
       "      <td>0.708</td>\n",
       "      <td>0.801</td>\n",
       "      <td>0.146</td>\n",
       "      <td>0.432</td>\n",
       "      <td>1.540</td>\n",
       "    </tr>\n",
       "    <tr>\n",
       "      <th>8</th>\n",
       "      <td>Switzerland</td>\n",
       "      <td>Western Europe</td>\n",
       "      <td>7.060</td>\n",
       "      <td>7.147</td>\n",
       "      <td>6.973</td>\n",
       "      <td>1.970</td>\n",
       "      <td>1.425</td>\n",
       "      <td>0.747</td>\n",
       "      <td>0.759</td>\n",
       "      <td>0.173</td>\n",
       "      <td>0.498</td>\n",
       "      <td>1.488</td>\n",
       "    </tr>\n",
       "    <tr>\n",
       "      <th>9</th>\n",
       "      <td>Australia</td>\n",
       "      <td>North America and ANZ</td>\n",
       "      <td>7.057</td>\n",
       "      <td>7.141</td>\n",
       "      <td>6.973</td>\n",
       "      <td>1.854</td>\n",
       "      <td>1.461</td>\n",
       "      <td>0.692</td>\n",
       "      <td>0.756</td>\n",
       "      <td>0.225</td>\n",
       "      <td>0.323</td>\n",
       "      <td>1.745</td>\n",
       "    </tr>\n",
       "  </tbody>\n",
       "</table>\n",
       "</div>"
      ],
      "text/plain": [
       "  Country name            Regional indicator  Ladder score  upperwhisker  \\\n",
       "0      Finland                Western Europe         7.741         7.815   \n",
       "1      Denmark                Western Europe         7.583         7.665   \n",
       "2      Iceland                Western Europe         7.525         7.618   \n",
       "3       Sweden                Western Europe         7.344         7.422   \n",
       "4       Israel  Middle East and North Africa         7.341         7.405   \n",
       "5  Netherlands                Western Europe         7.319         7.383   \n",
       "6       Norway                Western Europe         7.302         7.389   \n",
       "7   Luxembourg                Western Europe         7.122         7.213   \n",
       "8  Switzerland                Western Europe         7.060         7.147   \n",
       "9    Australia         North America and ANZ         7.057         7.141   \n",
       "\n",
       "   lowerwhisker  Log GDP per capita  Social support  Healthy life expectancy  \\\n",
       "0         7.667               1.844           1.572                    0.695   \n",
       "1         7.500               1.908           1.520                    0.699   \n",
       "2         7.433               1.881           1.617                    0.718   \n",
       "3         7.267               1.878           1.501                    0.724   \n",
       "4         7.277               1.803           1.513                    0.740   \n",
       "5         7.256               1.901           1.462                    0.706   \n",
       "6         7.215               1.952           1.517                    0.704   \n",
       "7         7.031               2.141           1.355                    0.708   \n",
       "8         6.973               1.970           1.425                    0.747   \n",
       "9         6.973               1.854           1.461                    0.692   \n",
       "\n",
       "   Freedom to make life choices  Generosity  Perceptions of corruption  \\\n",
       "0                         0.859       0.142                      0.546   \n",
       "1                         0.823       0.204                      0.548   \n",
       "2                         0.819       0.258                      0.182   \n",
       "3                         0.838       0.221                      0.524   \n",
       "4                         0.641       0.153                      0.193   \n",
       "5                         0.725       0.247                      0.372   \n",
       "6                         0.835       0.224                      0.484   \n",
       "7                         0.801       0.146                      0.432   \n",
       "8                         0.759       0.173                      0.498   \n",
       "9                         0.756       0.225                      0.323   \n",
       "\n",
       "   Dystopia + residual  \n",
       "0                2.082  \n",
       "1                1.881  \n",
       "2                2.050  \n",
       "3                1.658  \n",
       "4                2.298  \n",
       "5                1.906  \n",
       "6                1.586  \n",
       "7                1.540  \n",
       "8                1.488  \n",
       "9                1.745  "
      ]
     },
     "execution_count": 11,
     "metadata": {},
     "output_type": "execute_result"
    }
   ],
   "source": [
    "df10 = df.sort_values(by='Ladder score', ascending=False).head(10)\n",
    "df10.head(10)"
   ]
  },
  {
   "cell_type": "code",
   "execution_count": 12,
   "metadata": {},
   "outputs": [],
   "source": [
    "sns.set_style(\"darkgrid\")"
   ]
  },
  {
   "cell_type": "code",
   "execution_count": 13,
   "metadata": {},
   "outputs": [
    {
     "name": "stderr",
     "output_type": "stream",
     "text": [
      "C:\\Users\\kiran\\AppData\\Local\\Temp\\ipykernel_8820\\280229123.py:13: UserWarning: set_ticklabels() should only be used with a fixed number of ticks, i.e. after set_ticks() or using a FixedLocator.\n",
      "  axes[row, col_index].set_xticklabels(df10['Country name'], rotation=45)\n",
      "C:\\Users\\kiran\\AppData\\Local\\Temp\\ipykernel_8820\\280229123.py:13: UserWarning: set_ticklabels() should only be used with a fixed number of ticks, i.e. after set_ticks() or using a FixedLocator.\n",
      "  axes[row, col_index].set_xticklabels(df10['Country name'], rotation=45)\n",
      "C:\\Users\\kiran\\AppData\\Local\\Temp\\ipykernel_8820\\280229123.py:13: UserWarning: set_ticklabels() should only be used with a fixed number of ticks, i.e. after set_ticks() or using a FixedLocator.\n",
      "  axes[row, col_index].set_xticklabels(df10['Country name'], rotation=45)\n",
      "C:\\Users\\kiran\\AppData\\Local\\Temp\\ipykernel_8820\\280229123.py:13: UserWarning: set_ticklabels() should only be used with a fixed number of ticks, i.e. after set_ticks() or using a FixedLocator.\n",
      "  axes[row, col_index].set_xticklabels(df10['Country name'], rotation=45)\n",
      "C:\\Users\\kiran\\AppData\\Local\\Temp\\ipykernel_8820\\280229123.py:13: UserWarning: set_ticklabels() should only be used with a fixed number of ticks, i.e. after set_ticks() or using a FixedLocator.\n",
      "  axes[row, col_index].set_xticklabels(df10['Country name'], rotation=45)\n",
      "C:\\Users\\kiran\\AppData\\Local\\Temp\\ipykernel_8820\\280229123.py:13: UserWarning: set_ticklabels() should only be used with a fixed number of ticks, i.e. after set_ticks() or using a FixedLocator.\n",
      "  axes[row, col_index].set_xticklabels(df10['Country name'], rotation=45)\n",
      "C:\\Users\\kiran\\AppData\\Local\\Temp\\ipykernel_8820\\280229123.py:13: UserWarning: set_ticklabels() should only be used with a fixed number of ticks, i.e. after set_ticks() or using a FixedLocator.\n",
      "  axes[row, col_index].set_xticklabels(df10['Country name'], rotation=45)\n",
      "C:\\Users\\kiran\\AppData\\Local\\Temp\\ipykernel_8820\\280229123.py:13: UserWarning: set_ticklabels() should only be used with a fixed number of ticks, i.e. after set_ticks() or using a FixedLocator.\n",
      "  axes[row, col_index].set_xticklabels(df10['Country name'], rotation=45)\n",
      "C:\\Users\\kiran\\AppData\\Local\\Temp\\ipykernel_8820\\280229123.py:13: UserWarning: set_ticklabels() should only be used with a fixed number of ticks, i.e. after set_ticks() or using a FixedLocator.\n",
      "  axes[row, col_index].set_xticklabels(df10['Country name'], rotation=45)\n",
      "C:\\Users\\kiran\\AppData\\Local\\Temp\\ipykernel_8820\\280229123.py:13: UserWarning: set_ticklabels() should only be used with a fixed number of ticks, i.e. after set_ticks() or using a FixedLocator.\n",
      "  axes[row, col_index].set_xticklabels(df10['Country name'], rotation=45)\n"
     ]
    },
    {
     "data": {
      "image/png": "[encoded data removed]",
      "text/plain": [
       "<Figure size 1200x3000 with 10 Axes>"
      ]
     },
     "metadata": {},
     "output_type": "display_data"
    }
   ],
   "source": [
    "numeric_cols = df10.select_dtypes(include='number').columns\n",
    "\n",
    "fig, axes = plt.subplots(nrows=5, ncols=2, figsize=(12, 30))  # Adjust size as needed\n",
    "fig.subplots_adjust(hspace=0.4)  # Adjust spacing between subplots\n",
    "\n",
    "for i,col in enumerate(numeric_cols):\n",
    "    row = i//2\n",
    "    col_index = i%2\n",
    "\n",
    "    sns.barplot(data=df10,x=df10[\"Country name\"],y=col,ax=axes[row, col_index],hue=df10[\"Country name\"], palette=\"deep\")\n",
    "    axes[row, col_index].set_title(f'Bar Plot for {col}')\n",
    "\n",
    "    axes[row, col_index].set_xticklabels(df10['Country name'], rotation=45)\n",
    "\n",
    "plt.show()\n"
   ]
  },
  {
   "cell_type": "code",
   "execution_count": 14,
   "metadata": {},
   "outputs": [
    {
     "data": {
      "text/plain": [
       "([0, 1, 2, 3, 4, 5, 6, 7, 8, 9],\n",
       " [Text(0, 0, 'Finland'),\n",
       "  Text(1, 0, 'Denmark'),\n",
       "  Text(2, 0, 'Iceland'),\n",
       "  Text(3, 0, 'Sweden'),\n",
       "  Text(4, 0, 'Israel'),\n",
       "  Text(5, 0, 'Netherlands'),\n",
       "  Text(6, 0, 'Norway'),\n",
       "  Text(7, 0, 'Luxembourg'),\n",
       "  Text(8, 0, 'Switzerland'),\n",
       "  Text(9, 0, 'Australia')])"
      ]
     },
     "execution_count": 14,
     "metadata": {},
     "output_type": "execute_result"
    },
    {
     "data": {
      "image/png": "[encoded data removed]",
      "text/plain": [
       "<Figure size 640x480 with 1 Axes>"
      ]
     },
     "metadata": {},
     "output_type": "display_data"
    }
   ],
   "source": [
    "sns.barplot(df10,x=df10['Country name'],y=df10['Social support'],palette='deep',hue=df10['Social support'],legend=False)\n",
    "plt.title(\"Bar plot for Social support\")\n",
    "plt.xticks(rotation = 45)"
   ]
  },
  {
   "cell_type": "code",
   "execution_count": 15,
   "metadata": {},
   "outputs": [
    {
     "data": {
      "text/plain": [
       "([0, 1, 2, 3, 4, 5, 6, 7, 8, 9],\n",
       " [Text(0, 0, 'Finland'),\n",
       "  Text(1, 0, 'Denmark'),\n",
       "  Text(2, 0, 'Iceland'),\n",
       "  Text(3, 0, 'Sweden'),\n",
       "  Text(4, 0, 'Israel'),\n",
       "  Text(5, 0, 'Netherlands'),\n",
       "  Text(6, 0, 'Norway'),\n",
       "  Text(7, 0, 'Luxembourg'),\n",
       "  Text(8, 0, 'Switzerland'),\n",
       "  Text(9, 0, 'Australia')])"
      ]
     },
     "execution_count": 15,
     "metadata": {},
     "output_type": "execute_result"
    },
    {
     "data": {
      "image/png": "[encoded data removed]",
      "text/plain": [
       "<Figure size 640x480 with 1 Axes>"
      ]
     },
     "metadata": {},
     "output_type": "display_data"
    }
   ],
   "source": [
    "sns.barplot(df10,x=df10['Country name'],y=df10['Log GDP per capita'],palette='deep',hue=df10['Log GDP per capita'],legend=False)\n",
    "plt.title(\"Bar plot for Log GDP per Capita\")\n",
    "plt.xticks(rotation = 45)"
   ]
  },
  {
   "cell_type": "code",
   "execution_count": 16,
   "metadata": {},
   "outputs": [
    {
     "data": {
      "text/html": [
       "<div>\n",
       "<style scoped>\n",
       "    .dataframe tbody tr th:only-of-type {\n",
       "        vertical-align: middle;\n",
       "    }\n",
       "\n",
       "    .dataframe tbody tr th {\n",
       "        vertical-align: top;\n",
       "    }\n",
       "\n",
       "    .dataframe thead th {\n",
       "        text-align: right;\n",
       "    }\n",
       "</style>\n",
       "<table border=\"1\" class=\"dataframe\">\n",
       "  <thead>\n",
       "    <tr style=\"text-align: right;\">\n",
       "      <th></th>\n",
       "      <th>Country name</th>\n",
       "      <th>year</th>\n",
       "      <th>Life Ladder</th>\n",
       "      <th>Log GDP per capita</th>\n",
       "      <th>Social support</th>\n",
       "      <th>Healthy life expectancy at birth</th>\n",
       "      <th>Freedom to make life choices</th>\n",
       "      <th>Generosity</th>\n",
       "      <th>Perceptions of corruption</th>\n",
       "      <th>Positive affect</th>\n",
       "      <th>Negative affect</th>\n",
       "    </tr>\n",
       "  </thead>\n",
       "  <tbody>\n",
       "    <tr>\n",
       "      <th>0</th>\n",
       "      <td>Afghanistan</td>\n",
       "      <td>2008</td>\n",
       "      <td>3.724</td>\n",
       "      <td>7.350</td>\n",
       "      <td>0.451</td>\n",
       "      <td>50.5</td>\n",
       "      <td>0.718</td>\n",
       "      <td>0.164</td>\n",
       "      <td>0.882</td>\n",
       "      <td>0.414</td>\n",
       "      <td>0.258</td>\n",
       "    </tr>\n",
       "    <tr>\n",
       "      <th>1</th>\n",
       "      <td>Afghanistan</td>\n",
       "      <td>2009</td>\n",
       "      <td>4.402</td>\n",
       "      <td>7.509</td>\n",
       "      <td>0.552</td>\n",
       "      <td>50.8</td>\n",
       "      <td>0.679</td>\n",
       "      <td>0.187</td>\n",
       "      <td>0.850</td>\n",
       "      <td>0.481</td>\n",
       "      <td>0.237</td>\n",
       "    </tr>\n",
       "    <tr>\n",
       "      <th>2</th>\n",
       "      <td>Afghanistan</td>\n",
       "      <td>2010</td>\n",
       "      <td>4.758</td>\n",
       "      <td>7.614</td>\n",
       "      <td>0.539</td>\n",
       "      <td>51.1</td>\n",
       "      <td>0.600</td>\n",
       "      <td>0.118</td>\n",
       "      <td>0.707</td>\n",
       "      <td>0.517</td>\n",
       "      <td>0.275</td>\n",
       "    </tr>\n",
       "    <tr>\n",
       "      <th>3</th>\n",
       "      <td>Afghanistan</td>\n",
       "      <td>2011</td>\n",
       "      <td>3.832</td>\n",
       "      <td>7.581</td>\n",
       "      <td>0.521</td>\n",
       "      <td>51.4</td>\n",
       "      <td>0.496</td>\n",
       "      <td>0.160</td>\n",
       "      <td>0.731</td>\n",
       "      <td>0.480</td>\n",
       "      <td>0.267</td>\n",
       "    </tr>\n",
       "    <tr>\n",
       "      <th>4</th>\n",
       "      <td>Afghanistan</td>\n",
       "      <td>2012</td>\n",
       "      <td>3.783</td>\n",
       "      <td>7.661</td>\n",
       "      <td>0.521</td>\n",
       "      <td>51.7</td>\n",
       "      <td>0.531</td>\n",
       "      <td>0.234</td>\n",
       "      <td>0.776</td>\n",
       "      <td>0.614</td>\n",
       "      <td>0.268</td>\n",
       "    </tr>\n",
       "  </tbody>\n",
       "</table>\n",
       "</div>"
      ],
      "text/plain": [
       "  Country name  year  Life Ladder  Log GDP per capita  Social support  \\\n",
       "0  Afghanistan  2008        3.724               7.350           0.451   \n",
       "1  Afghanistan  2009        4.402               7.509           0.552   \n",
       "2  Afghanistan  2010        4.758               7.614           0.539   \n",
       "3  Afghanistan  2011        3.832               7.581           0.521   \n",
       "4  Afghanistan  2012        3.783               7.661           0.521   \n",
       "\n",
       "   Healthy life expectancy at birth  Freedom to make life choices  Generosity  \\\n",
       "0                              50.5                         0.718       0.164   \n",
       "1                              50.8                         0.679       0.187   \n",
       "2                              51.1                         0.600       0.118   \n",
       "3                              51.4                         0.496       0.160   \n",
       "4                              51.7                         0.531       0.234   \n",
       "\n",
       "   Perceptions of corruption  Positive affect  Negative affect  \n",
       "0                      0.882            0.414            0.258  \n",
       "1                      0.850            0.481            0.237  \n",
       "2                      0.707            0.517            0.275  \n",
       "3                      0.731            0.480            0.267  \n",
       "4                      0.776            0.614            0.268  "
      ]
     },
     "execution_count": 16,
     "metadata": {},
     "output_type": "execute_result"
    }
   ],
   "source": [
    "df_ts = pd.read_csv('data/World-happiness-report-updated_2024.csv', encoding='latin-1')\n",
    "df_ts.head()"
   ]
  },
  {
   "cell_type": "code",
   "execution_count": 23,
   "metadata": {},
   "outputs": [
    {
     "name": "stderr",
     "output_type": "stream",
     "text": [
      "C:\\Users\\kiran\\AppData\\Local\\Temp\\ipykernel_8820\\1265254184.py:2: FutureWarning:\n",
      "\n",
      "A value is trying to be set on a copy of a DataFrame or Series through chained assignment using an inplace method.\n",
      "The behavior will change in pandas 3.0. This inplace method will never work because the intermediate object on which we are setting values always behaves as a copy.\n",
      "\n",
      "For example, when doing 'df[col].method(value, inplace=True)', try using 'df.method({col: value}, inplace=True)' or df[col] = df[col].method(value) instead, to perform the operation inplace on the original object.\n",
      "\n",
      "\n",
      "\n"
     ]
    },
    {
     "data": {
      "text/html": [
       "<div>\n",
       "<style scoped>\n",
       "    .dataframe tbody tr th:only-of-type {\n",
       "        vertical-align: middle;\n",
       "    }\n",
       "\n",
       "    .dataframe tbody tr th {\n",
       "        vertical-align: top;\n",
       "    }\n",
       "\n",
       "    .dataframe thead th {\n",
       "        text-align: right;\n",
       "    }\n",
       "</style>\n",
       "<table border=\"1\" class=\"dataframe\">\n",
       "  <thead>\n",
       "    <tr style=\"text-align: right;\">\n",
       "      <th></th>\n",
       "      <th>Country name</th>\n",
       "      <th>Regional indicator</th>\n",
       "      <th>Ladder score</th>\n",
       "      <th>upperwhisker</th>\n",
       "      <th>lowerwhisker</th>\n",
       "      <th>Log GDP per capita</th>\n",
       "      <th>Social support</th>\n",
       "      <th>Healthy life expectancy</th>\n",
       "      <th>Freedom to make life choices</th>\n",
       "      <th>Generosity</th>\n",
       "      <th>Perceptions of corruption</th>\n",
       "      <th>Dystopia + residual</th>\n",
       "      <th>year</th>\n",
       "      <th>Life Ladder</th>\n",
       "      <th>Healthy life expectancy at birth</th>\n",
       "      <th>Positive affect</th>\n",
       "      <th>Negative affect</th>\n",
       "    </tr>\n",
       "  </thead>\n",
       "  <tbody>\n",
       "    <tr>\n",
       "      <th>0</th>\n",
       "      <td>Finland</td>\n",
       "      <td>Western Europe</td>\n",
       "      <td>7.741</td>\n",
       "      <td>7.815</td>\n",
       "      <td>7.667</td>\n",
       "      <td>1.844</td>\n",
       "      <td>1.572</td>\n",
       "      <td>0.695</td>\n",
       "      <td>0.859</td>\n",
       "      <td>0.142</td>\n",
       "      <td>0.546</td>\n",
       "      <td>2.082</td>\n",
       "      <td>2024.0</td>\n",
       "      <td>NaN</td>\n",
       "      <td>NaN</td>\n",
       "      <td>NaN</td>\n",
       "      <td>NaN</td>\n",
       "    </tr>\n",
       "    <tr>\n",
       "      <th>1</th>\n",
       "      <td>Denmark</td>\n",
       "      <td>Western Europe</td>\n",
       "      <td>7.583</td>\n",
       "      <td>7.665</td>\n",
       "      <td>7.500</td>\n",
       "      <td>1.908</td>\n",
       "      <td>1.520</td>\n",
       "      <td>0.699</td>\n",
       "      <td>0.823</td>\n",
       "      <td>0.204</td>\n",
       "      <td>0.548</td>\n",
       "      <td>1.881</td>\n",
       "      <td>2024.0</td>\n",
       "      <td>NaN</td>\n",
       "      <td>NaN</td>\n",
       "      <td>NaN</td>\n",
       "      <td>NaN</td>\n",
       "    </tr>\n",
       "    <tr>\n",
       "      <th>2</th>\n",
       "      <td>Iceland</td>\n",
       "      <td>Western Europe</td>\n",
       "      <td>7.525</td>\n",
       "      <td>7.618</td>\n",
       "      <td>7.433</td>\n",
       "      <td>1.881</td>\n",
       "      <td>1.617</td>\n",
       "      <td>0.718</td>\n",
       "      <td>0.819</td>\n",
       "      <td>0.258</td>\n",
       "      <td>0.182</td>\n",
       "      <td>2.050</td>\n",
       "      <td>2024.0</td>\n",
       "      <td>NaN</td>\n",
       "      <td>NaN</td>\n",
       "      <td>NaN</td>\n",
       "      <td>NaN</td>\n",
       "    </tr>\n",
       "    <tr>\n",
       "      <th>3</th>\n",
       "      <td>Sweden</td>\n",
       "      <td>Western Europe</td>\n",
       "      <td>7.344</td>\n",
       "      <td>7.422</td>\n",
       "      <td>7.267</td>\n",
       "      <td>1.878</td>\n",
       "      <td>1.501</td>\n",
       "      <td>0.724</td>\n",
       "      <td>0.838</td>\n",
       "      <td>0.221</td>\n",
       "      <td>0.524</td>\n",
       "      <td>1.658</td>\n",
       "      <td>2024.0</td>\n",
       "      <td>NaN</td>\n",
       "      <td>NaN</td>\n",
       "      <td>NaN</td>\n",
       "      <td>NaN</td>\n",
       "    </tr>\n",
       "    <tr>\n",
       "      <th>4</th>\n",
       "      <td>Israel</td>\n",
       "      <td>Middle East and North Africa</td>\n",
       "      <td>7.341</td>\n",
       "      <td>7.405</td>\n",
       "      <td>7.277</td>\n",
       "      <td>1.803</td>\n",
       "      <td>1.513</td>\n",
       "      <td>0.740</td>\n",
       "      <td>0.641</td>\n",
       "      <td>0.153</td>\n",
       "      <td>0.193</td>\n",
       "      <td>2.298</td>\n",
       "      <td>2024.0</td>\n",
       "      <td>NaN</td>\n",
       "      <td>NaN</td>\n",
       "      <td>NaN</td>\n",
       "      <td>NaN</td>\n",
       "    </tr>\n",
       "    <tr>\n",
       "      <th>...</th>\n",
       "      <td>...</td>\n",
       "      <td>...</td>\n",
       "      <td>...</td>\n",
       "      <td>...</td>\n",
       "      <td>...</td>\n",
       "      <td>...</td>\n",
       "      <td>...</td>\n",
       "      <td>...</td>\n",
       "      <td>...</td>\n",
       "      <td>...</td>\n",
       "      <td>...</td>\n",
       "      <td>...</td>\n",
       "      <td>...</td>\n",
       "      <td>...</td>\n",
       "      <td>...</td>\n",
       "      <td>...</td>\n",
       "      <td>...</td>\n",
       "    </tr>\n",
       "    <tr>\n",
       "      <th>2358</th>\n",
       "      <td>Zimbabwe</td>\n",
       "      <td>NaN</td>\n",
       "      <td>NaN</td>\n",
       "      <td>NaN</td>\n",
       "      <td>NaN</td>\n",
       "      <td>7.698</td>\n",
       "      <td>0.759</td>\n",
       "      <td>NaN</td>\n",
       "      <td>0.632</td>\n",
       "      <td>-0.051</td>\n",
       "      <td>0.831</td>\n",
       "      <td>NaN</td>\n",
       "      <td>2019.0</td>\n",
       "      <td>2.694</td>\n",
       "      <td>53.100</td>\n",
       "      <td>0.658</td>\n",
       "      <td>0.235</td>\n",
       "    </tr>\n",
       "    <tr>\n",
       "      <th>2359</th>\n",
       "      <td>Zimbabwe</td>\n",
       "      <td>NaN</td>\n",
       "      <td>NaN</td>\n",
       "      <td>NaN</td>\n",
       "      <td>NaN</td>\n",
       "      <td>7.596</td>\n",
       "      <td>0.717</td>\n",
       "      <td>NaN</td>\n",
       "      <td>0.643</td>\n",
       "      <td>0.003</td>\n",
       "      <td>0.789</td>\n",
       "      <td>NaN</td>\n",
       "      <td>2020.0</td>\n",
       "      <td>3.160</td>\n",
       "      <td>53.575</td>\n",
       "      <td>0.661</td>\n",
       "      <td>0.346</td>\n",
       "    </tr>\n",
       "    <tr>\n",
       "      <th>2360</th>\n",
       "      <td>Zimbabwe</td>\n",
       "      <td>NaN</td>\n",
       "      <td>NaN</td>\n",
       "      <td>NaN</td>\n",
       "      <td>NaN</td>\n",
       "      <td>7.657</td>\n",
       "      <td>0.685</td>\n",
       "      <td>NaN</td>\n",
       "      <td>0.668</td>\n",
       "      <td>-0.079</td>\n",
       "      <td>0.757</td>\n",
       "      <td>NaN</td>\n",
       "      <td>2021.0</td>\n",
       "      <td>3.155</td>\n",
       "      <td>54.050</td>\n",
       "      <td>0.610</td>\n",
       "      <td>0.242</td>\n",
       "    </tr>\n",
       "    <tr>\n",
       "      <th>2361</th>\n",
       "      <td>Zimbabwe</td>\n",
       "      <td>NaN</td>\n",
       "      <td>NaN</td>\n",
       "      <td>NaN</td>\n",
       "      <td>NaN</td>\n",
       "      <td>7.670</td>\n",
       "      <td>0.666</td>\n",
       "      <td>NaN</td>\n",
       "      <td>0.652</td>\n",
       "      <td>-0.073</td>\n",
       "      <td>0.753</td>\n",
       "      <td>NaN</td>\n",
       "      <td>2022.0</td>\n",
       "      <td>3.296</td>\n",
       "      <td>54.525</td>\n",
       "      <td>0.641</td>\n",
       "      <td>0.191</td>\n",
       "    </tr>\n",
       "    <tr>\n",
       "      <th>2362</th>\n",
       "      <td>Zimbabwe</td>\n",
       "      <td>NaN</td>\n",
       "      <td>NaN</td>\n",
       "      <td>NaN</td>\n",
       "      <td>NaN</td>\n",
       "      <td>7.679</td>\n",
       "      <td>0.694</td>\n",
       "      <td>NaN</td>\n",
       "      <td>0.735</td>\n",
       "      <td>-0.069</td>\n",
       "      <td>0.757</td>\n",
       "      <td>NaN</td>\n",
       "      <td>2023.0</td>\n",
       "      <td>3.572</td>\n",
       "      <td>55.000</td>\n",
       "      <td>0.610</td>\n",
       "      <td>0.179</td>\n",
       "    </tr>\n",
       "  </tbody>\n",
       "</table>\n",
       "<p>2506 rows × 17 columns</p>\n",
       "</div>"
      ],
      "text/plain": [
       "     Country name            Regional indicator  Ladder score  upperwhisker  \\\n",
       "0         Finland                Western Europe         7.741         7.815   \n",
       "1         Denmark                Western Europe         7.583         7.665   \n",
       "2         Iceland                Western Europe         7.525         7.618   \n",
       "3          Sweden                Western Europe         7.344         7.422   \n",
       "4          Israel  Middle East and North Africa         7.341         7.405   \n",
       "...           ...                           ...           ...           ...   \n",
       "2358     Zimbabwe                           NaN           NaN           NaN   \n",
       "2359     Zimbabwe                           NaN           NaN           NaN   \n",
       "2360     Zimbabwe                           NaN           NaN           NaN   \n",
       "2361     Zimbabwe                           NaN           NaN           NaN   \n",
       "2362     Zimbabwe                           NaN           NaN           NaN   \n",
       "\n",
       "      lowerwhisker  Log GDP per capita  Social support  \\\n",
       "0            7.667               1.844           1.572   \n",
       "1            7.500               1.908           1.520   \n",
       "2            7.433               1.881           1.617   \n",
       "3            7.267               1.878           1.501   \n",
       "4            7.277               1.803           1.513   \n",
       "...            ...                 ...             ...   \n",
       "2358           NaN               7.698           0.759   \n",
       "2359           NaN               7.596           0.717   \n",
       "2360           NaN               7.657           0.685   \n",
       "2361           NaN               7.670           0.666   \n",
       "2362           NaN               7.679           0.694   \n",
       "\n",
       "      Healthy life expectancy  Freedom to make life choices  Generosity  \\\n",
       "0                       0.695                         0.859       0.142   \n",
       "1                       0.699                         0.823       0.204   \n",
       "2                       0.718                         0.819       0.258   \n",
       "3                       0.724                         0.838       0.221   \n",
       "4                       0.740                         0.641       0.153   \n",
       "...                       ...                           ...         ...   \n",
       "2358                      NaN                         0.632      -0.051   \n",
       "2359                      NaN                         0.643       0.003   \n",
       "2360                      NaN                         0.668      -0.079   \n",
       "2361                      NaN                         0.652      -0.073   \n",
       "2362                      NaN                         0.735      -0.069   \n",
       "\n",
       "      Perceptions of corruption  Dystopia + residual    year  Life Ladder  \\\n",
       "0                         0.546                2.082  2024.0          NaN   \n",
       "1                         0.548                1.881  2024.0          NaN   \n",
       "2                         0.182                2.050  2024.0          NaN   \n",
       "3                         0.524                1.658  2024.0          NaN   \n",
       "4                         0.193                2.298  2024.0          NaN   \n",
       "...                         ...                  ...     ...          ...   \n",
       "2358                      0.831                  NaN  2019.0        2.694   \n",
       "2359                      0.789                  NaN  2020.0        3.160   \n",
       "2360                      0.757                  NaN  2021.0        3.155   \n",
       "2361                      0.753                  NaN  2022.0        3.296   \n",
       "2362                      0.757                  NaN  2023.0        3.572   \n",
       "\n",
       "      Healthy life expectancy at birth  Positive affect  Negative affect  \n",
       "0                                  NaN              NaN              NaN  \n",
       "1                                  NaN              NaN              NaN  \n",
       "2                                  NaN              NaN              NaN  \n",
       "3                                  NaN              NaN              NaN  \n",
       "4                                  NaN              NaN              NaN  \n",
       "...                                ...              ...              ...  \n",
       "2358                            53.100            0.658            0.235  \n",
       "2359                            53.575            0.661            0.346  \n",
       "2360                            54.050            0.610            0.242  \n",
       "2361                            54.525            0.641            0.191  \n",
       "2362                            55.000            0.610            0.179  \n",
       "\n",
       "[2506 rows x 17 columns]"
      ]
     },
     "execution_count": 23,
     "metadata": {},
     "output_type": "execute_result"
    }
   ],
   "source": [
    "df_all = pd.concat([df, df_ts])\n",
    "df_all['year'].fillna(2024,inplace=True)\n",
    "df_all"
   ]
  },
  {
   "cell_type": "code",
   "execution_count": 24,
   "metadata": {},
   "outputs": [
    {
     "data": {
      "application/vnd.plotly.v1+json": {
       "config": {
        "plotlyServerURL": "https://plot.ly"
       },
       "data": [
        {
         "coloraxis": "coloraxis",
         "geo": "geo",
         "hovertemplate": "year=2005.0<br>Country name=%{location}<br>Life Ladder=%{z}<extra></extra>",
         "locationmode": "country names",
         "locations": [
          "Canada",
          "Lebanon",
          "Greece",
          "France",
          "Brazil",
          "Mexico",
          "Romania",
          "Jordan",
          "Italy",
          "Belgium",
          "Japan",
          "United Kingdom",
          "Spain",
          "Pakistan",
          "Türkiye",
          "Czechia",
          "Saudi Arabia",
          "Hungary",
          "Egypt",
          "Venezuela",
          "Germany",
          "Poland",
          "Sweden",
          "Australia",
          "Netherlands",
          "Denmark",
          "Iran"
         ],
         "name": "",
         "type": "choropleth",
         "z": [
          7.418,
          5.491,
          6.006,
          7.093,
          6.637,
          6.581,
          5.049,
          6.295,
          6.854,
          7.262,
          6.516,
          6.984,
          7.153,
          5.225,
          4.719,
          6.439,
          7.08,
          5.194,
          5.168,
          7.17,
          6.62,
          5.587,
          7.376,
          7.341,
          7.464,
          8.019,
          5.308
         ]
        }
       ],
       "frames": [
        {
         "data": [
          {
           "coloraxis": "coloraxis",
           "geo": "geo",
           "hovertemplate": "year=2005.0<br>Country name=%{location}<br>Life Ladder=%{z}<extra></extra>",
           "locationmode": "country names",
           "locations": [
            "Canada",
            "Lebanon",
            "Greece",
            "France",
            "Brazil",
            "Mexico",
            "Romania",
            "Jordan",
            "Italy",
            "Belgium",
            "Japan",
            "United Kingdom",
            "Spain",
            "Pakistan",
            "Türkiye",
            "Czechia",
            "Saudi Arabia",
            "Hungary",
            "Egypt",
            "Venezuela",
            "Germany",
            "Poland",
            "Sweden",
            "Australia",
            "Netherlands",
            "Denmark",
            "Iran"
           ],
           "name": "",
           "type": "choropleth",
           "z": [
            7.418,
            5.491,
            6.006,
            7.093,
            6.637,
            6.581,
            5.049,
            6.295,
            6.854,
            7.262,
            6.516,
            6.984,
            7.153,
            5.225,
            4.719,
            6.439,
            7.08,
            5.194,
            5.168,
            7.17,
            6.62,
            5.587,
            7.376,
            7.341,
            7.464,
            8.019,
            5.308
           ]
          }
         ],
         "name": "2005.0"
        },
        {
         "data": [
          {
           "coloraxis": "coloraxis",
           "geo": "geo",
           "hovertemplate": "year=2006.0<br>Country name=%{location}<br>Life Ladder=%{z}<extra></extra>",
           "locationmode": "country names",
           "locations": [
            "Madagascar",
            "Cambodia",
            "Peru",
            "Zimbabwe",
            "Zambia",
            "Chile",
            "Singapore",
            "Malawi",
            "Botswana",
            "Mali",
            "Chad",
            "Kuwait",
            "Kenya",
            "Hong Kong S.A.R. of China",
            "Switzerland",
            "Sierra Leone",
            "Malaysia",
            "Kazakhstan",
            "Finland",
            "Guatemala",
            "Uruguay",
            "Bolivia",
            "Burkina Faso",
            "Trinidad and Tobago",
            "Togo",
            "Kyrgyzstan",
            "France",
            "South Africa",
            "Lithuania",
            "China",
            "Slovenia",
            "Lebanon",
            "Slovakia",
            "Cameroon",
            "Paraguay",
            "Ghana",
            "Uzbekistan",
            "Belarus",
            "Bangladesh",
            "South Korea",
            "Costa Rica",
            "Norway",
            "Tanzania",
            "Panama",
            "United States",
            "Moldova",
            "Haiti",
            "State of Palestine",
            "Thailand",
            "Colombia",
            "Jamaica",
            "Benin",
            "United Arab Emirates",
            "Austria",
            "Ireland",
            "Tajikistan",
            "Mozambique",
            "Estonia",
            "El Salvador",
            "Nepal",
            "Honduras",
            "Dominican Republic",
            "Ecuador",
            "Azerbaijan",
            "Russia",
            "Israel",
            "Cyprus",
            "Senegal",
            "Cuba",
            "Armenia",
            "India",
            "Uganda",
            "New Zealand",
            "Taiwan Province of China",
            "Indonesia",
            "Nigeria",
            "Rwanda",
            "Ukraine",
            "Sri Lanka",
            "Argentina",
            "Niger",
            "Philippines",
            "Venezuela",
            "Georgia",
            "Nicaragua",
            "Laos",
            "Latvia",
            "Vietnam",
            "Portugal"
           ],
           "name": "",
           "type": "choropleth",
           "z": [
            3.98,
            3.569,
            4.811,
            3.826,
            4.824,
            6.063,
            6.463,
            3.83,
            4.739,
            4.014,
            3.435,
            6.076,
            4.223,
            5.511,
            7.473,
            3.628,
            6.012,
            5.476,
            7.672,
            5.901,
            5.786,
            5.374,
            3.801,
            5.832,
            3.202,
            4.641,
            6.583,
            5.084,
            5.954,
            4.56,
            5.811,
            4.653,
            5.265,
            3.851,
            4.73,
            4.535,
            5.232,
            5.658,
            4.319,
            5.332,
            7.082,
            7.416,
            3.922,
            6.128,
            7.182,
            5.102,
            3.754,
            4.716,
            5.885,
            6.025,
            6.208,
            3.33,
            6.734,
            7.122,
            7.144,
            4.613,
            4.595,
            5.371,
            5.701,
            4.567,
            5.397,
            5.088,
            5.024,
            4.728,
            4.964,
            7.173,
            6.238,
            4.417,
            5.418,
            4.289,
            5.348,
            3.734,
            7.305,
            6.189,
            4.947,
            4.71,
            4.215,
            4.804,
            4.345,
            6.313,
            3.737,
            4.67,
            6.525,
            3.675,
            4.46,
            5.076,
            4.71,
            5.294,
            5.405
           ]
          }
         ],
         "name": "2006.0"
        },
        {
         "data": [
          {
           "coloraxis": "coloraxis",
           "geo": "geo",
           "hovertemplate": "year=2007.0<br>Country name=%{location}<br>Life Ladder=%{z}<extra></extra>",
           "locationmode": "country names",
           "locations": [
            "Zimbabwe",
            "Yemen",
            "Niger",
            "Ukraine",
            "Hungary",
            "Cameroon",
            "Cambodia",
            "Liberia",
            "Lithuania",
            "Bulgaria",
            "Chad",
            "Canada",
            "Latvia",
            "Burkina Faso",
            "Greece",
            "Uruguay",
            "Paraguay",
            "Kyrgyzstan",
            "Sri Lanka",
            "Ecuador",
            "Argentina",
            "Egypt",
            "Malawi",
            "Central African Republic",
            "Brazil",
            "China",
            "Kosovo",
            "South Africa",
            "Kenya",
            "Malaysia",
            "Bosnia and Herzegovina",
            "Chile",
            "Singapore",
            "Guyana",
            "Romania",
            "Guatemala",
            "Kazakhstan",
            "Nicaragua",
            "Armenia",
            "India",
            "New Zealand",
            "Australia",
            "Mauritania",
            "Belize",
            "Colombia",
            "Thailand",
            "Sierra Leone",
            "Mexico",
            "Serbia",
            "Belgium",
            "Mongolia",
            "Jordan",
            "Bolivia",
            "Indonesia",
            "Nepal",
            "Uganda",
            "Dominican Republic",
            "Iran",
            "Tanzania",
            "United States",
            "Panama",
            "State of Palestine",
            "Japan",
            "South Korea",
            "Croatia",
            "Costa Rica",
            "Moldova",
            "Belarus",
            "Italy",
            "El Salvador",
            "North Macedonia",
            "Nigeria",
            "Albania",
            "Honduras",
            "Saudi Arabia",
            "Senegal",
            "Türkiye",
            "Israel",
            "Montenegro",
            "Bangladesh",
            "Azerbaijan",
            "Estonia",
            "Russia",
            "United Kingdom",
            "Pakistan",
            "Netherlands",
            "Spain",
            "Denmark",
            "Tajikistan",
            "Czechia",
            "Mozambique",
            "Namibia",
            "Poland",
            "Vietnam",
            "Laos",
            "Germany",
            "Georgia",
            "Philippines",
            "Peru",
            "Ghana",
            "Sweden",
            "Zambia"
           ],
           "name": "",
           "type": "choropleth",
           "z": [
            3.28,
            4.477,
            4.277,
            5.252,
            4.954,
            4.35,
            4.156,
            3.701,
            5.808,
            3.844,
            4.141,
            7.482,
            4.667,
            4.017,
            6.647,
            5.694,
            5.272,
            4.698,
            4.415,
            4.996,
            6.073,
            5.541,
            4.891,
            4.16,
            6.321,
            4.863,
            5.104,
            5.204,
            4.576,
            6.239,
            4.9,
            5.698,
            6.834,
            5.993,
            5.394,
            6.33,
            5.719,
            4.944,
            4.882,
            5.027,
            7.604,
            7.285,
            4.149,
            6.451,
            6.138,
            5.784,
            3.585,
            6.525,
            4.75,
            7.219,
            4.609,
            5.598,
            5.628,
            5.101,
            4.748,
            4.456,
            5.081,
            5.336,
            4.318,
            7.513,
            6.894,
            4.151,
            6.238,
            5.767,
            5.821,
            7.432,
            4.775,
            5.617,
            6.574,
            5.296,
            4.494,
            4.89,
            4.634,
            5.097,
            7.267,
            4.68,
            5.623,
            6.841,
            5.196,
            4.607,
            4.568,
            5.332,
            5.223,
            6.802,
            5.671,
            7.452,
            6.995,
            7.834,
            4.432,
            6.5,
            4.833,
            4.886,
            5.886,
            5.422,
            5.364,
            6.417,
            3.707,
            5.074,
            5.214,
            5.22,
            7.241,
            3.998
           ]
          }
         ],
         "name": "2007.0"
        },
        {
         "data": [
          {
           "coloraxis": "coloraxis",
           "geo": "geo",
           "hovertemplate": "year=2008.0<br>Country name=%{location}<br>Life Ladder=%{z}<extra></extra>",
           "locationmode": "country names",
           "locations": [
            "Zambia",
            "Sweden",
            "Ghana",
            "Uzbekistan",
            "Philippines",
            "Georgia",
            "Peru",
            "Pakistan",
            "Ireland",
            "Denmark",
            "Spain",
            "Mozambique",
            "Portugal",
            "Vietnam",
            "Laos",
            "Cameroon",
            "Iraq",
            "Netherlands",
            "Saudi Arabia",
            "Senegal",
            "Nigeria",
            "Italy",
            "Honduras",
            "Austria",
            "Türkiye",
            "Israel",
            "Bangladesh",
            "Azerbaijan",
            "Russia",
            "Estonia",
            "Afghanistan",
            "United Kingdom",
            "Jordan",
            "Mongolia",
            "Mexico",
            "Belgium",
            "Thailand",
            "Colombia",
            "Japan",
            "Sierra Leone",
            "Djibouti",
            "Sri Lanka",
            "Argentina",
            "India",
            "Australia",
            "New Zealand",
            "Tajikistan",
            "Indonesia",
            "Norway",
            "South Africa",
            "Tanzania",
            "El Salvador",
            "Dominican Republic",
            "Iran",
            "Nepal",
            "Uganda",
            "South Korea",
            "Haiti",
            "State of Palestine",
            "Panama",
            "United States",
            "Costa Rica",
            "Moldova",
            "Belarus",
            "Benin",
            "Mauritania",
            "Iceland",
            "Egypt",
            "Liberia",
            "Ecuador",
            "Taiwan Province of China",
            "Rwanda",
            "Paraguay",
            "Togo",
            "Latvia",
            "Chad",
            "Lithuania",
            "Syria",
            "France",
            "Uruguay",
            "Madagascar",
            "Burkina Faso",
            "Burundi",
            "Kenya",
            "Canada",
            "Cambodia",
            "Lebanon",
            "Kyrgyzstan",
            "Venezuela",
            "Zimbabwe",
            "Niger",
            "Germany",
            "Trinidad and Tobago",
            "Hong Kong S.A.R. of China",
            "Kosovo",
            "Ukraine",
            "Nicaragua",
            "Armenia",
            "Chile",
            "Singapore",
            "Kazakhstan",
            "Mali",
            "Botswana",
            "Brazil",
            "Malaysia",
            "China",
            "Guatemala",
            "Finland",
            "Congo (Brazzaville)",
            "Bolivia"
           ],
           "name": "",
           "type": "choropleth",
           "z": [
            4.73,
            7.516,
            4.965,
            5.311,
            4.589,
            4.156,
            5.129,
            4.414,
            7.568,
            7.971,
            7.294,
            4.654,
            5.717,
            5.48,
            5.044,
            4.292,
            4.59,
            7.631,
            6.811,
            4.683,
            4.939,
            6.78,
            5.42,
            7.181,
            5.118,
            7.261,
            5.052,
            4.817,
            5.619,
            5.452,
            3.724,
            6.986,
            4.93,
            4.493,
            6.829,
            7.117,
            5.636,
            6.168,
            5.911,
            2.997,
            5.009,
            4.431,
            5.961,
            5.146,
            7.254,
            7.381,
            5.064,
            4.815,
            7.632,
            5.346,
            4.385,
            5.191,
            4.842,
            5.129,
            4.441,
            4.569,
            5.39,
            3.846,
            4.386,
            6.931,
            7.28,
            6.851,
            5.503,
            5.463,
            3.667,
            4.248,
            6.888,
            4.632,
            4.221,
            5.297,
            5.548,
            4.363,
            5.57,
            2.808,
            5.145,
            4.632,
            5.554,
            5.323,
            7.008,
            5.664,
            4.64,
            3.846,
            3.563,
            4.015,
            7.486,
            4.462,
            4.595,
            4.737,
            6.258,
            3.174,
            4.236,
            6.522,
            6.696,
            5.137,
            5.522,
            5.172,
            5.104,
            4.652,
            5.789,
            6.642,
            5.886,
            4.115,
            5.451,
            6.691,
            5.807,
            4.846,
            6.414,
            7.671,
            3.82,
            5.298
           ]
          }
         ],
         "name": "2008.0"
        },
        {
         "data": [
          {
           "coloraxis": "coloraxis",
           "geo": "geo",
           "hovertemplate": "year=2009.0<br>Country name=%{location}<br>Life Ladder=%{z}<extra></extra>",
           "locationmode": "country names",
           "locations": [
            "Honduras",
            "United Arab Emirates",
            "United Kingdom",
            "Russia",
            "Georgia",
            "Peru",
            "Estonia",
            "Israel",
            "Senegal",
            "Saudi Arabia",
            "Türkiye",
            "Afghanistan",
            "Bahrain",
            "Azerbaijan",
            "South Korea",
            "Bangladesh",
            "Montenegro",
            "Cyprus",
            "Kenya",
            "Argentina",
            "Djibouti",
            "Sri Lanka",
            "Japan",
            "Ivory Coast",
            "Indonesia",
            "Denmark",
            "Mexico",
            "Serbia",
            "Jordan",
            "Colombia",
            "Malta",
            "Mali",
            "Congo (Kinshasa)",
            "Thailand",
            "Panama",
            "State of Palestine",
            "South Africa",
            "Italy",
            "Belarus",
            "Moldova",
            "Costa Rica",
            "Croatia",
            "Nepal",
            "Uganda",
            "El Salvador",
            "Tanzania",
            "Tajikistan",
            "Mauritania",
            "Albania",
            "Nigeria",
            "Spain",
            "Ireland",
            "Vietnam",
            "Iraq",
            "Cameroon",
            "Uzbekistan",
            "Philippines",
            "Zambia",
            "Sudan",
            "Ghana",
            "Sweden",
            "Yemen",
            "Kazakhstan",
            "Brazil",
            "Luxembourg",
            "Kuwait",
            "Romania",
            "Guatemala",
            "Comoros",
            "Rwanda",
            "Malaysia",
            "China",
            "Somaliland region",
            "Singapore",
            "Bosnia and Herzegovina",
            "Switzerland",
            "Pakistan",
            "United States",
            "Malawi",
            "Bolivia",
            "Chile",
            "Turkmenistan",
            "Chad",
            "Latvia",
            "Greece",
            "Uruguay",
            "Qatar",
            "France",
            "Syria",
            "Paraguay",
            "Egypt",
            "Dominican Republic",
            "Nicaragua",
            "Armenia",
            "Cambodia",
            "Burundi",
            "Canada",
            "Lithuania",
            "Tunisia",
            "Kosovo",
            "Lebanon",
            "Kyrgyzstan",
            "Slovenia",
            "North Macedonia",
            "Hungary",
            "Hong Kong S.A.R. of China",
            "India",
            "Niger",
            "Ukraine",
            "Ecuador",
            "Venezuela",
            "Germany",
            "Poland",
            "Zimbabwe"
           ],
           "name": "",
           "type": "choropleth",
           "z": [
            6.033,
            6.866,
            6.907,
            5.158,
            3.801,
            5.519,
            5.138,
            7.353,
            4.335,
            6.148,
            5.213,
            4.402,
            5.701,
            4.574,
            5.648,
            5.083,
            4.801,
            6.833,
            4.27,
            6.424,
            4.906,
            4.212,
            5.845,
            4.197,
            5.472,
            7.683,
            6.963,
            4.38,
            6,
            6.272,
            6.328,
            3.977,
            3.984,
            5.476,
            7.034,
            4.47,
            5.218,
            6.334,
            5.564,
            5.554,
            7.615,
            5.433,
            4.917,
            4.612,
            6.839,
            3.408,
            4.575,
            4.5,
            5.485,
            4.98,
            6.199,
            7.046,
            5.304,
            4.775,
            4.741,
            5.261,
            4.88,
            5.26,
            4.455,
            4.198,
            7.266,
            4.809,
            5.383,
            7.001,
            6.958,
            6.585,
            5.368,
            6.452,
            3.476,
            4.03,
            5.385,
            4.454,
            4.991,
            6.145,
            4.963,
            7.525,
            5.208,
            7.158,
            5.148,
            6.086,
            6.494,
            6.568,
            3.639,
            4.669,
            6.039,
            6.296,
            6.418,
            6.283,
            4.979,
            5.576,
            5.066,
            5.432,
            5.353,
            4.178,
            4.111,
            3.792,
            7.488,
            5.467,
            5.025,
            5.891,
            5.206,
            5.069,
            5.83,
            4.428,
            4.895,
            5.397,
            4.522,
            4.267,
            5.166,
            6.022,
            7.189,
            6.641,
            5.772,
            4.056
           ]
          }
         ],
         "name": "2009.0"
        },
        {
         "data": [
          {
           "coloraxis": "coloraxis",
           "geo": "geo",
           "hovertemplate": "year=2010.0<br>Country name=%{location}<br>Life Ladder=%{z}<extra></extra>",
           "locationmode": "country names",
           "locations": [
            "Zimbabwe",
            "Venezuela",
            "Poland",
            "Cambodia",
            "Lebanon",
            "Slovakia",
            "Slovenia",
            "Canada",
            "Uruguay",
            "Paraguay",
            "Peru",
            "Uzbekistan",
            "Sudan",
            "State of Palestine",
            "Greece",
            "France",
            "Guatemala",
            "Qatar",
            "Pakistan",
            "United States",
            "Romania",
            "Finland",
            "Burkina Faso",
            "Tunisia",
            "Liberia",
            "Kosovo",
            "Kyrgyzstan",
            "Hungary",
            "Russia",
            "Afghanistan",
            "United Kingdom",
            "Panama",
            "Haiti",
            "Nigeria",
            "Albania",
            "United Arab Emirates",
            "Honduras",
            "Lithuania",
            "Bulgaria",
            "Chad",
            "Central African Republic",
            "Kuwait",
            "India",
            "Ukraine",
            "North Macedonia",
            "Hong Kong S.A.R. of China",
            "El Salvador",
            "Algeria",
            "Niger",
            "Egypt",
            "Ecuador",
            "Luxembourg",
            "Brazil",
            "Singapore",
            "Somaliland region",
            "Syria",
            "Dominican Republic",
            "Nicaragua",
            "Argentina",
            "Sri Lanka",
            "Taiwan Province of China",
            "Denmark",
            "New Zealand",
            "Netherlands",
            "Armenia",
            "Indonesia",
            "Tajikistan",
            "Nepal",
            "Australia",
            "Uganda",
            "Djibouti",
            "Chile",
            "Botswana",
            "Kenya",
            "China",
            "Malaysia",
            "Morocco",
            "Azerbaijan",
            "Saudi Arabia",
            "Austria",
            "Spain",
            "Cyprus",
            "Ireland",
            "Iraq",
            "Czechia",
            "Bosnia and Herzegovina",
            "Thailand",
            "Kazakhstan",
            "Malta",
            "South Korea",
            "Croatia",
            "Costa Rica",
            "Senegal",
            "Türkiye",
            "Bahrain",
            "Israel",
            "Italy",
            "Tanzania",
            "Montenegro",
            "Bangladesh",
            "Mali",
            "Sierra Leone",
            "Bolivia",
            "Comoros",
            "Colombia",
            "Mexico",
            "Serbia",
            "Belgium",
            "Mongolia",
            "Moldova",
            "Belarus",
            "Jordan",
            "Mauritania",
            "Japan",
            "South Africa",
            "Philippines",
            "Germany",
            "Vietnam",
            "Portugal",
            "Yemen",
            "Cameroon",
            "Ghana",
            "Sweden",
            "Georgia"
           ],
           "name": "",
           "type": "choropleth",
           "z": [
            4.682,
            7.478,
            5.887,
            4.141,
            5.032,
            6.052,
            6.083,
            7.65,
            6.062,
            5.841,
            5.613,
            5.095,
            4.435,
            4.703,
            5.84,
            6.798,
            6.29,
            6.85,
            5.786,
            7.164,
            4.909,
            7.393,
            4.036,
            5.131,
            4.196,
            5.177,
            4.996,
            4.725,
            5.385,
            4.758,
            7.029,
            7.321,
            3.766,
            4.76,
            5.269,
            7.097,
            5.866,
            5.066,
            3.912,
            3.743,
            3.568,
            6.798,
            4.989,
            5.058,
            4.18,
            5.643,
            6.74,
            5.464,
            4.101,
            4.669,
            5.838,
            7.097,
            6.837,
            6.531,
            4.657,
            4.465,
            4.735,
            5.687,
            6.441,
            3.977,
            6.229,
            7.771,
            7.224,
            7.502,
            4.368,
            5.457,
            4.381,
            4.35,
            7.45,
            4.193,
            5.006,
            6.636,
            3.553,
            4.256,
            4.653,
            5.58,
            4.383,
            4.219,
            6.307,
            7.303,
            6.188,
            6.387,
            7.257,
            5.065,
            6.25,
            4.669,
            6.217,
            5.514,
            5.774,
            6.116,
            5.596,
            7.271,
            4.372,
            5.49,
            5.937,
            7.359,
            6.354,
            3.229,
            5.455,
            4.858,
            3.762,
            4.134,
            5.781,
            3.812,
            6.408,
            6.802,
            4.461,
            6.854,
            4.586,
            5.59,
            5.526,
            5.57,
            4.772,
            6.057,
            4.652,
            4.942,
            6.725,
            5.296,
            5.095,
            4.35,
            4.554,
            4.606,
            7.496,
            4.102
           ]
          }
         ],
         "name": "2010.0"
        },
        {
         "data": [
          {
           "coloraxis": "coloraxis",
           "geo": "geo",
           "hovertemplate": "year=2011.0<br>Country name=%{location}<br>Life Ladder=%{z}<extra></extra>",
           "locationmode": "country names",
           "locations": [
            "Philippines",
            "Poland",
            "Vietnam",
            "Venezuela",
            "Germany",
            "Cambodia",
            "Zambia",
            "Congo (Kinshasa)",
            "South Africa",
            "Jamaica",
            "Mexico",
            "Benin",
            "Mauritania",
            "Mauritius",
            "Belarus",
            "Panama",
            "Qatar",
            "Guatemala",
            "France",
            "Greece",
            "State of Palestine",
            "Sudan",
            "Uzbekistan",
            "Peru",
            "Moldova",
            "Belgium",
            "Serbia",
            "Jordan",
            "Colombia",
            "Comoros",
            "Congo (Brazzaville)",
            "Bolivia",
            "Tunisia",
            "Burkina Faso",
            "Guinea",
            "Finland",
            "Romania",
            "United States",
            "United Kingdom",
            "Pakistan",
            "Eswatini",
            "Sierra Leone",
            "Mali",
            "South Korea",
            "Bangladesh",
            "Mongolia",
            "Montenegro",
            "Tanzania",
            "Italy",
            "Israel",
            "Haiti",
            "Oman",
            "Afghanistan",
            "Russia",
            "Hungary",
            "Togo",
            "Kyrgyzstan",
            "Trinidad and Tobago",
            "Türkiye",
            "Senegal",
            "Bahrain",
            "Costa Rica",
            "Kazakhstan",
            "Thailand",
            "Japan",
            "Malta",
            "Lesotho",
            "Slovenia",
            "Estonia",
            "Honduras",
            "United Arab Emirates",
            "Albania",
            "Turkmenistan",
            "Bosnia and Herzegovina",
            "Mozambique",
            "Czechia",
            "Iraq",
            "Ireland",
            "Croatia",
            "Cyprus",
            "North Macedonia",
            "Ukraine",
            "India",
            "Kuwait",
            "Central African Republic",
            "Chad",
            "Bulgaria",
            "Lithuania",
            "Spain",
            "Austria",
            "Saudi Arabia",
            "Azerbaijan",
            "Morocco",
            "Malaysia",
            "China",
            "Kenya",
            "Kosovo",
            "Ecuador",
            "Egypt",
            "Niger",
            "Algeria",
            "Angola",
            "Rwanda",
            "El Salvador",
            "Hong Kong S.A.R. of China",
            "Botswana",
            "Malawi",
            "Djibouti",
            "Iran",
            "Uganda",
            "Australia",
            "Nepal",
            "Tajikistan",
            "Nicaragua",
            "Dominican Republic",
            "Chile",
            "Somaliland region",
            "Singapore",
            "Madagascar",
            "Brazil",
            "Luxembourg",
            "Syria",
            "Indonesia",
            "Armenia",
            "Netherlands",
            "New Zealand",
            "Denmark",
            "Taiwan Province of China",
            "Sri Lanka",
            "Argentina",
            "Gabon",
            "Georgia",
            "Sweden",
            "Ghana",
            "Cameroon",
            "Laos",
            "Yemen",
            "Portugal",
            "Zimbabwe",
            "Paraguay",
            "Uruguay",
            "Latvia",
            "Canada",
            "Burundi",
            "Slovakia",
            "Lebanon"
           ],
           "name": "",
           "type": "choropleth",
           "z": [
            4.994,
            5.646,
            5.767,
            6.58,
            6.621,
            4.161,
            4.999,
            4.517,
            4.931,
            5.374,
            6.91,
            3.87,
            4.785,
            5.477,
            5.225,
            7.248,
            6.592,
            5.743,
            6.959,
            5.372,
            4.751,
            4.314,
            5.739,
            5.892,
            5.792,
            7.111,
            4.815,
            5.539,
            6.464,
            3.838,
            4.51,
            5.779,
            4.876,
            4.785,
            4.045,
            7.354,
            5.023,
            7.115,
            6.869,
            5.267,
            4.867,
            4.502,
            4.667,
            6.947,
            4.986,
            5.031,
            5.223,
            4.074,
            6.057,
            7.433,
            4.845,
            6.853,
            3.832,
            5.389,
            4.918,
            2.936,
            4.921,
            6.519,
            5.272,
            3.834,
            4.824,
            7.229,
            5.736,
            6.664,
            6.263,
            6.155,
            4.898,
            6.036,
            5.487,
            4.961,
            7.119,
            5.867,
            5.792,
            4.995,
            4.971,
            6.331,
            4.725,
            7.007,
            5.385,
            6.69,
            4.898,
            5.083,
            4.635,
            6.378,
            3.678,
            4.393,
            3.875,
            5.432,
            6.518,
            7.471,
            6.7,
            4.68,
            5.085,
            5.786,
            5.037,
            4.405,
            4.86,
            5.795,
            4.174,
            4.556,
            5.317,
            5.589,
            4.097,
            4.741,
            5.474,
            3.52,
            3.946,
            4.369,
            4.768,
            4.826,
            7.406,
            3.809,
            4.263,
            5.386,
            5.397,
            6.526,
            4.931,
            6.561,
            4.381,
            7.038,
            7.101,
            4.038,
            5.173,
            4.26,
            7.564,
            7.191,
            7.788,
            6.309,
            4.181,
            6.776,
            4.255,
            4.203,
            7.382,
            5.608,
            4.434,
            4.704,
            3.746,
            5.22,
            4.846,
            5.677,
            6.554,
            4.967,
            7.426,
            3.706,
            5.945,
            5.188
           ]
          }
         ],
         "name": "2011.0"
        },
        {
         "data": [
          {
           "coloraxis": "coloraxis",
           "geo": "geo",
           "hovertemplate": "year=2012.0<br>Country name=%{location}<br>Life Ladder=%{z}<extra></extra>",
           "locationmode": "country names",
           "locations": [
            "Lebanon",
            "Slovakia",
            "Canada",
            "Cameroon",
            "Latvia",
            "Uruguay",
            "Paraguay",
            "Panama",
            "Peru",
            "Portugal",
            "Yemen",
            "Laos",
            "Cambodia",
            "Sweden",
            "Georgia",
            "Gabon",
            "Sri Lanka",
            "Taiwan Province of China",
            "New Zealand",
            "Netherlands",
            "Armenia",
            "Syria",
            "Indonesia",
            "Luxembourg",
            "Brazil",
            "Madagascar",
            "Somaliland region",
            "Chile",
            "Dominican Republic",
            "Nicaragua",
            "Argentina",
            "Nepal",
            "Australia",
            "Uganda",
            "Iran",
            "Denmark",
            "Malawi",
            "Botswana",
            "Bosnia and Herzegovina",
            "El Salvador",
            "Rwanda",
            "Angola",
            "Algeria",
            "Niger",
            "Iceland",
            "Ecuador",
            "Kenya",
            "China",
            "Malaysia",
            "Myanmar",
            "Azerbaijan",
            "Saudi Arabia",
            "Austria",
            "Spain",
            "Bulgaria",
            "Chad",
            "Kosovo",
            "India",
            "Ukraine",
            "Albania",
            "North Macedonia",
            "Hong Kong S.A.R. of China",
            "Tajikistan",
            "Cyprus",
            "Croatia",
            "Ireland",
            "Iraq",
            "Czechia",
            "Morocco",
            "Turkmenistan",
            "Ethiopia",
            "Egypt",
            "Nigeria",
            "Afghanistan",
            "United Arab Emirates",
            "Russia",
            "Honduras",
            "Estonia",
            "Hungary",
            "Lithuania",
            "Malta",
            "Japan",
            "Thailand",
            "Kazakhstan",
            "Mali",
            "Costa Rica",
            "Senegal",
            "Türkiye",
            "Libya",
            "Kyrgyzstan",
            "Kuwait",
            "Slovenia",
            "Norway",
            "Pakistan",
            "Haiti",
            "Switzerland",
            "Israel",
            "Tanzania",
            "Montenegro",
            "Mongolia",
            "Bangladesh",
            "Bahrain",
            "South Korea",
            "United Kingdom",
            "United States",
            "Romania",
            "Finland",
            "Guinea",
            "Burkina Faso",
            "Tunisia",
            "Bolivia",
            "Comoros",
            "Colombia",
            "Jordan",
            "Congo (Brazzaville)",
            "Serbia",
            "Belgium",
            "Moldova",
            "Uzbekistan",
            "Ghana",
            "State of Palestine",
            "Greece",
            "France",
            "Guatemala",
            "Qatar",
            "Belarus",
            "Italy",
            "Mauritania",
            "Benin",
            "Mexico",
            "South Africa",
            "Congo (Kinshasa)",
            "Venezuela",
            "Germany",
            "Zambia",
            "Vietnam",
            "Suriname",
            "Sudan",
            "Zimbabwe",
            "Poland",
            "Philippines"
           ],
           "name": "",
           "type": "choropleth",
           "z": [
            4.573,
            5.911,
            7.415,
            4.245,
            5.125,
            6.45,
            5.82,
            6.86,
            5.825,
            4.994,
            4.061,
            4.876,
            3.899,
            7.56,
            4.254,
            3.972,
            4.225,
            6.126,
            7.25,
            7.471,
            4.32,
            3.164,
            5.368,
            6.964,
            6.66,
            3.551,
            5.057,
            6.599,
            4.753,
            5.448,
            6.468,
            4.233,
            7.196,
            4.309,
            4.609,
            7.52,
            4.279,
            4.836,
            4.773,
            5.934,
            3.333,
            4.36,
            5.605,
            3.798,
            7.591,
            5.961,
            4.547,
            5.095,
            5.914,
            4.439,
            4.911,
            6.396,
            7.401,
            6.291,
            4.222,
            4.033,
            5.64,
            4.72,
            5.03,
            5.51,
            4.64,
            5.484,
            4.497,
            6.181,
            6.028,
            6.965,
            4.66,
            6.334,
            4.97,
            5.464,
            4.561,
            4.204,
            5.493,
            3.783,
            7.218,
            5.621,
            4.602,
            5.364,
            4.683,
            5.771,
            5.963,
            5.968,
            6.3,
            5.759,
            4.313,
            7.272,
            3.669,
            5.309,
            5.754,
            5.208,
            6.221,
            6.063,
            7.678,
            5.132,
            4.413,
            7.776,
            7.111,
            4.007,
            5.219,
            4.885,
            4.724,
            5.027,
            6.003,
            6.881,
            7.026,
            5.167,
            7.42,
            3.652,
            3.955,
            4.464,
            6.019,
            3.956,
            6.375,
            5.132,
            3.919,
            5.155,
            6.935,
            5.996,
            6.019,
            5.057,
            4.647,
            5.096,
            6.649,
            5.856,
            6.611,
            5.749,
            5.839,
            4.673,
            3.193,
            7.32,
            5.134,
            4.639,
            7.067,
            6.702,
            5.013,
            5.535,
            6.269,
            4.55,
            4.955,
            5.876,
            5.002
           ]
          }
         ],
         "name": "2012.0"
        },
        {
         "data": [
          {
           "coloraxis": "coloraxis",
           "geo": "geo",
           "hovertemplate": "year=2013.0<br>Country name=%{location}<br>Life Ladder=%{z}<extra></extra>",
           "locationmode": "country names",
           "locations": [
            "Zimbabwe",
            "Yemen",
            "Gabon",
            "State of Palestine",
            "Ghana",
            "Paraguay",
            "Panama",
            "Peru",
            "Kosovo",
            "Kyrgyzstan",
            "Slovenia",
            "Thailand",
            "Kuwait",
            "Slovakia",
            "Chile",
            "Chad",
            "Cameroon",
            "Latvia",
            "Cambodia",
            "Germany",
            "Sweden",
            "United States",
            "Romania",
            "Uruguay",
            "China",
            "Burkina Faso",
            "Trinidad and Tobago",
            "Lebanon",
            "Kazakhstan",
            "Jordan",
            "Kenya",
            "Bulgaria",
            "Lithuania",
            "Colombia",
            "Japan",
            "Luxembourg",
            "Brazil",
            "Greece",
            "France",
            "Pakistan",
            "United Kingdom",
            "Botswana",
            "Bosnia and Herzegovina",
            "South Africa",
            "Congo (Kinshasa)",
            "Congo (Brazzaville)",
            "Madagascar",
            "Singapore",
            "Ivory Coast",
            "Malaysia",
            "Turkmenistan",
            "Tunisia",
            "Malawi",
            "United Arab Emirates",
            "Guatemala",
            "Finland",
            "Russia",
            "North Macedonia",
            "Ukraine",
            "Italy",
            "Tanzania",
            "Mali",
            "Malta",
            "Sierra Leone",
            "Jamaica",
            "Benin",
            "South Korea",
            "Costa Rica",
            "Bolivia",
            "Guinea",
            "Haiti",
            "Nigeria",
            "Afghanistan",
            "Ireland",
            "Cyprus",
            "Croatia",
            "Mexico",
            "Serbia",
            "Mauritania",
            "Bhutan",
            "Iraq",
            "Czechia",
            "Israel",
            "Belgium",
            "Ethiopia",
            "Niger",
            "Albania",
            "Rwanda",
            "Angola",
            "Spain",
            "Tajikistan",
            "Moldova",
            "Belarus",
            "Bangladesh",
            "Montenegro",
            "Türkiye",
            "Iran",
            "Denmark",
            "Mongolia",
            "Bahrain",
            "Honduras",
            "Estonia",
            "New Zealand",
            "Argentina",
            "Netherlands",
            "India",
            "Dominican Republic",
            "Morocco",
            "Senegal",
            "Azerbaijan",
            "Ecuador",
            "Sri Lanka",
            "Taiwan Province of China",
            "Syria",
            "Indonesia",
            "Armenia",
            "Nicaragua",
            "El Salvador",
            "Hungary",
            "Egypt",
            "Nepal",
            "Australia",
            "Uganda",
            "Iceland",
            "Saudi Arabia",
            "Austria",
            "Myanmar",
            "Georgia",
            "Philippines",
            "Venezuela",
            "Vietnam",
            "Uzbekistan",
            "Canada",
            "Poland",
            "Zambia",
            "Portugal"
           ],
           "name": "",
           "type": "choropleth",
           "z": [
            4.69,
            4.218,
            3.8,
            4.844,
            4.965,
            5.936,
            6.866,
            5.783,
            6.126,
            5.402,
            5.975,
            6.231,
            6.48,
            5.937,
            6.74,
            3.508,
            4.271,
            5.07,
            3.674,
            6.965,
            7.434,
            7.249,
            5.082,
            6.444,
            5.241,
            3.326,
            6.168,
            4.983,
            5.835,
            5.172,
            3.795,
            3.993,
            5.596,
            6.607,
            5.959,
            7.131,
            7.14,
            4.72,
            6.667,
            5.138,
            6.918,
            4.128,
            5.124,
            3.661,
            4.497,
            3.955,
            3.816,
            6.533,
            3.739,
            5.77,
            5.392,
            5.246,
            4.035,
            6.621,
            5.985,
            7.445,
            5.537,
            5.186,
            4.711,
            6.009,
            3.852,
            3.676,
            6.38,
            4.514,
            5.709,
            3.479,
            5.959,
            7.158,
            5.767,
            3.902,
            4.622,
            4.818,
            3.572,
            6.76,
            5.439,
            5.885,
            7.443,
            5.102,
            4.199,
            5.569,
            4.725,
            6.698,
            7.321,
            7.104,
            4.445,
            3.716,
            4.551,
            3.466,
            3.937,
            6.15,
            4.967,
            5.756,
            5.876,
            4.66,
            5.074,
            4.888,
            5.14,
            7.589,
            4.913,
            6.69,
            4.713,
            5.367,
            7.28,
            6.582,
            7.407,
            4.428,
            5.016,
            5.142,
            3.647,
            5.481,
            6.019,
            4.365,
            6.34,
            2.688,
            5.292,
            4.277,
            5.772,
            6.325,
            4.914,
            3.559,
            4.605,
            7.364,
            3.71,
            7.501,
            6.495,
            7.499,
            4.176,
            4.349,
            4.977,
            6.553,
            5.023,
            5.94,
            7.594,
            5.746,
            5.244,
            5.158
           ]
          }
         ],
         "name": "2013.0"
        },
        {
         "data": [
          {
           "coloraxis": "coloraxis",
           "geo": "geo",
           "hovertemplate": "year=2014.0<br>Country name=%{location}<br>Life Ladder=%{z}<extra></extra>",
           "locationmode": "country names",
           "locations": [
            "Yemen",
            "Zimbabwe",
            "Portugal",
            "Georgia",
            "Zambia",
            "Gabon",
            "Poland",
            "Sudan",
            "Myanmar",
            "Austria",
            "Hungary",
            "Uganda",
            "Australia",
            "Nepal",
            "Egypt",
            "Hong Kong S.A.R. of China",
            "Sweden",
            "Germany",
            "Cambodia",
            "Cameroon",
            "Chad",
            "Chile",
            "Somalia",
            "Canada",
            "Kuwait",
            "Armenia",
            "India",
            "Indonesia",
            "Taiwan Province of China",
            "Ecuador",
            "Saudi Arabia",
            "Azerbaijan",
            "Türkiye",
            "Lebanon",
            "Burkina Faso",
            "Burundi",
            "China",
            "Uruguay",
            "Romania",
            "United States",
            "Senegal",
            "Namibia",
            "South Sudan",
            "Dominican Republic",
            "Netherlands",
            "Argentina",
            "New Zealand",
            "Malawi",
            "Lithuania",
            "Liberia",
            "Bulgaria",
            "Kenya",
            "Jordan",
            "Slovakia",
            "Latvia",
            "France",
            "Greece",
            "Kazakhstan",
            "Brazil",
            "Luxembourg",
            "Japan",
            "Colombia",
            "El Salvador",
            "Estonia",
            "Bahrain",
            "Mongolia",
            "Denmark",
            "Iran",
            "Singapore",
            "Madagascar",
            "Congo (Brazzaville)",
            "Congo (Kinshasa)",
            "South Africa",
            "Bosnia and Herzegovina",
            "Norway",
            "United Kingdom",
            "Pakistan",
            "Montenegro",
            "Bangladesh",
            "Belarus",
            "Moldova",
            "Tajikistan",
            "Spain",
            "Honduras",
            "Algeria",
            "Angola",
            "Rwanda",
            "Nicaragua",
            "Albania",
            "Niger",
            "Ethiopia",
            "Ireland",
            "Belgium",
            "Israel",
            "Cyprus",
            "Czechia",
            "Iraq",
            "Guatemala",
            "Finland",
            "United Arab Emirates",
            "Botswana",
            "Tunisia",
            "Turkmenistan",
            "Malaysia",
            "Ivory Coast",
            "Mauritania",
            "Serbia",
            "Mauritius",
            "Mexico",
            "Croatia",
            "Afghanistan",
            "Haiti",
            "Jamaica",
            "Sierra Leone",
            "Malta",
            "Mali",
            "Tanzania",
            "Italy",
            "Ukraine",
            "Russia",
            "North Macedonia",
            "Sri Lanka",
            "Guinea",
            "Switzerland",
            "Bhutan",
            "Bolivia",
            "Costa Rica",
            "South Korea",
            "Belize",
            "Benin",
            "Thailand",
            "Togo",
            "Venezuela",
            "Uzbekistan",
            "Paraguay",
            "Vietnam",
            "Philippines",
            "Slovenia",
            "Kyrgyzstan",
            "Kosovo",
            "Peru",
            "Panama",
            "Ghana",
            "State of Palestine"
           ],
           "name": "",
           "type": "choropleth",
           "z": [
            3.968,
            4.184,
            5.127,
            4.288,
            4.346,
            3.918,
            5.75,
            4.139,
            4.786,
            6.95,
            5.181,
            3.77,
            7.289,
            4.975,
            4.885,
            5.458,
            7.239,
            6.984,
            3.883,
            4.24,
            3.46,
            6.844,
            5.528,
            7.304,
            6.18,
            4.453,
            4.424,
            5.597,
            6.363,
            5.946,
            6.278,
            5.252,
            5.58,
            5.233,
            3.481,
            2.905,
            5.196,
            6.561,
            5.727,
            7.151,
            4.395,
            4.574,
            3.832,
            5.387,
            7.321,
            6.671,
            7.306,
            4.563,
            6.126,
            4.571,
            4.438,
            4.905,
            5.333,
            6.139,
            5.729,
            6.467,
            4.756,
            5.97,
            6.981,
            6.891,
            5.923,
            6.449,
            5.857,
            5.556,
            6.165,
            4.825,
            7.508,
            4.682,
            7.062,
            3.676,
            4.056,
            4.414,
            4.828,
            5.249,
            7.444,
            6.758,
            5.436,
            5.283,
            4.636,
            5.812,
            5.917,
            4.896,
            6.456,
            5.056,
            6.355,
            3.795,
            3.596,
            6.275,
            4.814,
            4.181,
            4.507,
            7.018,
            6.855,
            7.401,
            5.627,
            6.484,
            4.542,
            6.536,
            7.385,
            6.54,
            4.031,
            4.764,
            5.787,
            5.963,
            3.57,
            4.483,
            5.113,
            5.648,
            6.68,
            5.381,
            3.131,
            3.889,
            5.311,
            4.5,
            6.452,
            3.975,
            3.483,
            6.027,
            4.297,
            6.037,
            5.204,
            4.268,
            3.412,
            7.493,
            4.939,
            5.865,
            7.247,
            5.801,
            5.956,
            3.347,
            6.985,
            2.839,
            6.136,
            6.049,
            5.119,
            5.085,
            5.313,
            5.678,
            5.252,
            5,
            5.866,
            6.631,
            3.86,
            4.722
           ]
          }
         ],
         "name": "2014.0"
        },
        {
         "data": [
          {
           "coloraxis": "coloraxis",
           "geo": "geo",
           "hovertemplate": "year=2015.0<br>Country name=%{location}<br>Life Ladder=%{z}<extra></extra>",
           "locationmode": "country names",
           "locations": [
            "State of Palestine",
            "Panama",
            "Peru",
            "Germany",
            "Lebanon",
            "Kosovo",
            "Slovenia",
            "Kyrgyzstan",
            "Kuwait",
            "Azerbaijan",
            "Gabon",
            "Philippines",
            "Vietnam",
            "Paraguay",
            "Uzbekistan",
            "Venezuela",
            "Togo",
            "Thailand",
            "South Korea",
            "Costa Rica",
            "Bolivia",
            "Bhutan",
            "Italy",
            "Sri Lanka",
            "Haiti",
            "Ukraine",
            "Switzerland",
            "Congo (Kinshasa)",
            "Serbia",
            "Mali",
            "Malta",
            "Benin",
            "Uganda",
            "Nigeria",
            "Afghanistan",
            "Guinea",
            "Ethiopia",
            "Croatia",
            "Israel",
            "Mexico",
            "Mauritania",
            "Ivory Coast",
            "South Africa",
            "Malaysia",
            "Tunisia",
            "Madagascar",
            "Botswana",
            "Guatemala",
            "North Macedonia",
            "Czechia",
            "Cyprus",
            "Senegal",
            "Belgium",
            "Belarus",
            "Ireland",
            "Niger",
            "Albania",
            "Honduras",
            "Tajikistan",
            "Moldova",
            "Bangladesh",
            "United Kingdom",
            "Pakistan",
            "Norway",
            "United Arab Emirates",
            "Bosnia and Herzegovina",
            "Congo (Brazzaville)",
            "Malawi",
            "Iraq",
            "Turkmenistan",
            "Mozambique",
            "Indonesia",
            "Denmark",
            "Mongolia",
            "Bahrain",
            "Spain",
            "Estonia",
            "El Salvador",
            "Colombia",
            "Japan",
            "Tanzania",
            "Sierra Leone",
            "Luxembourg",
            "Brazil",
            "Ghana",
            "France",
            "Finland",
            "Latvia",
            "Slovakia",
            "Jordan",
            "Kenya",
            "Bulgaria",
            "Libya",
            "Liberia",
            "Lithuania",
            "New Zealand",
            "Argentina",
            "Nicaragua",
            "Netherlands",
            "Dominican Republic",
            "South Sudan",
            "Iran",
            "Morocco",
            "Rwanda",
            "United States",
            "Romania",
            "Qatar",
            "Uruguay",
            "Greece",
            "Kazakhstan",
            "China",
            "Singapore",
            "Burkina Faso",
            "Montenegro",
            "Türkiye",
            "Saudi Arabia",
            "Taiwan Province of China",
            "Syria",
            "India",
            "Armenia",
            "Russia",
            "Canada",
            "Somalia",
            "Chile",
            "Chad",
            "Cameroon",
            "Cambodia",
            "Sweden",
            "Egypt",
            "Nepal",
            "Iceland",
            "Hungary",
            "Ecuador",
            "Austria",
            "Australia",
            "Myanmar",
            "Poland",
            "Zambia",
            "Portugal",
            "Zimbabwe",
            "Georgia",
            "Yemen"
           ],
           "name": "",
           "type": "choropleth",
           "z": [
            4.695,
            6.606,
            5.577,
            7.037,
            5.172,
            5.077,
            5.741,
            4.905,
            6.146,
            5.147,
            4.661,
            5.547,
            5.076,
            5.56,
            5.972,
            5.569,
            3.768,
            6.202,
            5.78,
            6.854,
            5.834,
            5.082,
            5.848,
            4.612,
            3.57,
            3.965,
            7.572,
            3.903,
            5.318,
            4.582,
            6.613,
            3.625,
            4.238,
            4.933,
            3.983,
            3.505,
            4.573,
            5.205,
            7.079,
            6.236,
            3.923,
            4.445,
            4.887,
            6.322,
            5.132,
            3.593,
            3.762,
            6.465,
            4.976,
            6.608,
            5.439,
            4.617,
            6.904,
            5.719,
            6.83,
            3.671,
            4.607,
            4.845,
            5.124,
            6.017,
            4.633,
            6.515,
            4.823,
            7.603,
            6.568,
            5.117,
            4.691,
            3.868,
            4.493,
            5.791,
            4.55,
            5.043,
            7.514,
            4.983,
            6.007,
            6.381,
            5.629,
            6.018,
            6.388,
            5.88,
            3.661,
            4.909,
            6.702,
            6.547,
            3.986,
            6.358,
            7.448,
            5.881,
            6.162,
            5.405,
            4.358,
            4.865,
            5.615,
            2.702,
            5.711,
            7.418,
            6.697,
            5.924,
            7.324,
            5.062,
            4.071,
            4.75,
            5.163,
            3.483,
            6.864,
            5.777,
            6.375,
            6.628,
            5.623,
            5.95,
            5.304,
            6.62,
            4.419,
            5.125,
            5.514,
            6.345,
            6.45,
            3.462,
            4.342,
            4.348,
            5.996,
            7.413,
            5.354,
            6.533,
            4.323,
            5.038,
            4.162,
            7.289,
            4.763,
            4.812,
            7.498,
            5.344,
            5.964,
            7.076,
            7.309,
            4.224,
            6.007,
            4.843,
            5.081,
            3.703,
            4.122,
            2.983
           ]
          }
         ],
         "name": "2015.0"
        },
        {
         "data": [
          {
           "coloraxis": "coloraxis",
           "geo": "geo",
           "hovertemplate": "year=2016.0<br>Country name=%{location}<br>Life Ladder=%{z}<extra></extra>",
           "locationmode": "country names",
           "locations": [
            "Venezuela",
            "Uzbekistan",
            "Paraguay",
            "Kosovo",
            "Central African Republic",
            "Cambodia",
            "Moldova",
            "Iraq",
            "Tajikistan",
            "Czechia",
            "South Sudan",
            "Montenegro",
            "Türkiye",
            "Bahrain",
            "Mongolia",
            "Belgium",
            "Senegal",
            "Denmark",
            "Indonesia",
            "Turkmenistan",
            "Cyprus",
            "Bangladesh",
            "Germany",
            "Peru",
            "Panama",
            "Chad",
            "Chile",
            "Somalia",
            "Slovakia",
            "Latvia",
            "Ghana",
            "Saudi Arabia",
            "Azerbaijan",
            "Myanmar",
            "Morocco",
            "Iran",
            "Dominican Republic",
            "Ireland",
            "Belarus",
            "Uruguay",
            "Romania",
            "United States",
            "Greece",
            "France",
            "Sweden",
            "Burkina Faso",
            "Lebanon",
            "Singapore",
            "Kenya",
            "Norway",
            "Pakistan",
            "United Kingdom",
            "Finland",
            "China",
            "Kazakhstan",
            "Lithuania",
            "Rwanda",
            "Ecuador",
            "Mauritius",
            "Mexico",
            "Israel",
            "Croatia",
            "India",
            "Taiwan Province of China",
            "Lesotho",
            "Liberia",
            "Guatemala",
            "United Arab Emirates",
            "Bulgaria",
            "Togo",
            "Libya",
            "Haiti",
            "Iceland",
            "Nepal",
            "Costa Rica",
            "South Korea",
            "Benin",
            "Australia",
            "Austria",
            "Hong Kong S.A.R. of China",
            "Armenia",
            "Congo (Kinshasa)",
            "Italy",
            "Mauritania",
            "Bolivia",
            "Serbia",
            "Hungary",
            "Switzerland",
            "Ukraine",
            "Jordan",
            "Brazil",
            "Luxembourg",
            "Tanzania",
            "Ethiopia",
            "New Zealand",
            "El Salvador",
            "Ivory Coast",
            "Malta",
            "Mali",
            "Spain",
            "Egypt",
            "Guinea",
            "North Macedonia",
            "Afghanistan",
            "Nigeria",
            "Uganda",
            "Japan",
            "Colombia",
            "Malawi",
            "Sierra Leone",
            "Algeria",
            "Russia",
            "Tunisia",
            "South Africa",
            "Netherlands",
            "Nicaragua",
            "Argentina",
            "Botswana",
            "Niger",
            "Albania",
            "Estonia",
            "Congo (Brazzaville)",
            "Bosnia and Herzegovina",
            "Madagascar",
            "Honduras",
            "Georgia",
            "Yemen",
            "Canada",
            "Cameroon",
            "Slovenia",
            "Kyrgyzstan",
            "Kuwait",
            "State of Palestine",
            "Portugal",
            "Zambia",
            "Poland",
            "Zimbabwe",
            "Thailand",
            "Vietnam",
            "Philippines",
            "Gabon"
           ],
           "name": "",
           "type": "choropleth",
           "z": [
            4.041,
            5.893,
            5.801,
            5.759,
            2.693,
            4.461,
            5.578,
            4.413,
            5.104,
            6.736,
            2.888,
            5.304,
            5.326,
            6.17,
            5.057,
            6.949,
            4.595,
            7.558,
            5.136,
            5.887,
            5.795,
            4.556,
            6.874,
            5.701,
            6.118,
            4.029,
            6.579,
            4.668,
            5.993,
            5.94,
            4.514,
            6.474,
            5.304,
            4.623,
            5.386,
            4.653,
            5.239,
            7.041,
            5.178,
            6.171,
            5.969,
            6.804,
            5.303,
            6.475,
            7.369,
            4.206,
            5.271,
            6.033,
            4.396,
            7.596,
            5.549,
            6.824,
            7.66,
            5.325,
            5.534,
            5.866,
            3.333,
            6.115,
            5.61,
            6.824,
            7.159,
            5.417,
            4.179,
            6.513,
            3.808,
            3.355,
            6.359,
            6.831,
            4.838,
            3.879,
            5.434,
            3.352,
            7.51,
            5.1,
            7.136,
            5.971,
            4.007,
            7.25,
            7.048,
            5.498,
            4.325,
            4.522,
            5.955,
            4.472,
            5.77,
            5.753,
            5.449,
            7.459,
            4.029,
            5.271,
            6.375,
            6.967,
            2.903,
            4.298,
            7.226,
            6.14,
            4.543,
            6.591,
            4.016,
            6.319,
            4.557,
            3.603,
            5.346,
            4.22,
            5.22,
            4.233,
            5.955,
            6.234,
            3.476,
            4.733,
            5.341,
            5.855,
            4.521,
            4.77,
            7.541,
            6.013,
            6.427,
            3.499,
            4.235,
            4.511,
            5.65,
            4.119,
            5.181,
            3.663,
            5.648,
            4.448,
            3.826,
            7.245,
            4.816,
            5.937,
            4.857,
            5.947,
            4.907,
            5.447,
            4.348,
            6.162,
            3.735,
            6.074,
            5.062,
            5.431,
            4.832
           ]
          }
         ],
         "name": "2016.0"
        },
        {
         "data": [
          {
           "coloraxis": "coloraxis",
           "geo": "geo",
           "hovertemplate": "year=2017.0<br>Country name=%{location}<br>Life Ladder=%{z}<extra></extra>",
           "locationmode": "country names",
           "locations": [
            "Gambia",
            "Gabon",
            "Peru",
            "Vietnam",
            "Portugal",
            "Thailand",
            "Poland",
            "Zambia",
            "Kuwait",
            "Kyrgyzstan",
            "Slovakia",
            "Cameroon",
            "Canada",
            "Yemen",
            "Georgia",
            "Zimbabwe",
            "Bosnia and Herzegovina",
            "Congo (Brazzaville)",
            "Colombia",
            "Botswana",
            "Estonia",
            "Albania",
            "Niger",
            "Sierra Leone",
            "Nicaragua",
            "Türkiye",
            "South Africa",
            "Tunisia",
            "Madagascar",
            "Uganda",
            "Russia",
            "Algeria",
            "Honduras",
            "Malawi",
            "Japan",
            "Tanzania",
            "Nigeria",
            "Afghanistan",
            "Guinea",
            "Ethiopia",
            "Spain",
            "Tajikistan",
            "Mali",
            "Malta",
            "Jamaica",
            "Ivory Coast",
            "El Salvador",
            "New Zealand",
            "Argentina",
            "Luxembourg",
            "Brazil",
            "Jordan",
            "Slovenia",
            "Switzerland",
            "Romania",
            "Ukraine",
            "Sri Lanka",
            "Haiti",
            "Serbia",
            "Bolivia",
            "Mauritania",
            "Israel",
            "Congo (Kinshasa)",
            "Armenia",
            "Hong Kong S.A.R. of China",
            "Egypt",
            "Australia",
            "Benin",
            "South Korea",
            "Costa Rica",
            "Italy",
            "Nepal",
            "Netherlands",
            "Iceland",
            "Hungary",
            "Libya",
            "Togo",
            "Bulgaria",
            "North Macedonia",
            "United Arab Emirates",
            "Guatemala",
            "Liberia",
            "Lesotho",
            "India",
            "Dominican Republic",
            "Croatia",
            "Mauritius",
            "Senegal",
            "Ecuador",
            "Rwanda",
            "Austria",
            "Lithuania",
            "Kazakhstan",
            "China",
            "Finland",
            "United Kingdom",
            "Pakistan",
            "United States",
            "Norway",
            "Chile",
            "Kenya",
            "Singapore",
            "Burkina Faso",
            "Trinidad and Tobago",
            "Greece",
            "Uruguay",
            "Belarus",
            "Moldova",
            "Ireland",
            "Morocco",
            "Namibia",
            "Myanmar",
            "Azerbaijan",
            "Taiwan Province of China",
            "Ghana",
            "Latvia",
            "Lebanon",
            "Chad",
            "Germany",
            "Uzbekistan",
            "Panama",
            "Bangladesh",
            "Cyprus",
            "Saudi Arabia",
            "Turkmenistan",
            "Mozambique",
            "Indonesia",
            "Denmark",
            "Mexico",
            "Belgium",
            "Mongolia",
            "Bahrain",
            "Montenegro",
            "Iran",
            "South Sudan",
            "Czechia",
            "Iraq",
            "France",
            "Sweden",
            "Laos",
            "Cambodia",
            "Central African Republic",
            "Kosovo",
            "Paraguay",
            "Venezuela",
            "Philippines",
            "State of Palestine"
           ],
           "name": "",
           "type": "choropleth",
           "z": [
            4.118,
            4.782,
            5.711,
            5.175,
            5.711,
            5.939,
            6.201,
            3.933,
            6.094,
            5.63,
            6.366,
            5.074,
            7.415,
            3.254,
            4.451,
            3.638,
            5.09,
            4.884,
            6.157,
            3.505,
            5.938,
            4.64,
            4.616,
            4.09,
            6.476,
            5.607,
            4.514,
            4.124,
            4.079,
            4.001,
            5.579,
            5.249,
            6.02,
            3.417,
            5.911,
            3.347,
            5.322,
            2.662,
            4.874,
            4.18,
            6.23,
            5.829,
            4.742,
            6.676,
            5.89,
            5.038,
            6.339,
            7.327,
            6.039,
            7.061,
            6.333,
            4.808,
            6.167,
            7.474,
            6.09,
            4.311,
            4.331,
            3.824,
            5.122,
            5.651,
            4.678,
            7.331,
            4.311,
            4.288,
            5.362,
            3.929,
            7.257,
            4.853,
            5.874,
            7.225,
            6.199,
            4.737,
            7.459,
            7.476,
            6.065,
            5.647,
            4.361,
            5.097,
            5.234,
            7.039,
            6.325,
            4.424,
            3.795,
            4.046,
            5.605,
            5.343,
            6.174,
            4.683,
            5.84,
            3.108,
            7.294,
            6.273,
            5.882,
            5.099,
            7.788,
            7.103,
            5.831,
            6.992,
            7.579,
            6.32,
            4.476,
            6.378,
            4.647,
            6.192,
            5.148,
            6.336,
            5.553,
            5.326,
            7.06,
            5.312,
            4.441,
            4.154,
            5.152,
            6.359,
            5.481,
            5.978,
            5.154,
            4.559,
            7.074,
            6.421,
            6.568,
            4.31,
            6.062,
            6.294,
            5.229,
            4.28,
            5.098,
            7.594,
            6.41,
            6.928,
            5.334,
            6.227,
            5.615,
            4.717,
            2.817,
            6.79,
            4.462,
            6.635,
            7.287,
            4.623,
            4.586,
            3.476,
            6.149,
            5.713,
            5.071,
            5.594,
            4.628
           ]
          }
         ],
         "name": "2017.0"
        },
        {
         "data": [
          {
           "coloraxis": "coloraxis",
           "geo": "geo",
           "hovertemplate": "year=2018.0<br>Country name=%{location}<br>Life Ladder=%{z}<extra></extra>",
           "locationmode": "country names",
           "locations": [
            "Zimbabwe",
            "Germany",
            "Vietnam",
            "State of Palestine",
            "Georgia",
            "Thailand",
            "Portugal",
            "Peru",
            "Gabon",
            "Gambia",
            "Kyrgyzstan",
            "Namibia",
            "Morocco",
            "Panama",
            "Uzbekistan",
            "Chad",
            "Slovenia",
            "Singapore",
            "Indonesia",
            "Turkmenistan",
            "Uruguay",
            "Burkina Faso",
            "Burundi",
            "Kenya",
            "Laos",
            "Sweden",
            "France",
            "Croatia",
            "Ireland",
            "Moldova",
            "Belarus",
            "Iran",
            "Denmark",
            "Mexico",
            "Mauritius",
            "Dominican Republic",
            "United Kingdom",
            "Chile",
            "China",
            "Liberia",
            "Ethiopia",
            "Greece",
            "Lebanon",
            "Latvia",
            "Finland",
            "Ghana",
            "India",
            "Taiwan Province of China",
            "Azerbaijan",
            "Saudi Arabia",
            "Myanmar",
            "Belgium",
            "Benin",
            "Mozambique",
            "Australia",
            "Austria",
            "Rwanda",
            "Malta",
            "Senegal",
            "Ecuador",
            "Hungary",
            "North Macedonia",
            "Brazil",
            "Bulgaria",
            "Togo",
            "Libya",
            "Kazakhstan",
            "Norway",
            "United States",
            "Pakistan",
            "Netherlands",
            "Türkiye",
            "Serbia",
            "Italy",
            "Costa Rica",
            "South Korea",
            "Tajikistan",
            "Nepal",
            "Romania",
            "Switzerland",
            "Jordan",
            "Lithuania",
            "Luxembourg",
            "Guatemala",
            "United Arab Emirates",
            "Spain",
            "Egypt",
            "New Zealand",
            "Israel",
            "Mauritania",
            "Bolivia",
            "Maldives",
            "South Africa",
            "Tanzania",
            "Japan",
            "Malawi",
            "Sierra Leone",
            "Uganda",
            "Sri Lanka",
            "Ukraine",
            "Eswatini",
            "Botswana",
            "Colombia",
            "Comoros",
            "Congo (Brazzaville)",
            "Bosnia and Herzegovina",
            "Guinea",
            "Afghanistan",
            "Nigeria",
            "Armenia",
            "Nicaragua",
            "Argentina",
            "El Salvador",
            "Ivory Coast",
            "Mali",
            "Haiti",
            "Honduras",
            "Albania",
            "Algeria",
            "Russia",
            "Madagascar",
            "Tunisia",
            "Malaysia",
            "Niger",
            "Estonia",
            "Philippines",
            "Venezuela",
            "Kosovo",
            "Canada",
            "Cambodia",
            "Yemen",
            "Zambia",
            "Poland",
            "Cyprus",
            "Bangladesh",
            "Iraq",
            "Czechia",
            "Montenegro",
            "Mongolia",
            "Slovakia",
            "Cameroon"
           ],
           "name": "",
           "type": "choropleth",
           "z": [
            3.616,
            7.118,
            5.296,
            4.554,
            4.659,
            6.012,
            5.92,
            5.68,
            4.783,
            4.922,
            5.297,
            4.834,
            4.897,
            6.281,
            6.205,
            4.486,
            6.249,
            6.375,
            5.34,
            4.621,
            6.372,
            4.927,
            3.775,
            4.656,
            4.859,
            7.375,
            6.666,
            5.536,
            6.962,
            5.682,
            5.234,
            4.278,
            7.649,
            6.55,
            5.882,
            5.433,
            7.233,
            6.436,
            5.131,
            4.135,
            4.379,
            5.409,
            5.167,
            5.901,
            7.858,
            5.004,
            3.818,
            6.467,
            5.168,
            6.356,
            4.411,
            6.892,
            5.82,
            4.654,
            7.177,
            7.396,
            3.561,
            6.91,
            4.769,
            6.128,
            5.936,
            5.24,
            6.191,
            5.099,
            4.023,
            5.494,
            6.008,
            7.444,
            6.883,
            5.472,
            7.463,
            5.186,
            5.936,
            6.517,
            7.141,
            5.84,
            5.497,
            4.91,
            6.151,
            7.509,
            4.639,
            6.309,
            7.243,
            6.627,
            6.604,
            6.513,
            4.005,
            7.37,
            6.927,
            4.314,
            5.916,
            5.198,
            4.884,
            3.445,
            5.794,
            3.335,
            4.306,
            4.322,
            4.435,
            4.662,
            4.212,
            3.461,
            5.984,
            3.973,
            5.49,
            5.887,
            5.252,
            2.694,
            5.252,
            5.062,
            5.819,
            5.793,
            6.241,
            5.268,
            4.416,
            3.615,
            5.908,
            5.004,
            5.043,
            5.514,
            4.071,
            4.741,
            5.339,
            5.164,
            6.091,
            5.869,
            5.006,
            6.392,
            7.175,
            5.122,
            3.058,
            4.041,
            6.111,
            6.276,
            4.499,
            4.886,
            7.034,
            5.65,
            5.465,
            6.235,
            5.251
           ]
          }
         ],
         "name": "2018.0"
        },
        {
         "data": [
          {
           "coloraxis": "coloraxis",
           "geo": "geo",
           "hovertemplate": "year=2019.0<br>Country name=%{location}<br>Life Ladder=%{z}<extra></extra>",
           "locationmode": "country names",
           "locations": [
            "Vietnam",
            "Cameroon",
            "Slovakia",
            "Bahrain",
            "Bangladesh",
            "Mongolia",
            "Taiwan Province of China",
            "Cyprus",
            "Yemen",
            "Philippines",
            "Kyrgyzstan",
            "Cambodia",
            "Canada",
            "Kosovo",
            "Venezuela",
            "France",
            "Honduras",
            "Niger",
            "Nicaragua",
            "Malawi",
            "Tunisia",
            "Madagascar",
            "Russia",
            "Algeria",
            "Albania",
            "El Salvador",
            "Bosnia and Herzegovina",
            "Mali",
            "Serbia",
            "Ivory Coast",
            "Argentina",
            "Armenia",
            "Afghanistan",
            "Luxembourg",
            "Congo (Brazzaville)",
            "Comoros",
            "Colombia",
            "Eswatini",
            "Estonia",
            "Norway",
            "Sri Lanka",
            "Kazakhstan",
            "Uganda",
            "Sierra Leone",
            "Japan",
            "Tanzania",
            "Guinea",
            "Nigeria",
            "Italy",
            "South Africa",
            "Malaysia",
            "Mauritania",
            "Israel",
            "New Zealand",
            "Hong Kong S.A.R. of China",
            "Egypt",
            "United Kingdom",
            "Guatemala",
            "Greece",
            "Lithuania",
            "Botswana",
            "China",
            "Jordan",
            "Romania",
            "Ukraine",
            "Nepal",
            "Tajikistan",
            "Jamaica",
            "South Korea",
            "Costa Rica",
            "Türkiye",
            "Netherlands",
            "Iceland",
            "Pakistan",
            "United States",
            "Libya",
            "Bulgaria",
            "Brazil",
            "Liberia",
            "United Arab Emirates",
            "Hungary",
            "Ecuador",
            "Bolivia",
            "Senegal",
            "Malta",
            "Benin",
            "Rwanda",
            "Australia",
            "Mozambique",
            "Azerbaijan",
            "Belgium",
            "Myanmar",
            "Saudi Arabia",
            "Austria",
            "Spain",
            "India",
            "Dominican Republic",
            "Finland",
            "Ethiopia",
            "Switzerland",
            "Lesotho",
            "Lebanon",
            "Chile",
            "Mauritius",
            "Mexico",
            "Denmark",
            "Iran",
            "Belarus",
            "Moldova",
            "Croatia",
            "Sweden",
            "Laos",
            "North Macedonia",
            "Kenya",
            "Burkina Faso",
            "Togo",
            "Latvia",
            "Uruguay",
            "Ghana",
            "Ireland",
            "Turkmenistan",
            "Indonesia",
            "Singapore",
            "Slovenia",
            "Chad",
            "Uzbekistan",
            "Panama",
            "Paraguay",
            "Morocco",
            "Montenegro",
            "Namibia",
            "Gabon",
            "Peru",
            "Portugal",
            "Thailand",
            "Poland",
            "Georgia",
            "State of Palestine",
            "Zimbabwe",
            "Zambia",
            "Germany",
            "Gambia",
            "Kuwait"
           ],
           "name": "",
           "type": "choropleth",
           "z": [
            5.467,
            4.937,
            6.243,
            7.098,
            5.114,
            5.563,
            6.537,
            6.137,
            4.197,
            6.268,
            5.685,
            4.998,
            7.109,
            6.425,
            5.081,
            6.69,
            5.93,
            5.004,
            6.113,
            3.869,
            4.315,
            4.339,
            5.441,
            4.745,
            4.995,
            6.455,
            6.016,
            4.988,
            6.241,
            5.392,
            6.086,
            5.488,
            2.375,
            7.404,
            5.213,
            4.609,
            6.35,
            4.396,
            6.035,
            7.442,
            4.213,
            6.272,
            4.948,
            3.447,
            5.908,
            3.64,
            4.768,
            4.266,
            6.445,
            5.035,
            5.428,
            4.153,
            7.332,
            7.205,
            5.659,
            4.328,
            7.157,
            6.262,
            5.952,
            6.064,
            3.471,
            5.144,
            4.453,
            6.13,
            4.702,
            5.449,
            5.464,
            6.309,
            5.903,
            6.998,
            4.872,
            7.425,
            7.533,
            4.443,
            6.944,
            5.33,
            5.108,
            6.451,
            5.121,
            6.711,
            6,
            5.809,
            5.674,
            5.489,
            6.733,
            4.976,
            3.268,
            7.234,
            4.932,
            5.173,
            6.772,
            4.434,
            6.561,
            7.195,
            6.457,
            3.249,
            6.004,
            7.78,
            4.1,
            7.694,
            3.512,
            4.024,
            5.942,
            6.241,
            6.432,
            7.693,
            5.006,
            5.821,
            5.803,
            5.626,
            7.398,
            5.197,
            5.015,
            4.619,
            4.741,
            4.179,
            5.97,
            6.6,
            4.967,
            7.255,
            5.474,
            5.347,
            6.378,
            6.665,
            4.251,
            6.154,
            6.086,
            5.653,
            5.057,
            5.386,
            4.436,
            4.914,
            5.999,
            6.095,
            6.022,
            6.242,
            4.892,
            4.483,
            2.694,
            3.307,
            7.035,
            5.164,
            6.106
           ]
          }
         ],
         "name": "2019.0"
        },
        {
         "data": [
          {
           "coloraxis": "coloraxis",
           "geo": "geo",
           "hovertemplate": "year=2020.0<br>Country name=%{location}<br>Life Ladder=%{z}<extra></extra>",
           "locationmode": "country names",
           "locations": [
            "Zimbabwe",
            "Poland",
            "Zambia",
            "Portugal",
            "United States",
            "Uruguay",
            "Uzbekistan",
            "Pakistan",
            "Colombia",
            "China",
            "North Macedonia",
            "Tanzania",
            "Cyprus",
            "Croatia",
            "Taiwan Province of China",
            "Norway",
            "Nepal",
            "Egypt",
            "Dominican Republic",
            "Ecuador",
            "Namibia",
            "Myanmar",
            "Czechia",
            "Denmark",
            "New Zealand",
            "United Kingdom",
            "Netherlands",
            "United Arab Emirates",
            "Nicaragua",
            "Russia",
            "Nigeria",
            "Romania",
            "Cameroon",
            "Mauritius",
            "Sweden",
            "Malta",
            "Thailand",
            "Serbia",
            "Canada",
            "France",
            "Australia",
            "Malaysia",
            "Lithuania",
            "Argentina",
            "Austria",
            "Türkiye",
            "Mali",
            "Finland",
            "Mongolia",
            "Ethiopia",
            "Estonia",
            "Switzerland",
            "Mexico",
            "Senegal",
            "Moldova",
            "El Salvador",
            "Morocco",
            "Algeria",
            "Uganda",
            "Albania",
            "Saudi Arabia",
            "Montenegro",
            "Ukraine",
            "Ghana",
            "Jamaica",
            "Belgium",
            "Bahrain",
            "Bangladesh",
            "Kosovo",
            "Jordan",
            "Slovenia",
            "Kenya",
            "Kazakhstan",
            "Hong Kong S.A.R. of China",
            "South Africa",
            "Ivory Coast",
            "Bosnia and Herzegovina",
            "Tunisia",
            "Israel",
            "Italy",
            "Paraguay",
            "Costa Rica",
            "Congo (Brazzaville)",
            "Tajikistan",
            "Peru",
            "Chile",
            "Ireland",
            "South Korea",
            "Iran",
            "India",
            "Vietnam",
            "Philippines",
            "Iraq",
            "Indonesia",
            "Bolivia",
            "Venezuela",
            "Benin",
            "Sri Lanka",
            "Cambodia",
            "Greece",
            "Burkina Faso",
            "Slovakia",
            "Brazil",
            "Bulgaria",
            "Kyrgyzstan",
            "Lebanon",
            "Laos",
            "Guinea",
            "Iceland",
            "Hungary",
            "Spain",
            "Japan",
            "Georgia",
            "Gabon",
            "Germany",
            "Latvia"
           ],
           "name": "",
           "type": "choropleth",
           "z": [
            3.16,
            6.139,
            4.838,
            5.768,
            7.028,
            6.31,
            5.842,
            4.624,
            5.709,
            5.771,
            5.054,
            3.786,
            6.26,
            6.508,
            6.751,
            7.29,
            5.982,
            4.472,
            5.168,
            5.354,
            4.451,
            4.431,
            6.897,
            7.515,
            7.257,
            6.798,
            7.504,
            6.458,
            6.287,
            5.495,
            5.503,
            6.785,
            5.241,
            6.015,
            7.314,
            6.157,
            5.885,
            6.042,
            7.025,
            6.714,
            7.137,
            6.014,
            6.391,
            5.901,
            7.213,
            4.862,
            4.269,
            7.889,
            6.011,
            4.549,
            6.453,
            7.508,
            5.964,
            4.757,
            5.812,
            5.462,
            4.803,
            5.438,
            4.641,
            5.365,
            6.56,
            5.722,
            5.27,
            5.319,
            5.425,
            6.839,
            6.173,
            5.28,
            6.294,
            4.094,
            6.462,
            4.547,
            6.168,
            5.295,
            4.947,
            5.257,
            5.516,
            4.731,
            7.195,
            6.488,
            5.501,
            6.338,
            5.079,
            5.373,
            4.994,
            6.151,
            7.035,
            5.793,
            4.865,
            4.224,
            5.462,
            5.08,
            4.785,
            4.828,
            5.559,
            4.574,
            4.408,
            4.778,
            4.377,
            5.788,
            4.64,
            6.519,
            6.11,
            5.598,
            6.25,
            2.634,
            5.284,
            4.972,
            7.575,
            6.038,
            6.502,
            6.118,
            5.123,
            4.887,
            7.312,
            6.229
           ]
          }
         ],
         "name": "2020.0"
        },
        {
         "data": [
          {
           "coloraxis": "coloraxis",
           "geo": "geo",
           "hovertemplate": "year=2021.0<br>Country name=%{location}<br>Life Ladder=%{z}<extra></extra>",
           "locationmode": "country names",
           "locations": [
            "Myanmar",
            "Taiwan Province of China",
            "Denmark",
            "Dominican Republic",
            "New Zealand",
            "Russia",
            "Nigeria",
            "Czechia",
            "Egypt",
            "Namibia",
            "Ecuador",
            "Romania",
            "Lithuania",
            "Sierra Leone",
            "Malawi",
            "Armenia",
            "Argentina",
            "Mali",
            "Australia",
            "Türkiye",
            "Malaysia",
            "Sweden",
            "Mauritius",
            "Malta",
            "Thailand",
            "Canada",
            "Cameroon",
            "Serbia",
            "Finland",
            "Albania",
            "Mongolia",
            "Algeria",
            "Morocco",
            "Ukraine",
            "Mozambique",
            "Saudi Arabia",
            "Estonia",
            "Switzerland",
            "Afghanistan",
            "Cambodia",
            "Moldova",
            "El Salvador",
            "Mexico",
            "Senegal",
            "Uganda",
            "North Macedonia",
            "China",
            "Tanzania",
            "Cyprus",
            "Norway",
            "Croatia",
            "Colombia",
            "Panama",
            "Portugal",
            "Poland",
            "Zimbabwe",
            "Uzbekistan",
            "Pakistan",
            "United States",
            "Uruguay",
            "Nepal",
            "United Arab Emirates",
            "Netherlands",
            "United Kingdom",
            "Nicaragua",
            "Slovakia",
            "Kosovo",
            "Burkina Faso",
            "Gabon",
            "Georgia",
            "Bulgaria",
            "Brazil",
            "Togo",
            "Kyrgyzstan",
            "Greece",
            "Germany",
            "Jamaica",
            "South Africa",
            "Sri Lanka",
            "Guinea",
            "Honduras",
            "Japan",
            "Hungary",
            "Hong Kong S.A.R. of China",
            "Spain",
            "Austria",
            "Belgium",
            "Bangladesh",
            "Slovenia",
            "Kenya",
            "Kazakhstan",
            "Jordan",
            "Laos",
            "Latvia",
            "Lebanon",
            "Singapore",
            "France",
            "Ghana",
            "Bolivia",
            "Iraq",
            "Indonesia",
            "Tunisia",
            "Ireland",
            "Bosnia and Herzegovina",
            "Italy",
            "Ivory Coast",
            "Israel",
            "South Korea",
            "Venezuela",
            "Vietnam",
            "Iceland",
            "Philippines",
            "India",
            "Benin",
            "Iran",
            "Paraguay",
            "Costa Rica",
            "Chile",
            "Peru",
            "Tajikistan",
            "Congo (Brazzaville)",
            "Zambia"
           ],
           "name": "",
           "type": "choropleth",
           "z": [
            4.314,
            6.247,
            7.699,
            6.031,
            7.137,
            5.448,
            4.479,
            6.942,
            4.026,
            4.491,
            5.435,
            6.549,
            6.865,
            3.714,
            3.635,
            5.301,
            5.908,
            4.113,
            7.112,
            4.367,
            6.01,
            7.439,
            5.949,
            6.444,
            5.638,
            6.939,
            4.963,
            6.245,
            7.794,
            5.255,
            5.721,
            5.217,
            5.326,
            5.311,
            5.178,
            6.445,
            6.554,
            7.328,
            2.436,
            4.555,
            5.959,
            6.431,
            5.991,
            4.903,
            4.225,
            5.535,
            5.863,
            3.681,
            6.269,
            7.362,
            6.287,
            5.29,
            6.553,
            6.183,
            5.978,
            3.155,
            6.185,
            4.487,
            6.959,
            6.502,
            4.622,
            6.733,
            7.314,
            6.867,
            6.095,
            6.419,
            6.648,
            4.636,
            5.075,
            4.911,
            5.422,
            6.01,
            4.037,
            5.564,
            6.104,
            6.755,
            5.814,
            5.599,
            4.103,
            4.945,
            6.114,
            6.091,
            6.227,
            5.322,
            6.47,
            7.08,
            6.882,
            4.123,
            6.761,
            4.465,
            6.26,
            3.909,
            4.927,
            6.353,
            2.179,
            6.587,
            6.656,
            4.378,
            5.569,
            5.094,
            5.433,
            4.499,
            6.828,
            5.749,
            6.467,
            5.056,
            7.578,
            6.113,
            5.108,
            5.54,
            7.565,
            5.965,
            3.558,
            4.493,
            4.788,
            5.576,
            6.408,
            6.436,
            5.694,
            5.287,
            4.921,
            3.082
           ]
          }
         ],
         "name": "2021.0"
        },
        {
         "data": [
          {
           "coloraxis": "coloraxis",
           "geo": "geo",
           "hovertemplate": "year=2022.0<br>Country name=%{location}<br>Life Ladder=%{z}<extra></extra>",
           "locationmode": "country names",
           "locations": [
            "Zambia",
            "Zimbabwe",
            "Comoros",
            "Congo (Brazzaville)",
            "Tajikistan",
            "Congo (Kinshasa)",
            "Costa Rica",
            "Panama",
            "Paraguay",
            "Peru",
            "Venezuela",
            "Yemen",
            "Vietnam",
            "Spain",
            "Iceland",
            "India",
            "Indonesia",
            "South Korea",
            "Iran",
            "Benin",
            "Bolivia",
            "Tunisia",
            "Bosnia and Herzegovina",
            "Botswana",
            "Iraq",
            "Ireland",
            "Israel",
            "Italy",
            "Ivory Coast",
            "Jamaica",
            "South Africa",
            "Sri Lanka",
            "Guinea",
            "Honduras",
            "Hong Kong S.A.R. of China",
            "Hungary",
            "Japan",
            "Jordan",
            "Kazakhstan",
            "Slovenia",
            "Kenya",
            "Austria",
            "Azerbaijan",
            "Bangladesh",
            "Belgium",
            "Kosovo",
            "Kuwait",
            "Brazil",
            "Bulgaria",
            "Togo",
            "Greece",
            "Guatemala",
            "Slovakia",
            "Kyrgyzstan",
            "Laos",
            "Latvia",
            "Singapore",
            "Lebanon",
            "Lesotho",
            "France",
            "Gabon",
            "Gambia",
            "Georgia",
            "State of Palestine",
            "Germany",
            "Ghana",
            "Liberia",
            "Libya",
            "Lithuania",
            "Luxembourg",
            "Sierra Leone",
            "Madagascar",
            "Malawi",
            "Argentina",
            "Armenia",
            "Türkiye",
            "Australia",
            "Malaysia",
            "Mali",
            "Serbia",
            "Cameroon",
            "Thailand",
            "Canada",
            "Chad",
            "Finland",
            "Sweden",
            "Malta",
            "Mauritania",
            "Mauritius",
            "Senegal",
            "Mexico",
            "Moldova",
            "Egypt",
            "El Salvador",
            "Estonia",
            "Eswatini",
            "Switzerland",
            "Ethiopia",
            "Cambodia",
            "Ukraine",
            "Afghanistan",
            "Uganda",
            "Albania",
            "Algeria",
            "Mongolia",
            "Saudi Arabia",
            "Montenegro",
            "Morocco",
            "United Arab Emirates",
            "Mozambique",
            "Myanmar",
            "Taiwan Province of China",
            "Czechia",
            "Denmark",
            "Dominican Republic",
            "Ecuador",
            "Namibia",
            "Nepal",
            "United Kingdom",
            "Netherlands",
            "New Zealand",
            "Russia",
            "Nicaragua",
            "Niger",
            "Nigeria",
            "Romania",
            "North Macedonia",
            "Chile",
            "Tanzania",
            "Colombia",
            "Croatia",
            "Cyprus",
            "Norway",
            "Uruguay",
            "United States",
            "Uzbekistan",
            "Pakistan",
            "Philippines",
            "Portugal",
            "Poland"
           ],
           "name": "",
           "type": "choropleth",
           "z": [
            3.728,
            3.296,
            3.545,
            5.805,
            5.176,
            3.207,
            7.077,
            5.979,
            6.138,
            5.892,
            5.949,
            3.59,
            6.267,
            6.337,
            7.449,
            3.93,
            5.585,
            5.95,
            4.977,
            4.217,
            5.929,
            4.261,
            5.872,
            3.435,
            4.928,
            6.87,
            7.662,
            6.258,
            4.849,
            5.87,
            5.581,
            3.985,
            5.317,
            5.932,
            5.311,
            5.861,
            6.178,
            4.356,
            6.006,
            6.723,
            4.448,
            6.999,
            4.576,
            3.408,
            6.857,
            6.16,
            6.758,
            6.257,
            5.378,
            4.239,
            5.9,
            6.15,
            6.091,
            5.668,
            4.962,
            6.055,
            6.333,
            2.352,
            3.186,
            6.614,
            5.14,
            4.279,
            5.293,
            4.908,
            6.608,
            4.191,
            4.042,
            5.76,
            7.038,
            7.228,
            2.56,
            4.019,
            3.356,
            6.261,
            5.382,
            5.093,
            7.035,
            6.048,
            4.211,
            6.546,
            4.712,
            6.007,
            6.918,
            4.397,
            7.729,
            7.431,
            6.299,
            4.724,
            5.741,
            4.907,
            7.038,
            5.687,
            4.024,
            6.492,
            6.357,
            3.502,
            6.884,
            3.628,
            4.25,
            4.637,
            1.281,
            4.425,
            5.212,
            5.538,
            5.788,
            6.382,
            5.6,
            4.596,
            6.738,
            4.74,
            4.359,
            6.607,
            6.695,
            7.545,
            5.518,
            5.887,
            4.949,
            5.474,
            6.722,
            7.39,
            6.975,
            6.044,
            6.392,
            4.501,
            5.294,
            6.437,
            5.167,
            6.415,
            3.616,
            5.892,
            5.579,
            5.865,
            7.295,
            6.671,
            6.693,
            6.016,
            4.931,
            5.995,
            5.953,
            6.666
           ]
          }
         ],
         "name": "2022.0"
        },
        {
         "data": [
          {
           "coloraxis": "coloraxis",
           "geo": "geo",
           "hovertemplate": "year=2023.0<br>Country name=%{location}<br>Life Ladder=%{z}<extra></extra>",
           "locationmode": "country names",
           "locations": [
            "Zambia",
            "Zimbabwe",
            "Comoros",
            "Congo (Brazzaville)",
            "Tajikistan",
            "Congo (Kinshasa)",
            "Costa Rica",
            "Chad",
            "Chile",
            "Tanzania",
            "Pakistan",
            "Portugal",
            "Panama",
            "Paraguay",
            "Venezuela",
            "Uzbekistan",
            "Norway",
            "Uruguay",
            "China",
            "Colombia",
            "Croatia",
            "Cyprus",
            "Taiwan Province of China",
            "Czechia",
            "Denmark",
            "Dominican Republic",
            "Ecuador",
            "Egypt",
            "El Salvador",
            "Estonia",
            "Sweden",
            "Switzerland",
            "Cambodia",
            "Cameroon",
            "Thailand",
            "Canada",
            "Ethiopia",
            "Finland",
            "France",
            "Gabon",
            "Gambia",
            "Georgia",
            "State of Palestine",
            "Germany",
            "Ghana",
            "Botswana",
            "Brazil",
            "Bulgaria",
            "Togo",
            "Burkina Faso",
            "Greece",
            "Guatemala",
            "Sri Lanka",
            "Guinea",
            "Honduras",
            "Hungary",
            "Spain",
            "Iceland",
            "India",
            "Indonesia",
            "South Korea",
            "Iran",
            "Benin",
            "Tunisia",
            "Bolivia",
            "Bosnia and Herzegovina",
            "Iraq",
            "Ireland",
            "Israel",
            "Italy",
            "Ivory Coast",
            "South Africa",
            "Japan",
            "Jordan",
            "Kazakhstan",
            "Slovenia",
            "Kenya",
            "Austria",
            "Azerbaijan",
            "Bahrain",
            "Bangladesh",
            "Belgium",
            "Kosovo",
            "Kuwait",
            "Slovakia",
            "Kyrgyzstan",
            "Laos",
            "Latvia",
            "Singapore",
            "Lebanon",
            "Liberia",
            "Libya",
            "Lithuania",
            "Luxembourg",
            "Sierra Leone",
            "Madagascar",
            "Malawi",
            "Argentina",
            "Armenia",
            "Türkiye",
            "Australia",
            "Malaysia",
            "Mali",
            "Serbia",
            "Malta",
            "Mauritania",
            "Mauritius",
            "Senegal",
            "Mexico",
            "Ukraine",
            "Afghanistan",
            "Uganda",
            "Albania",
            "Moldova",
            "Mongolia",
            "Saudi Arabia",
            "Montenegro",
            "Morocco",
            "United Arab Emirates",
            "Netherlands",
            "New Zealand",
            "Russia",
            "Nicaragua",
            "Niger",
            "Nigeria",
            "Romania",
            "North Macedonia",
            "United States",
            "United Kingdom",
            "Mozambique",
            "Myanmar",
            "Namibia",
            "Nepal",
            "Yemen",
            "Vietnam",
            "Peru",
            "Philippines",
            "Poland"
           ],
           "name": "",
           "type": "choropleth",
           "z": [
            3.686,
            3.572,
            3.588,
            4.954,
            5.379,
            3.383,
            7.384,
            4.544,
            6.23,
            4.042,
            4.549,
            5.954,
            6.543,
            6.214,
            5.765,
            6.385,
            7.249,
            6.662,
            6.145,
            5.904,
            5.958,
            6.071,
            6.655,
            6.827,
            7.504,
            5.921,
            5.852,
            3.881,
            6.482,
            6.43,
            7.161,
            6.969,
            4.221,
            4.946,
            6.282,
            6.841,
            4.093,
            7.699,
            6.557,
            5.104,
            4.691,
            5.351,
            4.851,
            6.792,
            4.298,
            3.332,
            6.553,
            5.59,
            4.365,
            4.462,
            5.796,
            6.421,
            3.602,
            4.827,
            5.861,
            5.965,
            6.456,
            7.562,
            4.676,
            5.695,
            6.112,
            5.004,
            4.42,
            4.505,
            5.86,
            6.009,
            5.475,
            6.817,
            6.783,
            6.245,
            5.337,
            5.076,
            5.91,
            4.292,
            6.299,
            6.746,
            4.496,
            6.636,
            5.214,
            5.959,
            4.114,
            6.944,
            6.878,
            7.13,
            6.261,
            5.91,
            5.486,
            6.296,
            6.654,
            3.588,
            4.494,
            5.97,
            6.553,
            7.016,
            3.467,
            4.433,
            3.272,
            6.393,
            5.679,
            5.463,
            7.025,
            5.868,
            4.37,
            6.441,
            6.295,
            4.292,
            5.759,
            5.093,
            7.006,
            4.672,
            1.446,
            4.467,
            5.445,
            5.801,
            5.58,
            6.953,
            5.813,
            4.487,
            6.728,
            7.255,
            6.976,
            5.865,
            6.362,
            4.609,
            4.869,
            6.489,
            5.403,
            6.521,
            6.658,
            5.704,
            4.391,
            5.055,
            5.389,
            3.532,
            6.325,
            5.936,
            6.184,
            6.685
           ]
          }
         ],
         "name": "2023.0"
        },
        {
         "data": [
          {
           "coloraxis": "coloraxis",
           "geo": "geo",
           "hovertemplate": "year=2024.0<br>Country name=%{location}<br>Life Ladder=%{z}<extra></extra>",
           "locationmode": "country names",
           "locations": [
            "Italy",
            "Malta",
            "Panama",
            "Chile",
            "Serbia",
            "Spain",
            "Poland",
            "Estonia",
            "El Salvador",
            "Romania",
            "Philippines",
            "New Zealand",
            "Australia",
            "Switzerland",
            "Luxembourg",
            "Taiwan Province of China",
            "Singapore",
            "Kosovo",
            "Saudi Arabia",
            "France",
            "Uruguay",
            "Mexico",
            "Germany",
            "United States",
            "United Arab Emirates",
            "Slovenia",
            "Sweden",
            "Sri Lanka",
            "Egypt",
            "India",
            "Jordan",
            "Togo",
            "Madagascar",
            "Mali",
            "Liberia",
            "Ghana",
            "Cambodia",
            "Myanmar",
            "Afghanistan",
            "Uganda",
            "Benin",
            "Tunisia",
            "Kenya",
            "Chad",
            "Gambia",
            "Mauritania",
            "Burkina Faso",
            "Niger",
            "Pakistan",
            "Morocco",
            "Namibia",
            "Tanzania",
            "Ethiopia",
            "Bangladesh",
            "State of Palestine",
            "Nigeria",
            "Azerbaijan",
            "Iran",
            "Senegal",
            "Turkiye",
            "Guinea",
            "Lebanon",
            "Lesotho",
            "Sierra Leone",
            "Congo (Kinshasa)",
            "Zimbabwe",
            "Botswana",
            "Malawi",
            "Eswatini",
            "Zambia",
            "Yemen",
            "Comoros",
            "Ivory Coast",
            "Gabon",
            "Laos",
            "Nepal",
            "Iraq",
            "Georgia",
            "Mozambique",
            "Congo (Brazzaville)",
            "Tajikistan",
            "Albania",
            "Hong Kong S.A.R. of China",
            "Algeria",
            "North Macedonia",
            "Ukraine",
            "Cameroon",
            "South Africa",
            "Armenia",
            "Bulgaria",
            "Indonesia",
            "Venezuela",
            "Colombia",
            "Mongolia",
            "Montenegro",
            "Kyrgyzstan",
            "Ecuador",
            "Bolivia",
            "Russia",
            "Moldova",
            "Mauritius",
            "Dominican Republic",
            "Peru",
            "Jamaica",
            "Libya",
            "Bosnia and Herzegovina",
            "Greece",
            "Croatia",
            "Bahrain",
            "Honduras",
            "China",
            "Malaysia",
            "Thailand",
            "Paraguay",
            "Hungary",
            "Portugal",
            "Vietnam",
            "South Korea",
            "Japan",
            "Cyprus",
            "Kazakhstan",
            "Argentina",
            "Uzbekistan",
            "Latvia",
            "Slovakia",
            "Brazil",
            "Nicaragua",
            "Guatemala",
            "Lithuania",
            "Czechia",
            "Ireland",
            "Belgium",
            "Canada",
            "Austria",
            "Kuwait",
            "Costa Rica",
            "Israel",
            "Netherlands",
            "Norway",
            "United Kingdom",
            "Finland",
            "Iceland",
            "Denmark"
           ],
           "name": "",
           "type": "choropleth",
           "z": [
            null,
            null,
            null,
            null,
            null,
            null,
            null,
            null,
            null,
            null,
            null,
            null,
            null,
            null,
            null,
            null,
            null,
            null,
            null,
            null,
            null,
            null,
            null,
            null,
            null,
            null,
            null,
            null,
            null,
            null,
            null,
            null,
            null,
            null,
            null,
            null,
            null,
            null,
            null,
            null,
            null,
            null,
            null,
            null,
            null,
            null,
            null,
            null,
            null,
            null,
            null,
            null,
            null,
            null,
            null,
            null,
            null,
            null,
            null,
            null,
            null,
            null,
            null,
            null,
            null,
            null,
            null,
            null,
            null,
            null,
            null,
            null,
            null,
            null,
            null,
            null,
            null,
            null,
            null,
            null,
            null,
            null,
            null,
            null,
            null,
            null,
            null,
            null,
            null,
            null,
            null,
            null,
            null,
            null,
            null,
            null,
            null,
            null,
            null,
            null,
            null,
            null,
            null,
            null,
            null,
            null,
            null,
            null,
            null,
            null,
            null,
            null,
            null,
            null,
            null,
            null,
            null,
            null,
            null,
            null,
            null,
            null,
            null,
            null,
            null,
            null,
            null,
            null,
            null,
            null,
            null,
            null,
            null,
            null,
            null,
            null,
            null,
            null,
            null,
            null,
            null,
            null,
            null
           ]
          }
         ],
         "name": "2024.0"
        }
       ],
       "layout": {
        "coloraxis": {
         "colorbar": {
          "title": {
           "text": "Life Ladder"
          }
         },
         "colorscale": [
          [
           0,
           "#0d0887"
          ],
          [
           0.1111111111111111,
           "#46039f"
          ],
          [
           0.2222222222222222,
           "#7201a8"
          ],
          [
           0.3333333333333333,
           "#9c179e"
          ],
          [
           0.4444444444444444,
           "#bd3786"
          ],
          [
           0.5555555555555556,
           "#d8576b"
          ],
          [
           0.6666666666666666,
           "#ed7953"
          ],
          [
           0.7777777777777778,
           "#fb9f3a"
          ],
          [
           0.8888888888888888,
           "#fdca26"
          ],
          [
           1,
           "#f0f921"
          ]
         ]
        },
        "geo": {
         "center": {},
         "domain": {
          "x": [
           0,
           1
          ],
          "y": [
           0,
           1
          ]
         }
        },
        "legend": {
         "tracegroupgap": 0
        },
        "margin": {
         "t": 60
        },
        "sliders": [
         {
          "active": 0,
          "currentvalue": {
           "prefix": "year="
          },
          "len": 0.9,
          "pad": {
           "b": 10,
           "t": 60
          },
          "steps": [
           {
            "args": [
             [
              "2005.0"
             ],
             {
              "frame": {
               "duration": 0,
               "redraw": true
              },
              "fromcurrent": true,
              "mode": "immediate",
              "transition": {
               "duration": 0,
               "easing": "linear"
              }
             }
            ],
            "label": "2005.0",
            "method": "animate"
           },
           {
            "args": [
             [
              "2006.0"
             ],
             {
              "frame": {
               "duration": 0,
               "redraw": true
              },
              "fromcurrent": true,
              "mode": "immediate",
              "transition": {
               "duration": 0,
               "easing": "linear"
              }
             }
            ],
            "label": "2006.0",
            "method": "animate"
           },
           {
            "args": [
             [
              "2007.0"
             ],
             {
              "frame": {
               "duration": 0,
               "redraw": true
              },
              "fromcurrent": true,
              "mode": "immediate",
              "transition": {
               "duration": 0,
               "easing": "linear"
              }
             }
            ],
            "label": "2007.0",
            "method": "animate"
           },
           {
            "args": [
             [
              "2008.0"
             ],
             {
              "frame": {
               "duration": 0,
               "redraw": true
              },
              "fromcurrent": true,
              "mode": "immediate",
              "transition": {
               "duration": 0,
               "easing": "linear"
              }
             }
            ],
            "label": "2008.0",
            "method": "animate"
           },
           {
            "args": [
             [
              "2009.0"
             ],
             {
              "frame": {
               "duration": 0,
               "redraw": true
              },
              "fromcurrent": true,
              "mode": "immediate",
              "transition": {
               "duration": 0,
               "easing": "linear"
              }
             }
            ],
            "label": "2009.0",
            "method": "animate"
           },
           {
            "args": [
             [
              "2010.0"
             ],
             {
              "frame": {
               "duration": 0,
               "redraw": true
              },
              "fromcurrent": true,
              "mode": "immediate",
              "transition": {
               "duration": 0,
               "easing": "linear"
              }
             }
            ],
            "label": "2010.0",
            "method": "animate"
           },
           {
            "args": [
             [
              "2011.0"
             ],
             {
              "frame": {
               "duration": 0,
               "redraw": true
              },
              "fromcurrent": true,
              "mode": "immediate",
              "transition": {
               "duration": 0,
               "easing": "linear"
              }
             }
            ],
            "label": "2011.0",
            "method": "animate"
           },
           {
            "args": [
             [
              "2012.0"
             ],
             {
              "frame": {
               "duration": 0,
               "redraw": true
              },
              "fromcurrent": true,
              "mode": "immediate",
              "transition": {
               "duration": 0,
               "easing": "linear"
              }
             }
            ],
            "label": "2012.0",
            "method": "animate"
           },
           {
            "args": [
             [
              "2013.0"
             ],
             {
              "frame": {
               "duration": 0,
               "redraw": true
              },
              "fromcurrent": true,
              "mode": "immediate",
              "transition": {
               "duration": 0,
               "easing": "linear"
              }
             }
            ],
            "label": "2013.0",
            "method": "animate"
           },
           {
            "args": [
             [
              "2014.0"
             ],
             {
              "frame": {
               "duration": 0,
               "redraw": true
              },
              "fromcurrent": true,
              "mode": "immediate",
              "transition": {
               "duration": 0,
               "easing": "linear"
              }
             }
            ],
            "label": "2014.0",
            "method": "animate"
           },
           {
            "args": [
             [
              "2015.0"
             ],
             {
              "frame": {
               "duration": 0,
               "redraw": true
              },
              "fromcurrent": true,
              "mode": "immediate",
              "transition": {
               "duration": 0,
               "easing": "linear"
              }
             }
            ],
            "label": "2015.0",
            "method": "animate"
           },
           {
            "args": [
             [
              "2016.0"
             ],
             {
              "frame": {
               "duration": 0,
               "redraw": true
              },
              "fromcurrent": true,
              "mode": "immediate",
              "transition": {
               "duration": 0,
               "easing": "linear"
              }
             }
            ],
            "label": "2016.0",
            "method": "animate"
           },
           {
            "args": [
             [
              "2017.0"
             ],
             {
              "frame": {
               "duration": 0,
               "redraw": true
              },
              "fromcurrent": true,
              "mode": "immediate",
              "transition": {
               "duration": 0,
               "easing": "linear"
              }
             }
            ],
            "label": "2017.0",
            "method": "animate"
           },
           {
            "args": [
             [
              "2018.0"
             ],
             {
              "frame": {
               "duration": 0,
               "redraw": true
              },
              "fromcurrent": true,
              "mode": "immediate",
              "transition": {
               "duration": 0,
               "easing": "linear"
              }
             }
            ],
            "label": "2018.0",
            "method": "animate"
           },
           {
            "args": [
             [
              "2019.0"
             ],
             {
              "frame": {
               "duration": 0,
               "redraw": true
              },
              "fromcurrent": true,
              "mode": "immediate",
              "transition": {
               "duration": 0,
               "easing": "linear"
              }
             }
            ],
            "label": "2019.0",
            "method": "animate"
           },
           {
            "args": [
             [
              "2020.0"
             ],
             {
              "frame": {
               "duration": 0,
               "redraw": true
              },
              "fromcurrent": true,
              "mode": "immediate",
              "transition": {
               "duration": 0,
               "easing": "linear"
              }
             }
            ],
            "label": "2020.0",
            "method": "animate"
           },
           {
            "args": [
             [
              "2021.0"
             ],
             {
              "frame": {
               "duration": 0,
               "redraw": true
              },
              "fromcurrent": true,
              "mode": "immediate",
              "transition": {
               "duration": 0,
               "easing": "linear"
              }
             }
            ],
            "label": "2021.0",
            "method": "animate"
           },
           {
            "args": [
             [
              "2022.0"
             ],
             {
              "frame": {
               "duration": 0,
               "redraw": true
              },
              "fromcurrent": true,
              "mode": "immediate",
              "transition": {
               "duration": 0,
               "easing": "linear"
              }
             }
            ],
            "label": "2022.0",
            "method": "animate"
           },
           {
            "args": [
             [
              "2023.0"
             ],
             {
              "frame": {
               "duration": 0,
               "redraw": true
              },
              "fromcurrent": true,
              "mode": "immediate",
              "transition": {
               "duration": 0,
               "easing": "linear"
              }
             }
            ],
            "label": "2023.0",
            "method": "animate"
           },
           {
            "args": [
             [
              "2024.0"
             ],
             {
              "frame": {
               "duration": 0,
               "redraw": true
              },
              "fromcurrent": true,
              "mode": "immediate",
              "transition": {
               "duration": 0,
               "easing": "linear"
              }
             }
            ],
            "label": "2024.0",
            "method": "animate"
           }
          ],
          "x": 0.1,
          "xanchor": "left",
          "y": 0,
          "yanchor": "top"
         }
        ],
        "template": {
         "data": {
          "bar": [
           {
            "error_x": {
             "color": "#2a3f5f"
            },
            "error_y": {
             "color": "#2a3f5f"
            },
            "marker": {
             "line": {
              "color": "#E5ECF6",
              "width": 0.5
             },
             "pattern": {
              "fillmode": "overlay",
              "size": 10,
              "solidity": 0.2
             }
            },
            "type": "bar"
           }
          ],
          "barpolar": [
           {
            "marker": {
             "line": {
              "color": "#E5ECF6",
              "width": 0.5
             },
             "pattern": {
              "fillmode": "overlay",
              "size": 10,
              "solidity": 0.2
             }
            },
            "type": "barpolar"
           }
          ],
          "carpet": [
           {
            "aaxis": {
             "endlinecolor": "#2a3f5f",
             "gridcolor": "white",
             "linecolor": "white",
             "minorgridcolor": "white",
             "startlinecolor": "#2a3f5f"
            },
            "baxis": {
             "endlinecolor": "#2a3f5f",
             "gridcolor": "white",
             "linecolor": "white",
             "minorgridcolor": "white",
             "startlinecolor": "#2a3f5f"
            },
            "type": "carpet"
           }
          ],
          "choropleth": [
           {
            "colorbar": {
             "outlinewidth": 0,
             "ticks": ""
            },
            "type": "choropleth"
           }
          ],
          "contour": [
           {
            "colorbar": {
             "outlinewidth": 0,
             "ticks": ""
            },
            "colorscale": [
             [
              0,
              "#0d0887"
             ],
             [
              0.1111111111111111,
              "#46039f"
             ],
             [
              0.2222222222222222,
              "#7201a8"
             ],
             [
              0.3333333333333333,
              "#9c179e"
             ],
             [
              0.4444444444444444,
              "#bd3786"
             ],
             [
              0.5555555555555556,
              "#d8576b"
             ],
             [
              0.6666666666666666,
              "#ed7953"
             ],
             [
              0.7777777777777778,
              "#fb9f3a"
             ],
             [
              0.8888888888888888,
              "#fdca26"
             ],
             [
              1,
              "#f0f921"
             ]
            ],
            "type": "contour"
           }
          ],
          "contourcarpet": [
           {
            "colorbar": {
             "outlinewidth": 0,
             "ticks": ""
            },
            "type": "contourcarpet"
           }
          ],
          "heatmap": [
           {
            "colorbar": {
             "outlinewidth": 0,
             "ticks": ""
            },
            "colorscale": [
             [
              0,
              "#0d0887"
             ],
             [
              0.1111111111111111,
              "#46039f"
             ],
             [
              0.2222222222222222,
              "#7201a8"
             ],
             [
              0.3333333333333333,
              "#9c179e"
             ],
             [
              0.4444444444444444,
              "#bd3786"
             ],
             [
              0.5555555555555556,
              "#d8576b"
             ],
             [
              0.6666666666666666,
              "#ed7953"
             ],
             [
              0.7777777777777778,
              "#fb9f3a"
             ],
             [
              0.8888888888888888,
              "#fdca26"
             ],
             [
              1,
              "#f0f921"
             ]
            ],
            "type": "heatmap"
           }
          ],
          "heatmapgl": [
           {
            "colorbar": {
             "outlinewidth": 0,
             "ticks": ""
            },
            "colorscale": [
             [
              0,
              "#0d0887"
             ],
             [
              0.1111111111111111,
              "#46039f"
             ],
             [
              0.2222222222222222,
              "#7201a8"
             ],
             [
              0.3333333333333333,
              "#9c179e"
             ],
             [
              0.4444444444444444,
              "#bd3786"
             ],
             [
              0.5555555555555556,
              "#d8576b"
             ],
             [
              0.6666666666666666,
              "#ed7953"
             ],
             [
              0.7777777777777778,
              "#fb9f3a"
             ],
             [
              0.8888888888888888,
              "#fdca26"
             ],
             [
              1,
              "#f0f921"
             ]
            ],
            "type": "heatmapgl"
           }
          ],
          "histogram": [
           {
            "marker": {
             "pattern": {
              "fillmode": "overlay",
              "size": 10,
              "solidity": 0.2
             }
            },
            "type": "histogram"
           }
          ],
          "histogram2d": [
           {
            "colorbar": {
             "outlinewidth": 0,
             "ticks": ""
            },
            "colorscale": [
             [
              0,
              "#0d0887"
             ],
             [
              0.1111111111111111,
              "#46039f"
             ],
             [
              0.2222222222222222,
              "#7201a8"
             ],
             [
              0.3333333333333333,
              "#9c179e"
             ],
             [
              0.4444444444444444,
              "#bd3786"
             ],
             [
              0.5555555555555556,
              "#d8576b"
             ],
             [
              0.6666666666666666,
              "#ed7953"
             ],
             [
              0.7777777777777778,
              "#fb9f3a"
             ],
             [
              0.8888888888888888,
              "#fdca26"
             ],
             [
              1,
              "#f0f921"
             ]
            ],
            "type": "histogram2d"
           }
          ],
          "histogram2dcontour": [
           {
            "colorbar": {
             "outlinewidth": 0,
             "ticks": ""
            },
            "colorscale": [
             [
              0,
              "#0d0887"
             ],
             [
              0.1111111111111111,
              "#46039f"
             ],
             [
              0.2222222222222222,
              "#7201a8"
             ],
             [
              0.3333333333333333,
              "#9c179e"
             ],
             [
              0.4444444444444444,
              "#bd3786"
             ],
             [
              0.5555555555555556,
              "#d8576b"
             ],
             [
              0.6666666666666666,
              "#ed7953"
             ],
             [
              0.7777777777777778,
              "#fb9f3a"
             ],
             [
              0.8888888888888888,
              "#fdca26"
             ],
             [
              1,
              "#f0f921"
             ]
            ],
            "type": "histogram2dcontour"
           }
          ],
          "mesh3d": [
           {
            "colorbar": {
             "outlinewidth": 0,
             "ticks": ""
            },
            "type": "mesh3d"
           }
          ],
          "parcoords": [
           {
            "line": {
             "colorbar": {
              "outlinewidth": 0,
              "ticks": ""
             }
            },
            "type": "parcoords"
           }
          ],
          "pie": [
           {
            "automargin": true,
            "type": "pie"
           }
          ],
          "scatter": [
           {
            "fillpattern": {
             "fillmode": "overlay",
             "size": 10,
             "solidity": 0.2
            },
            "type": "scatter"
           }
          ],
          "scatter3d": [
           {
            "line": {
             "colorbar": {
              "outlinewidth": 0,
              "ticks": ""
             }
            },
            "marker": {
             "colorbar": {
              "outlinewidth": 0,
              "ticks": ""
             }
            },
            "type": "scatter3d"
           }
          ],
          "scattercarpet": [
           {
            "marker": {
             "colorbar": {
              "outlinewidth": 0,
              "ticks": ""
             }
            },
            "type": "scattercarpet"
           }
          ],
          "scattergeo": [
           {
            "marker": {
             "colorbar": {
              "outlinewidth": 0,
              "ticks": ""
             }
            },
            "type": "scattergeo"
           }
          ],
          "scattergl": [
           {
            "marker": {
             "colorbar": {
              "outlinewidth": 0,
              "ticks": ""
             }
            },
            "type": "scattergl"
           }
          ],
          "scattermapbox": [
           {
            "marker": {
             "colorbar": {
              "outlinewidth": 0,
              "ticks": ""
             }
            },
            "type": "scattermapbox"
           }
          ],
          "scatterpolar": [
           {
            "marker": {
             "colorbar": {
              "outlinewidth": 0,
              "ticks": ""
             }
            },
            "type": "scatterpolar"
           }
          ],
          "scatterpolargl": [
           {
            "marker": {
             "colorbar": {
              "outlinewidth": 0,
              "ticks": ""
             }
            },
            "type": "scatterpolargl"
           }
          ],
          "scatterternary": [
           {
            "marker": {
             "colorbar": {
              "outlinewidth": 0,
              "ticks": ""
             }
            },
            "type": "scatterternary"
           }
          ],
          "surface": [
           {
            "colorbar": {
             "outlinewidth": 0,
             "ticks": ""
            },
            "colorscale": [
             [
              0,
              "#0d0887"
             ],
             [
              0.1111111111111111,
              "#46039f"
             ],
             [
              0.2222222222222222,
              "#7201a8"
             ],
             [
              0.3333333333333333,
              "#9c179e"
             ],
             [
              0.4444444444444444,
              "#bd3786"
             ],
             [
              0.5555555555555556,
              "#d8576b"
             ],
             [
              0.6666666666666666,
              "#ed7953"
             ],
             [
              0.7777777777777778,
              "#fb9f3a"
             ],
             [
              0.8888888888888888,
              "#fdca26"
             ],
             [
              1,
              "#f0f921"
             ]
            ],
            "type": "surface"
           }
          ],
          "table": [
           {
            "cells": {
             "fill": {
              "color": "#EBF0F8"
             },
             "line": {
              "color": "white"
             }
            },
            "header": {
             "fill": {
              "color": "#C8D4E3"
             },
             "line": {
              "color": "white"
             }
            },
            "type": "table"
           }
          ]
         },
         "layout": {
          "annotationdefaults": {
           "arrowcolor": "#2a3f5f",
           "arrowhead": 0,
           "arrowwidth": 1
          },
          "autotypenumbers": "strict",
          "coloraxis": {
           "colorbar": {
            "outlinewidth": 0,
            "ticks": ""
           }
          },
          "colorscale": {
           "diverging": [
            [
             0,
             "#8e0152"
            ],
            [
             0.1,
             "#c51b7d"
            ],
            [
             0.2,
             "#de77ae"
            ],
            [
             0.3,
             "#f1b6da"
            ],
            [
             0.4,
             "#fde0ef"
            ],
            [
             0.5,
             "#f7f7f7"
            ],
            [
             0.6,
             "#e6f5d0"
            ],
            [
             0.7,
             "#b8e186"
            ],
            [
             0.8,
             "#7fbc41"
            ],
            [
             0.9,
             "#4d9221"
            ],
            [
             1,
             "#276419"
            ]
           ],
           "sequential": [
            [
             0,
             "#0d0887"
            ],
            [
             0.1111111111111111,
             "#46039f"
            ],
            [
             0.2222222222222222,
             "#7201a8"
            ],
            [
             0.3333333333333333,
             "#9c179e"
            ],
            [
             0.4444444444444444,
             "#bd3786"
            ],
            [
             0.5555555555555556,
             "#d8576b"
            ],
            [
             0.6666666666666666,
             "#ed7953"
            ],
            [
             0.7777777777777778,
             "#fb9f3a"
            ],
            [
             0.8888888888888888,
             "#fdca26"
            ],
            [
             1,
             "#f0f921"
            ]
           ],
           "sequentialminus": [
            [
             0,
             "#0d0887"
            ],
            [
             0.1111111111111111,
             "#46039f"
            ],
            [
             0.2222222222222222,
             "#7201a8"
            ],
            [
             0.3333333333333333,
             "#9c179e"
            ],
            [
             0.4444444444444444,
             "#bd3786"
            ],
            [
             0.5555555555555556,
             "#d8576b"
            ],
            [
             0.6666666666666666,
             "#ed7953"
            ],
            [
             0.7777777777777778,
             "#fb9f3a"
            ],
            [
             0.8888888888888888,
             "#fdca26"
            ],
            [
             1,
             "#f0f921"
            ]
           ]
          },
          "colorway": [
           "#636efa",
           "#EF553B",
           "#00cc96",
           "#ab63fa",
           "#FFA15A",
           "#19d3f3",
           "#FF6692",
           "#B6E880",
           "#FF97FF",
           "#FECB52"
          ],
          "font": {
           "color": "#2a3f5f"
          },
          "geo": {
           "bgcolor": "white",
           "lakecolor": "white",
           "landcolor": "#E5ECF6",
           "showlakes": true,
           "showland": true,
           "subunitcolor": "white"
          },
          "hoverlabel": {
           "align": "left"
          },
          "hovermode": "closest",
          "mapbox": {
           "style": "light"
          },
          "paper_bgcolor": "white",
          "plot_bgcolor": "#E5ECF6",
          "polar": {
           "angularaxis": {
            "gridcolor": "white",
            "linecolor": "white",
            "ticks": ""
           },
           "bgcolor": "#E5ECF6",
           "radialaxis": {
            "gridcolor": "white",
            "linecolor": "white",
            "ticks": ""
           }
          },
          "scene": {
           "xaxis": {
            "backgroundcolor": "#E5ECF6",
            "gridcolor": "white",
            "gridwidth": 2,
            "linecolor": "white",
            "showbackground": true,
            "ticks": "",
            "zerolinecolor": "white"
           },
           "yaxis": {
            "backgroundcolor": "#E5ECF6",
            "gridcolor": "white",
            "gridwidth": 2,
            "linecolor": "white",
            "showbackground": true,
            "ticks": "",
            "zerolinecolor": "white"
           },
           "zaxis": {
            "backgroundcolor": "#E5ECF6",
            "gridcolor": "white",
            "gridwidth": 2,
            "linecolor": "white",
            "showbackground": true,
            "ticks": "",
            "zerolinecolor": "white"
           }
          },
          "shapedefaults": {
           "line": {
            "color": "#2a3f5f"
           }
          },
          "ternary": {
           "aaxis": {
            "gridcolor": "white",
            "linecolor": "white",
            "ticks": ""
           },
           "baxis": {
            "gridcolor": "white",
            "linecolor": "white",
            "ticks": ""
           },
           "bgcolor": "#E5ECF6",
           "caxis": {
            "gridcolor": "white",
            "linecolor": "white",
            "ticks": ""
           }
          },
          "title": {
           "x": 0.05
          },
          "xaxis": {
           "automargin": true,
           "gridcolor": "white",
           "linecolor": "white",
           "ticks": "",
           "title": {
            "standoff": 15
           },
           "zerolinecolor": "white",
           "zerolinewidth": 2
          },
          "yaxis": {
           "automargin": true,
           "gridcolor": "white",
           "linecolor": "white",
           "ticks": "",
           "title": {
            "standoff": 15
           },
           "zerolinecolor": "white",
           "zerolinewidth": 2
          }
         }
        },
        "title": {
         "text": "Life Ladder Comparison by Contries"
        },
        "updatemenus": [
         {
          "buttons": [
           {
            "args": [
             null,
             {
              "frame": {
               "duration": 500,
               "redraw": true
              },
              "fromcurrent": true,
              "mode": "immediate",
              "transition": {
               "duration": 500,
               "easing": "linear"
              }
             }
            ],
            "label": "&#9654;",
            "method": "animate"
           },
           {
            "args": [
             [
              null
             ],
             {
              "frame": {
               "duration": 0,
               "redraw": true
              },
              "fromcurrent": true,
              "mode": "immediate",
              "transition": {
               "duration": 0,
               "easing": "linear"
              }
             }
            ],
            "label": "&#9724;",
            "method": "animate"
           }
          ],
          "direction": "left",
          "pad": {
           "r": 10,
           "t": 70
          },
          "showactive": false,
          "type": "buttons",
          "x": 0.1,
          "xanchor": "right",
          "y": 0,
          "yanchor": "top"
         }
        ]
       }
      }
     },
     "metadata": {},
     "output_type": "display_data"
    }
   ],
   "source": [
    "fig = px.choropleth(df_all.sort_values('year'), \n",
    "                    locations = 'Country name',\n",
    "                    color ='Life Ladder',\n",
    "                    locationmode = 'country names',\n",
    "                    animation_frame = 'year')\n",
    "fig.update_layout(title = 'Life Ladder Comparison by Contries' )"
   ]
  },
  {
   "cell_type": "code",
   "execution_count": 30,
   "metadata": {},
   "outputs": [
    {
     "name": "stderr",
     "output_type": "stream",
     "text": [
      "C:\\Users\\kiran\\AppData\\Local\\Temp\\ipykernel_8820\\92935634.py:1: DeprecationWarning:\n",
      "\n",
      "DataFrameGroupBy.apply operated on the grouping columns. This behavior is deprecated, and in a future version of pandas the grouping columns will be excluded from the operation. Either pass `include_groups=False` to exclude the groupings or explicitly select the grouping columns after groupby to silence this warning.\n",
      "\n"
     ]
    },
    {
     "data": {
      "application/vnd.plotly.v1+json": {
       "config": {
        "plotlyServerURL": "https://plot.ly"
       },
       "data": [
        {
         "alignmentgroup": "True",
         "hovertemplate": "year=2005.0<br>Life Ladder=%{marker.color}<br>Country name=%{y}<extra></extra>",
         "legendgroup": "",
         "marker": {
          "color": [
           8.019,
           7.464,
           7.418,
           7.376,
           7.341,
           7.262,
           7.17,
           7.153,
           7.093,
           7.08
          ],
          "coloraxis": "coloraxis",
          "pattern": {
           "shape": ""
          }
         },
         "name": "",
         "offsetgroup": "",
         "orientation": "h",
         "showlegend": false,
         "text": [
          8.019,
          7.464,
          7.418,
          7.376,
          7.341,
          7.262,
          7.17,
          7.153,
          7.093,
          7.08
         ],
         "textposition": "outside",
         "texttemplate": "%{text:.2f}",
         "type": "bar",
         "x": [
          8.019,
          7.464,
          7.418,
          7.376,
          7.341,
          7.262,
          7.17,
          7.153,
          7.093,
          7.08
         ],
         "xaxis": "x",
         "y": [
          "Denmark",
          "Netherlands",
          "Canada",
          "Sweden",
          "Australia",
          "Belgium",
          "Venezuela",
          "Spain",
          "France",
          "Saudi Arabia"
         ],
         "yaxis": "y"
        }
       ],
       "frames": [
        {
         "data": [
          {
           "alignmentgroup": "True",
           "hovertemplate": "year=2005.0<br>Life Ladder=%{marker.color}<br>Country name=%{y}<extra></extra>",
           "legendgroup": "",
           "marker": {
            "color": [
             8.019,
             7.464,
             7.418,
             7.376,
             7.341,
             7.262,
             7.17,
             7.153,
             7.093,
             7.08
            ],
            "coloraxis": "coloraxis",
            "pattern": {
             "shape": ""
            }
           },
           "name": "",
           "offsetgroup": "",
           "orientation": "h",
           "showlegend": false,
           "text": [
            8.019,
            7.464,
            7.418,
            7.376,
            7.341,
            7.262,
            7.17,
            7.153,
            7.093,
            7.08
           ],
           "textposition": "auto",
           "type": "bar",
           "x": [
            8.019,
            7.464,
            7.418,
            7.376,
            7.341,
            7.262,
            7.17,
            7.153,
            7.093,
            7.08
           ],
           "xaxis": "x",
           "y": [
            "Denmark",
            "Netherlands",
            "Canada",
            "Sweden",
            "Australia",
            "Belgium",
            "Venezuela",
            "Spain",
            "France",
            "Saudi Arabia"
           ],
           "yaxis": "y"
          }
         ],
         "name": "2005.0"
        },
        {
         "data": [
          {
           "alignmentgroup": "True",
           "hovertemplate": "year=2006.0<br>Life Ladder=%{marker.color}<br>Country name=%{y}<extra></extra>",
           "legendgroup": "",
           "marker": {
            "color": [
             7.672,
             7.473,
             7.416,
             7.305,
             7.182,
             7.173,
             7.144,
             7.122,
             7.082,
             6.734
            ],
            "coloraxis": "coloraxis",
            "pattern": {
             "shape": ""
            }
           },
           "name": "",
           "offsetgroup": "",
           "orientation": "h",
           "showlegend": false,
           "text": [
            7.672,
            7.473,
            7.416,
            7.305,
            7.182,
            7.173,
            7.144,
            7.122,
            7.082,
            6.734
           ],
           "textposition": "auto",
           "type": "bar",
           "x": [
            7.672,
            7.473,
            7.416,
            7.305,
            7.182,
            7.173,
            7.144,
            7.122,
            7.082,
            6.734
           ],
           "xaxis": "x",
           "y": [
            "Finland",
            "Switzerland",
            "Norway",
            "New Zealand",
            "United States",
            "Israel",
            "Ireland",
            "Austria",
            "Costa Rica",
            "United Arab Emirates"
           ],
           "yaxis": "y"
          }
         ],
         "name": "2006.0"
        },
        {
         "data": [
          {
           "alignmentgroup": "True",
           "hovertemplate": "year=2007.0<br>Life Ladder=%{marker.color}<br>Country name=%{y}<extra></extra>",
           "legendgroup": "",
           "marker": {
            "color": [
             7.834,
             7.604,
             7.513,
             7.482,
             7.452,
             7.432,
             7.285,
             7.267,
             7.241,
             7.219
            ],
            "coloraxis": "coloraxis",
            "pattern": {
             "shape": ""
            }
           },
           "name": "",
           "offsetgroup": "",
           "orientation": "h",
           "showlegend": false,
           "text": [
            7.834,
            7.604,
            7.513,
            7.482,
            7.452,
            7.432,
            7.285,
            7.267,
            7.241,
            7.219
           ],
           "textposition": "auto",
           "type": "bar",
           "x": [
            7.834,
            7.604,
            7.513,
            7.482,
            7.452,
            7.432,
            7.285,
            7.267,
            7.241,
            7.219
           ],
           "xaxis": "x",
           "y": [
            "Denmark",
            "New Zealand",
            "United States",
            "Canada",
            "Netherlands",
            "Costa Rica",
            "Australia",
            "Saudi Arabia",
            "Sweden",
            "Belgium"
           ],
           "yaxis": "y"
          }
         ],
         "name": "2007.0"
        },
        {
         "data": [
          {
           "alignmentgroup": "True",
           "hovertemplate": "year=2008.0<br>Life Ladder=%{marker.color}<br>Country name=%{y}<extra></extra>",
           "legendgroup": "",
           "marker": {
            "color": [
             7.971,
             7.671,
             7.632,
             7.631,
             7.568,
             7.516,
             7.486,
             7.381,
             7.294,
             7.28
            ],
            "coloraxis": "coloraxis",
            "pattern": {
             "shape": ""
            }
           },
           "name": "",
           "offsetgroup": "",
           "orientation": "h",
           "showlegend": false,
           "text": [
            7.971,
            7.671,
            7.632,
            7.631,
            7.568,
            7.516,
            7.486,
            7.381,
            7.294,
            7.28
           ],
           "textposition": "auto",
           "type": "bar",
           "x": [
            7.971,
            7.671,
            7.632,
            7.631,
            7.568,
            7.516,
            7.486,
            7.381,
            7.294,
            7.28
           ],
           "xaxis": "x",
           "y": [
            "Denmark",
            "Finland",
            "Norway",
            "Netherlands",
            "Ireland",
            "Sweden",
            "Canada",
            "New Zealand",
            "Spain",
            "United States"
           ],
           "yaxis": "y"
          }
         ],
         "name": "2008.0"
        },
        {
         "data": [
          {
           "alignmentgroup": "True",
           "hovertemplate": "year=2009.0<br>Life Ladder=%{marker.color}<br>Country name=%{y}<extra></extra>",
           "legendgroup": "",
           "marker": {
            "color": [
             7.683,
             7.615,
             7.525,
             7.488,
             7.353,
             7.266,
             7.189,
             7.158,
             7.046,
             7.034
            ],
            "coloraxis": "coloraxis",
            "pattern": {
             "shape": ""
            }
           },
           "name": "",
           "offsetgroup": "",
           "orientation": "h",
           "showlegend": false,
           "text": [
            7.683,
            7.615,
            7.525,
            7.488,
            7.353,
            7.266,
            7.189,
            7.158,
            7.046,
            7.034
           ],
           "textposition": "auto",
           "type": "bar",
           "x": [
            7.683,
            7.615,
            7.525,
            7.488,
            7.353,
            7.266,
            7.189,
            7.158,
            7.046,
            7.034
           ],
           "xaxis": "x",
           "y": [
            "Denmark",
            "Costa Rica",
            "Switzerland",
            "Canada",
            "Israel",
            "Sweden",
            "Venezuela",
            "United States",
            "Ireland",
            "Panama"
           ],
           "yaxis": "y"
          }
         ],
         "name": "2009.0"
        },
        {
         "data": [
          {
           "alignmentgroup": "True",
           "hovertemplate": "year=2010.0<br>Life Ladder=%{marker.color}<br>Country name=%{y}<extra></extra>",
           "legendgroup": "",
           "marker": {
            "color": [
             7.771,
             7.65,
             7.502,
             7.496,
             7.478,
             7.45,
             7.393,
             7.359,
             7.321,
             7.303
            ],
            "coloraxis": "coloraxis",
            "pattern": {
             "shape": ""
            }
           },
           "name": "",
           "offsetgroup": "",
           "orientation": "h",
           "showlegend": false,
           "text": [
            7.771,
            7.65,
            7.502,
            7.496,
            7.478,
            7.45,
            7.393,
            7.359,
            7.321,
            7.303
           ],
           "textposition": "auto",
           "type": "bar",
           "x": [
            7.771,
            7.65,
            7.502,
            7.496,
            7.478,
            7.45,
            7.393,
            7.359,
            7.321,
            7.303
           ],
           "xaxis": "x",
           "y": [
            "Denmark",
            "Canada",
            "Netherlands",
            "Sweden",
            "Venezuela",
            "Australia",
            "Finland",
            "Israel",
            "Panama",
            "Austria"
           ],
           "yaxis": "y"
          }
         ],
         "name": "2010.0"
        },
        {
         "data": [
          {
           "alignmentgroup": "True",
           "hovertemplate": "year=2011.0<br>Life Ladder=%{marker.color}<br>Country name=%{y}<extra></extra>",
           "legendgroup": "",
           "marker": {
            "color": [
             7.788,
             7.564,
             7.471,
             7.433,
             7.426,
             7.406,
             7.382,
             7.354,
             7.248,
             7.229
            ],
            "coloraxis": "coloraxis",
            "pattern": {
             "shape": ""
            }
           },
           "name": "",
           "offsetgroup": "",
           "orientation": "h",
           "showlegend": false,
           "text": [
            7.788,
            7.564,
            7.471,
            7.433,
            7.426,
            7.406,
            7.382,
            7.354,
            7.248,
            7.229
           ],
           "textposition": "auto",
           "type": "bar",
           "x": [
            7.788,
            7.564,
            7.471,
            7.433,
            7.426,
            7.406,
            7.382,
            7.354,
            7.248,
            7.229
           ],
           "xaxis": "x",
           "y": [
            "Denmark",
            "Netherlands",
            "Austria",
            "Israel",
            "Canada",
            "Australia",
            "Sweden",
            "Finland",
            "Panama",
            "Costa Rica"
           ],
           "yaxis": "y"
          }
         ],
         "name": "2011.0"
        },
        {
         "data": [
          {
           "alignmentgroup": "True",
           "hovertemplate": "year=2012.0<br>Life Ladder=%{marker.color}<br>Country name=%{y}<extra></extra>",
           "legendgroup": "",
           "marker": {
            "color": [
             7.776,
             7.678,
             7.591,
             7.56,
             7.52,
             7.471,
             7.42,
             7.415,
             7.401,
             7.32
            ],
            "coloraxis": "coloraxis",
            "pattern": {
             "shape": ""
            }
           },
           "name": "",
           "offsetgroup": "",
           "orientation": "h",
           "showlegend": false,
           "text": [
            7.776,
            7.678,
            7.591,
            7.56,
            7.52,
            7.471,
            7.42,
            7.415,
            7.401,
            7.32
           ],
           "textposition": "auto",
           "type": "bar",
           "x": [
            7.776,
            7.678,
            7.591,
            7.56,
            7.52,
            7.471,
            7.42,
            7.415,
            7.401,
            7.32
           ],
           "xaxis": "x",
           "y": [
            "Switzerland",
            "Norway",
            "Iceland",
            "Sweden",
            "Denmark",
            "Netherlands",
            "Finland",
            "Canada",
            "Austria",
            "Mexico"
           ],
           "yaxis": "y"
          }
         ],
         "name": "2012.0"
        },
        {
         "data": [
          {
           "alignmentgroup": "True",
           "hovertemplate": "year=2013.0<br>Life Ladder=%{marker.color}<br>Country name=%{y}<extra></extra>",
           "legendgroup": "",
           "marker": {
            "color": [
             7.594,
             7.589,
             7.501,
             7.499,
             7.445,
             7.443,
             7.434,
             7.407,
             7.364,
             7.321
            ],
            "coloraxis": "coloraxis",
            "pattern": {
             "shape": ""
            }
           },
           "name": "",
           "offsetgroup": "",
           "orientation": "h",
           "showlegend": false,
           "text": [
            7.594,
            7.589,
            7.501,
            7.499,
            7.445,
            7.443,
            7.434,
            7.407,
            7.364,
            7.321
           ],
           "textposition": "auto",
           "type": "bar",
           "x": [
            7.594,
            7.589,
            7.501,
            7.499,
            7.445,
            7.443,
            7.434,
            7.407,
            7.364,
            7.321
           ],
           "xaxis": "x",
           "y": [
            "Canada",
            "Denmark",
            "Iceland",
            "Austria",
            "Finland",
            "Mexico",
            "Sweden",
            "Netherlands",
            "Australia",
            "Israel"
           ],
           "yaxis": "y"
          }
         ],
         "name": "2013.0"
        },
        {
         "data": [
          {
           "alignmentgroup": "True",
           "hovertemplate": "year=2014.0<br>Life Ladder=%{marker.color}<br>Country name=%{y}<extra></extra>",
           "legendgroup": "",
           "marker": {
            "color": [
             7.508,
             7.493,
             7.444,
             7.401,
             7.385,
             7.321,
             7.306,
             7.304,
             7.289,
             7.247
            ],
            "coloraxis": "coloraxis",
            "pattern": {
             "shape": ""
            }
           },
           "name": "",
           "offsetgroup": "",
           "orientation": "h",
           "showlegend": false,
           "text": [
            7.508,
            7.493,
            7.444,
            7.401,
            7.385,
            7.321,
            7.306,
            7.304,
            7.289,
            7.247
           ],
           "textposition": "auto",
           "type": "bar",
           "x": [
            7.508,
            7.493,
            7.444,
            7.401,
            7.385,
            7.321,
            7.306,
            7.304,
            7.289,
            7.247
           ],
           "xaxis": "x",
           "y": [
            "Denmark",
            "Switzerland",
            "Norway",
            "Israel",
            "Finland",
            "Netherlands",
            "New Zealand",
            "Canada",
            "Australia",
            "Costa Rica"
           ],
           "yaxis": "y"
          }
         ],
         "name": "2014.0"
        },
        {
         "data": [
          {
           "alignmentgroup": "True",
           "hovertemplate": "year=2015.0<br>Life Ladder=%{marker.color}<br>Country name=%{y}<extra></extra>",
           "legendgroup": "",
           "marker": {
            "color": [
             7.603,
             7.572,
             7.514,
             7.498,
             7.448,
             7.418,
             7.413,
             7.324,
             7.309,
             7.289
            ],
            "coloraxis": "coloraxis",
            "pattern": {
             "shape": ""
            }
           },
           "name": "",
           "offsetgroup": "",
           "orientation": "h",
           "showlegend": false,
           "text": [
            7.603,
            7.572,
            7.514,
            7.498,
            7.448,
            7.418,
            7.413,
            7.324,
            7.309,
            7.289
           ],
           "textposition": "auto",
           "type": "bar",
           "x": [
            7.603,
            7.572,
            7.514,
            7.498,
            7.448,
            7.418,
            7.413,
            7.324,
            7.309,
            7.289
           ],
           "xaxis": "x",
           "y": [
            "Norway",
            "Switzerland",
            "Denmark",
            "Iceland",
            "Finland",
            "New Zealand",
            "Canada",
            "Netherlands",
            "Australia",
            "Sweden"
           ],
           "yaxis": "y"
          }
         ],
         "name": "2015.0"
        },
        {
         "data": [
          {
           "alignmentgroup": "True",
           "hovertemplate": "year=2016.0<br>Life Ladder=%{marker.color}<br>Country name=%{y}<extra></extra>",
           "legendgroup": "",
           "marker": {
            "color": [
             7.66,
             7.596,
             7.558,
             7.541,
             7.51,
             7.459,
             7.369,
             7.25,
             7.245,
             7.226
            ],
            "coloraxis": "coloraxis",
            "pattern": {
             "shape": ""
            }
           },
           "name": "",
           "offsetgroup": "",
           "orientation": "h",
           "showlegend": false,
           "text": [
            7.66,
            7.596,
            7.558,
            7.541,
            7.51,
            7.459,
            7.369,
            7.25,
            7.245,
            7.226
           ],
           "textposition": "auto",
           "type": "bar",
           "x": [
            7.66,
            7.596,
            7.558,
            7.541,
            7.51,
            7.459,
            7.369,
            7.25,
            7.245,
            7.226
           ],
           "xaxis": "x",
           "y": [
            "Finland",
            "Norway",
            "Denmark",
            "Netherlands",
            "Iceland",
            "Switzerland",
            "Sweden",
            "Australia",
            "Canada",
            "New Zealand"
           ],
           "yaxis": "y"
          }
         ],
         "name": "2016.0"
        },
        {
         "data": [
          {
           "alignmentgroup": "True",
           "hovertemplate": "year=2017.0<br>Life Ladder=%{marker.color}<br>Country name=%{y}<extra></extra>",
           "legendgroup": "",
           "marker": {
            "color": [
             7.788,
             7.594,
             7.579,
             7.476,
             7.474,
             7.459,
             7.415,
             7.331,
             7.327,
             7.294
            ],
            "coloraxis": "coloraxis",
            "pattern": {
             "shape": ""
            }
           },
           "name": "",
           "offsetgroup": "",
           "orientation": "h",
           "showlegend": false,
           "text": [
            7.788,
            7.594,
            7.579,
            7.476,
            7.474,
            7.459,
            7.415,
            7.331,
            7.327,
            7.294
           ],
           "textposition": "auto",
           "type": "bar",
           "x": [
            7.788,
            7.594,
            7.579,
            7.476,
            7.474,
            7.459,
            7.415,
            7.331,
            7.327,
            7.294
           ],
           "xaxis": "x",
           "y": [
            "Finland",
            "Denmark",
            "Norway",
            "Iceland",
            "Switzerland",
            "Netherlands",
            "Canada",
            "Israel",
            "New Zealand",
            "Austria"
           ],
           "yaxis": "y"
          }
         ],
         "name": "2017.0"
        },
        {
         "data": [
          {
           "alignmentgroup": "True",
           "hovertemplate": "year=2018.0<br>Life Ladder=%{marker.color}<br>Country name=%{y}<extra></extra>",
           "legendgroup": "",
           "marker": {
            "color": [
             7.858,
             7.649,
             7.509,
             7.463,
             7.444,
             7.396,
             7.375,
             7.37,
             7.243,
             7.233
            ],
            "coloraxis": "coloraxis",
            "pattern": {
             "shape": ""
            }
           },
           "name": "",
           "offsetgroup": "",
           "orientation": "h",
           "showlegend": false,
           "text": [
            7.858,
            7.649,
            7.509,
            7.463,
            7.444,
            7.396,
            7.375,
            7.37,
            7.243,
            7.233
           ],
           "textposition": "auto",
           "type": "bar",
           "x": [
            7.858,
            7.649,
            7.509,
            7.463,
            7.444,
            7.396,
            7.375,
            7.37,
            7.243,
            7.233
           ],
           "xaxis": "x",
           "y": [
            "Finland",
            "Denmark",
            "Switzerland",
            "Netherlands",
            "Norway",
            "Austria",
            "Sweden",
            "New Zealand",
            "Luxembourg",
            "United Kingdom"
           ],
           "yaxis": "y"
          }
         ],
         "name": "2018.0"
        },
        {
         "data": [
          {
           "alignmentgroup": "True",
           "hovertemplate": "year=2019.0<br>Life Ladder=%{marker.color}<br>Country name=%{y}<extra></extra>",
           "legendgroup": "",
           "marker": {
            "color": [
             7.78,
             7.694,
             7.693,
             7.533,
             7.442,
             7.425,
             7.404,
             7.398,
             7.332,
             7.255
            ],
            "coloraxis": "coloraxis",
            "pattern": {
             "shape": ""
            }
           },
           "name": "",
           "offsetgroup": "",
           "orientation": "h",
           "showlegend": false,
           "text": [
            7.78,
            7.694,
            7.693,
            7.533,
            7.442,
            7.425,
            7.404,
            7.398,
            7.332,
            7.255
           ],
           "textposition": "auto",
           "type": "bar",
           "x": [
            7.78,
            7.694,
            7.693,
            7.533,
            7.442,
            7.425,
            7.404,
            7.398,
            7.332,
            7.255
           ],
           "xaxis": "x",
           "y": [
            "Finland",
            "Switzerland",
            "Denmark",
            "Iceland",
            "Norway",
            "Netherlands",
            "Luxembourg",
            "Sweden",
            "Israel",
            "Ireland"
           ],
           "yaxis": "y"
          }
         ],
         "name": "2019.0"
        },
        {
         "data": [
          {
           "alignmentgroup": "True",
           "hovertemplate": "year=2020.0<br>Life Ladder=%{marker.color}<br>Country name=%{y}<extra></extra>",
           "legendgroup": "",
           "marker": {
            "color": [
             7.889,
             7.575,
             7.515,
             7.508,
             7.504,
             7.314,
             7.312,
             7.29,
             7.257,
             7.213
            ],
            "coloraxis": "coloraxis",
            "pattern": {
             "shape": ""
            }
           },
           "name": "",
           "offsetgroup": "",
           "orientation": "h",
           "showlegend": false,
           "text": [
            7.889,
            7.575,
            7.515,
            7.508,
            7.504,
            7.314,
            7.312,
            7.29,
            7.257,
            7.213
           ],
           "textposition": "auto",
           "type": "bar",
           "x": [
            7.889,
            7.575,
            7.515,
            7.508,
            7.504,
            7.314,
            7.312,
            7.29,
            7.257,
            7.213
           ],
           "xaxis": "x",
           "y": [
            "Finland",
            "Iceland",
            "Denmark",
            "Switzerland",
            "Netherlands",
            "Sweden",
            "Germany",
            "Norway",
            "New Zealand",
            "Austria"
           ],
           "yaxis": "y"
          }
         ],
         "name": "2020.0"
        },
        {
         "data": [
          {
           "alignmentgroup": "True",
           "hovertemplate": "year=2021.0<br>Life Ladder=%{marker.color}<br>Country name=%{y}<extra></extra>",
           "legendgroup": "",
           "marker": {
            "color": [
             7.794,
             7.699,
             7.578,
             7.565,
             7.439,
             7.362,
             7.328,
             7.314,
             7.137,
             7.112
            ],
            "coloraxis": "coloraxis",
            "pattern": {
             "shape": ""
            }
           },
           "name": "",
           "offsetgroup": "",
           "orientation": "h",
           "showlegend": false,
           "text": [
            7.794,
            7.699,
            7.578,
            7.565,
            7.439,
            7.362,
            7.328,
            7.314,
            7.137,
            7.112
           ],
           "textposition": "auto",
           "type": "bar",
           "x": [
            7.794,
            7.699,
            7.578,
            7.565,
            7.439,
            7.362,
            7.328,
            7.314,
            7.137,
            7.112
           ],
           "xaxis": "x",
           "y": [
            "Finland",
            "Denmark",
            "Israel",
            "Iceland",
            "Sweden",
            "Norway",
            "Switzerland",
            "Netherlands",
            "New Zealand",
            "Australia"
           ],
           "yaxis": "y"
          }
         ],
         "name": "2021.0"
        },
        {
         "data": [
          {
           "alignmentgroup": "True",
           "hovertemplate": "year=2022.0<br>Life Ladder=%{marker.color}<br>Country name=%{y}<extra></extra>",
           "legendgroup": "",
           "marker": {
            "color": [
             7.729,
             7.662,
             7.545,
             7.449,
             7.431,
             7.39,
             7.295,
             7.228,
             7.077,
             7.038
            ],
            "coloraxis": "coloraxis",
            "pattern": {
             "shape": ""
            }
           },
           "name": "",
           "offsetgroup": "",
           "orientation": "h",
           "showlegend": false,
           "text": [
            7.729,
            7.662,
            7.545,
            7.449,
            7.431,
            7.39,
            7.295,
            7.228,
            7.077,
            7.038
           ],
           "textposition": "auto",
           "type": "bar",
           "x": [
            7.729,
            7.662,
            7.545,
            7.449,
            7.431,
            7.39,
            7.295,
            7.228,
            7.077,
            7.038
           ],
           "xaxis": "x",
           "y": [
            "Finland",
            "Israel",
            "Denmark",
            "Iceland",
            "Sweden",
            "Netherlands",
            "Norway",
            "Luxembourg",
            "Costa Rica",
            "Lithuania"
           ],
           "yaxis": "y"
          }
         ],
         "name": "2022.0"
        },
        {
         "data": [
          {
           "alignmentgroup": "True",
           "hovertemplate": "year=2023.0<br>Life Ladder=%{marker.color}<br>Country name=%{y}<extra></extra>",
           "legendgroup": "",
           "marker": {
            "color": [
             7.699,
             7.562,
             7.504,
             7.384,
             7.255,
             7.249,
             7.161,
             7.13,
             7.025,
             7.016
            ],
            "coloraxis": "coloraxis",
            "pattern": {
             "shape": ""
            }
           },
           "name": "",
           "offsetgroup": "",
           "orientation": "h",
           "showlegend": false,
           "text": [
            7.699,
            7.562,
            7.504,
            7.384,
            7.255,
            7.249,
            7.161,
            7.13,
            7.025,
            7.016
           ],
           "textposition": "auto",
           "type": "bar",
           "x": [
            7.699,
            7.562,
            7.504,
            7.384,
            7.255,
            7.249,
            7.161,
            7.13,
            7.025,
            7.016
           ],
           "xaxis": "x",
           "y": [
            "Finland",
            "Iceland",
            "Denmark",
            "Costa Rica",
            "Netherlands",
            "Norway",
            "Sweden",
            "Kuwait",
            "Australia",
            "Luxembourg"
           ],
           "yaxis": "y"
          }
         ],
         "name": "2023.0"
        },
        {
         "data": [
          {
           "alignmentgroup": "True",
           "hovertemplate": "year=2024.0<br>Life Ladder=%{marker.color}<br>Country name=%{y}<extra></extra>",
           "legendgroup": "",
           "marker": {
            "color": [
             null,
             null,
             null,
             null,
             null,
             null,
             null,
             null,
             null,
             null
            ],
            "coloraxis": "coloraxis",
            "pattern": {
             "shape": ""
            }
           },
           "name": "",
           "offsetgroup": "",
           "orientation": "h",
           "showlegend": false,
           "text": [
            null,
            null,
            null,
            null,
            null,
            null,
            null,
            null,
            null,
            null
           ],
           "textposition": "auto",
           "type": "bar",
           "x": [
            null,
            null,
            null,
            null,
            null,
            null,
            null,
            null,
            null,
            null
           ],
           "xaxis": "x",
           "y": [
            "Finland",
            "Denmark",
            "Iceland",
            "Sweden",
            "Israel",
            "Netherlands",
            "Norway",
            "Luxembourg",
            "Switzerland",
            "Australia"
           ],
           "yaxis": "y"
          }
         ],
         "name": "2024.0"
        }
       ],
       "layout": {
        "barmode": "relative",
        "coloraxis": {
         "colorbar": {
          "title": {
           "text": "Life Ladder"
          }
         },
         "colorscale": [
          [
           0,
           "rgb(247,251,255)"
          ],
          [
           0.125,
           "rgb(222,235,247)"
          ],
          [
           0.25,
           "rgb(198,219,239)"
          ],
          [
           0.375,
           "rgb(158,202,225)"
          ],
          [
           0.5,
           "rgb(107,174,214)"
          ],
          [
           0.625,
           "rgb(66,146,198)"
          ],
          [
           0.75,
           "rgb(33,113,181)"
          ],
          [
           0.875,
           "rgb(8,81,156)"
          ],
          [
           1,
           "rgb(8,48,107)"
          ]
         ]
        },
        "legend": {
         "tracegroupgap": 0
        },
        "plot_bgcolor": "white",
        "sliders": [
         {
          "active": 0,
          "currentvalue": {
           "prefix": "year="
          },
          "len": 0.9,
          "pad": {
           "b": 10,
           "t": 60
          },
          "steps": [
           {
            "args": [
             [
              "2005.0"
             ],
             {
              "frame": {
               "duration": 0,
               "redraw": true
              },
              "fromcurrent": true,
              "mode": "immediate",
              "transition": {
               "duration": 0,
               "easing": "linear"
              }
             }
            ],
            "label": "2005.0",
            "method": "animate"
           },
           {
            "args": [
             [
              "2006.0"
             ],
             {
              "frame": {
               "duration": 0,
               "redraw": true
              },
              "fromcurrent": true,
              "mode": "immediate",
              "transition": {
               "duration": 0,
               "easing": "linear"
              }
             }
            ],
            "label": "2006.0",
            "method": "animate"
           },
           {
            "args": [
             [
              "2007.0"
             ],
             {
              "frame": {
               "duration": 0,
               "redraw": true
              },
              "fromcurrent": true,
              "mode": "immediate",
              "transition": {
               "duration": 0,
               "easing": "linear"
              }
             }
            ],
            "label": "2007.0",
            "method": "animate"
           },
           {
            "args": [
             [
              "2008.0"
             ],
             {
              "frame": {
               "duration": 0,
               "redraw": true
              },
              "fromcurrent": true,
              "mode": "immediate",
              "transition": {
               "duration": 0,
               "easing": "linear"
              }
             }
            ],
            "label": "2008.0",
            "method": "animate"
           },
           {
            "args": [
             [
              "2009.0"
             ],
             {
              "frame": {
               "duration": 0,
               "redraw": true
              },
              "fromcurrent": true,
              "mode": "immediate",
              "transition": {
               "duration": 0,
               "easing": "linear"
              }
             }
            ],
            "label": "2009.0",
            "method": "animate"
           },
           {
            "args": [
             [
              "2010.0"
             ],
             {
              "frame": {
               "duration": 0,
               "redraw": true
              },
              "fromcurrent": true,
              "mode": "immediate",
              "transition": {
               "duration": 0,
               "easing": "linear"
              }
             }
            ],
            "label": "2010.0",
            "method": "animate"
           },
           {
            "args": [
             [
              "2011.0"
             ],
             {
              "frame": {
               "duration": 0,
               "redraw": true
              },
              "fromcurrent": true,
              "mode": "immediate",
              "transition": {
               "duration": 0,
               "easing": "linear"
              }
             }
            ],
            "label": "2011.0",
            "method": "animate"
           },
           {
            "args": [
             [
              "2012.0"
             ],
             {
              "frame": {
               "duration": 0,
               "redraw": true
              },
              "fromcurrent": true,
              "mode": "immediate",
              "transition": {
               "duration": 0,
               "easing": "linear"
              }
             }
            ],
            "label": "2012.0",
            "method": "animate"
           },
           {
            "args": [
             [
              "2013.0"
             ],
             {
              "frame": {
               "duration": 0,
               "redraw": true
              },
              "fromcurrent": true,
              "mode": "immediate",
              "transition": {
               "duration": 0,
               "easing": "linear"
              }
             }
            ],
            "label": "2013.0",
            "method": "animate"
           },
           {
            "args": [
             [
              "2014.0"
             ],
             {
              "frame": {
               "duration": 0,
               "redraw": true
              },
              "fromcurrent": true,
              "mode": "immediate",
              "transition": {
               "duration": 0,
               "easing": "linear"
              }
             }
            ],
            "label": "2014.0",
            "method": "animate"
           },
           {
            "args": [
             [
              "2015.0"
             ],
             {
              "frame": {
               "duration": 0,
               "redraw": true
              },
              "fromcurrent": true,
              "mode": "immediate",
              "transition": {
               "duration": 0,
               "easing": "linear"
              }
             }
            ],
            "label": "2015.0",
            "method": "animate"
           },
           {
            "args": [
             [
              "2016.0"
             ],
             {
              "frame": {
               "duration": 0,
               "redraw": true
              },
              "fromcurrent": true,
              "mode": "immediate",
              "transition": {
               "duration": 0,
               "easing": "linear"
              }
             }
            ],
            "label": "2016.0",
            "method": "animate"
           },
           {
            "args": [
             [
              "2017.0"
             ],
             {
              "frame": {
               "duration": 0,
               "redraw": true
              },
              "fromcurrent": true,
              "mode": "immediate",
              "transition": {
               "duration": 0,
               "easing": "linear"
              }
             }
            ],
            "label": "2017.0",
            "method": "animate"
           },
           {
            "args": [
             [
              "2018.0"
             ],
             {
              "frame": {
               "duration": 0,
               "redraw": true
              },
              "fromcurrent": true,
              "mode": "immediate",
              "transition": {
               "duration": 0,
               "easing": "linear"
              }
             }
            ],
            "label": "2018.0",
            "method": "animate"
           },
           {
            "args": [
             [
              "2019.0"
             ],
             {
              "frame": {
               "duration": 0,
               "redraw": true
              },
              "fromcurrent": true,
              "mode": "immediate",
              "transition": {
               "duration": 0,
               "easing": "linear"
              }
             }
            ],
            "label": "2019.0",
            "method": "animate"
           },
           {
            "args": [
             [
              "2020.0"
             ],
             {
              "frame": {
               "duration": 0,
               "redraw": true
              },
              "fromcurrent": true,
              "mode": "immediate",
              "transition": {
               "duration": 0,
               "easing": "linear"
              }
             }
            ],
            "label": "2020.0",
            "method": "animate"
           },
           {
            "args": [
             [
              "2021.0"
             ],
             {
              "frame": {
               "duration": 0,
               "redraw": true
              },
              "fromcurrent": true,
              "mode": "immediate",
              "transition": {
               "duration": 0,
               "easing": "linear"
              }
             }
            ],
            "label": "2021.0",
            "method": "animate"
           },
           {
            "args": [
             [
              "2022.0"
             ],
             {
              "frame": {
               "duration": 0,
               "redraw": true
              },
              "fromcurrent": true,
              "mode": "immediate",
              "transition": {
               "duration": 0,
               "easing": "linear"
              }
             }
            ],
            "label": "2022.0",
            "method": "animate"
           },
           {
            "args": [
             [
              "2023.0"
             ],
             {
              "frame": {
               "duration": 0,
               "redraw": true
              },
              "fromcurrent": true,
              "mode": "immediate",
              "transition": {
               "duration": 0,
               "easing": "linear"
              }
             }
            ],
            "label": "2023.0",
            "method": "animate"
           },
           {
            "args": [
             [
              "2024.0"
             ],
             {
              "frame": {
               "duration": 0,
               "redraw": true
              },
              "fromcurrent": true,
              "mode": "immediate",
              "transition": {
               "duration": 0,
               "easing": "linear"
              }
             }
            ],
            "label": "2024.0",
            "method": "animate"
           }
          ],
          "x": 0.1,
          "xanchor": "left",
          "y": 0,
          "yanchor": "top"
         }
        ],
        "template": {
         "data": {
          "bar": [
           {
            "error_x": {
             "color": "#2a3f5f"
            },
            "error_y": {
             "color": "#2a3f5f"
            },
            "marker": {
             "line": {
              "color": "#E5ECF6",
              "width": 0.5
             },
             "pattern": {
              "fillmode": "overlay",
              "size": 10,
              "solidity": 0.2
             }
            },
            "type": "bar"
           }
          ],
          "barpolar": [
           {
            "marker": {
             "line": {
              "color": "#E5ECF6",
              "width": 0.5
             },
             "pattern": {
              "fillmode": "overlay",
              "size": 10,
              "solidity": 0.2
             }
            },
            "type": "barpolar"
           }
          ],
          "carpet": [
           {
            "aaxis": {
             "endlinecolor": "#2a3f5f",
             "gridcolor": "white",
             "linecolor": "white",
             "minorgridcolor": "white",
             "startlinecolor": "#2a3f5f"
            },
            "baxis": {
             "endlinecolor": "#2a3f5f",
             "gridcolor": "white",
             "linecolor": "white",
             "minorgridcolor": "white",
             "startlinecolor": "#2a3f5f"
            },
            "type": "carpet"
           }
          ],
          "choropleth": [
           {
            "colorbar": {
             "outlinewidth": 0,
             "ticks": ""
            },
            "type": "choropleth"
           }
          ],
          "contour": [
           {
            "colorbar": {
             "outlinewidth": 0,
             "ticks": ""
            },
            "colorscale": [
             [
              0,
              "#0d0887"
             ],
             [
              0.1111111111111111,
              "#46039f"
             ],
             [
              0.2222222222222222,
              "#7201a8"
             ],
             [
              0.3333333333333333,
              "#9c179e"
             ],
             [
              0.4444444444444444,
              "#bd3786"
             ],
             [
              0.5555555555555556,
              "#d8576b"
             ],
             [
              0.6666666666666666,
              "#ed7953"
             ],
             [
              0.7777777777777778,
              "#fb9f3a"
             ],
             [
              0.8888888888888888,
              "#fdca26"
             ],
             [
              1,
              "#f0f921"
             ]
            ],
            "type": "contour"
           }
          ],
          "contourcarpet": [
           {
            "colorbar": {
             "outlinewidth": 0,
             "ticks": ""
            },
            "type": "contourcarpet"
           }
          ],
          "heatmap": [
           {
            "colorbar": {
             "outlinewidth": 0,
             "ticks": ""
            },
            "colorscale": [
             [
              0,
              "#0d0887"
             ],
             [
              0.1111111111111111,
              "#46039f"
             ],
             [
              0.2222222222222222,
              "#7201a8"
             ],
             [
              0.3333333333333333,
              "#9c179e"
             ],
             [
              0.4444444444444444,
              "#bd3786"
             ],
             [
              0.5555555555555556,
              "#d8576b"
             ],
             [
              0.6666666666666666,
              "#ed7953"
             ],
             [
              0.7777777777777778,
              "#fb9f3a"
             ],
             [
              0.8888888888888888,
              "#fdca26"
             ],
             [
              1,
              "#f0f921"
             ]
            ],
            "type": "heatmap"
           }
          ],
          "heatmapgl": [
           {
            "colorbar": {
             "outlinewidth": 0,
             "ticks": ""
            },
            "colorscale": [
             [
              0,
              "#0d0887"
             ],
             [
              0.1111111111111111,
              "#46039f"
             ],
             [
              0.2222222222222222,
              "#7201a8"
             ],
             [
              0.3333333333333333,
              "#9c179e"
             ],
             [
              0.4444444444444444,
              "#bd3786"
             ],
             [
              0.5555555555555556,
              "#d8576b"
             ],
             [
              0.6666666666666666,
              "#ed7953"
             ],
             [
              0.7777777777777778,
              "#fb9f3a"
             ],
             [
              0.8888888888888888,
              "#fdca26"
             ],
             [
              1,
              "#f0f921"
             ]
            ],
            "type": "heatmapgl"
           }
          ],
          "histogram": [
           {
            "marker": {
             "pattern": {
              "fillmode": "overlay",
              "size": 10,
              "solidity": 0.2
             }
            },
            "type": "histogram"
           }
          ],
          "histogram2d": [
           {
            "colorbar": {
             "outlinewidth": 0,
             "ticks": ""
            },
            "colorscale": [
             [
              0,
              "#0d0887"
             ],
             [
              0.1111111111111111,
              "#46039f"
             ],
             [
              0.2222222222222222,
              "#7201a8"
             ],
             [
              0.3333333333333333,
              "#9c179e"
             ],
             [
              0.4444444444444444,
              "#bd3786"
             ],
             [
              0.5555555555555556,
              "#d8576b"
             ],
             [
              0.6666666666666666,
              "#ed7953"
             ],
             [
              0.7777777777777778,
              "#fb9f3a"
             ],
             [
              0.8888888888888888,
              "#fdca26"
             ],
             [
              1,
              "#f0f921"
             ]
            ],
            "type": "histogram2d"
           }
          ],
          "histogram2dcontour": [
           {
            "colorbar": {
             "outlinewidth": 0,
             "ticks": ""
            },
            "colorscale": [
             [
              0,
              "#0d0887"
             ],
             [
              0.1111111111111111,
              "#46039f"
             ],
             [
              0.2222222222222222,
              "#7201a8"
             ],
             [
              0.3333333333333333,
              "#9c179e"
             ],
             [
              0.4444444444444444,
              "#bd3786"
             ],
             [
              0.5555555555555556,
              "#d8576b"
             ],
             [
              0.6666666666666666,
              "#ed7953"
             ],
             [
              0.7777777777777778,
              "#fb9f3a"
             ],
             [
              0.8888888888888888,
              "#fdca26"
             ],
             [
              1,
              "#f0f921"
             ]
            ],
            "type": "histogram2dcontour"
           }
          ],
          "mesh3d": [
           {
            "colorbar": {
             "outlinewidth": 0,
             "ticks": ""
            },
            "type": "mesh3d"
           }
          ],
          "parcoords": [
           {
            "line": {
             "colorbar": {
              "outlinewidth": 0,
              "ticks": ""
             }
            },
            "type": "parcoords"
           }
          ],
          "pie": [
           {
            "automargin": true,
            "type": "pie"
           }
          ],
          "scatter": [
           {
            "fillpattern": {
             "fillmode": "overlay",
             "size": 10,
             "solidity": 0.2
            },
            "type": "scatter"
           }
          ],
          "scatter3d": [
           {
            "line": {
             "colorbar": {
              "outlinewidth": 0,
              "ticks": ""
             }
            },
            "marker": {
             "colorbar": {
              "outlinewidth": 0,
              "ticks": ""
             }
            },
            "type": "scatter3d"
           }
          ],
          "scattercarpet": [
           {
            "marker": {
             "colorbar": {
              "outlinewidth": 0,
              "ticks": ""
             }
            },
            "type": "scattercarpet"
           }
          ],
          "scattergeo": [
           {
            "marker": {
             "colorbar": {
              "outlinewidth": 0,
              "ticks": ""
             }
            },
            "type": "scattergeo"
           }
          ],
          "scattergl": [
           {
            "marker": {
             "colorbar": {
              "outlinewidth": 0,
              "ticks": ""
             }
            },
            "type": "scattergl"
           }
          ],
          "scattermapbox": [
           {
            "marker": {
             "colorbar": {
              "outlinewidth": 0,
              "ticks": ""
             }
            },
            "type": "scattermapbox"
           }
          ],
          "scatterpolar": [
           {
            "marker": {
             "colorbar": {
              "outlinewidth": 0,
              "ticks": ""
             }
            },
            "type": "scatterpolar"
           }
          ],
          "scatterpolargl": [
           {
            "marker": {
             "colorbar": {
              "outlinewidth": 0,
              "ticks": ""
             }
            },
            "type": "scatterpolargl"
           }
          ],
          "scatterternary": [
           {
            "marker": {
             "colorbar": {
              "outlinewidth": 0,
              "ticks": ""
             }
            },
            "type": "scatterternary"
           }
          ],
          "surface": [
           {
            "colorbar": {
             "outlinewidth": 0,
             "ticks": ""
            },
            "colorscale": [
             [
              0,
              "#0d0887"
             ],
             [
              0.1111111111111111,
              "#46039f"
             ],
             [
              0.2222222222222222,
              "#7201a8"
             ],
             [
              0.3333333333333333,
              "#9c179e"
             ],
             [
              0.4444444444444444,
              "#bd3786"
             ],
             [
              0.5555555555555556,
              "#d8576b"
             ],
             [
              0.6666666666666666,
              "#ed7953"
             ],
             [
              0.7777777777777778,
              "#fb9f3a"
             ],
             [
              0.8888888888888888,
              "#fdca26"
             ],
             [
              1,
              "#f0f921"
             ]
            ],
            "type": "surface"
           }
          ],
          "table": [
           {
            "cells": {
             "fill": {
              "color": "#EBF0F8"
             },
             "line": {
              "color": "white"
             }
            },
            "header": {
             "fill": {
              "color": "#C8D4E3"
             },
             "line": {
              "color": "white"
             }
            },
            "type": "table"
           }
          ]
         },
         "layout": {
          "annotationdefaults": {
           "arrowcolor": "#2a3f5f",
           "arrowhead": 0,
           "arrowwidth": 1
          },
          "autotypenumbers": "strict",
          "coloraxis": {
           "colorbar": {
            "outlinewidth": 0,
            "ticks": ""
           }
          },
          "colorscale": {
           "diverging": [
            [
             0,
             "#8e0152"
            ],
            [
             0.1,
             "#c51b7d"
            ],
            [
             0.2,
             "#de77ae"
            ],
            [
             0.3,
             "#f1b6da"
            ],
            [
             0.4,
             "#fde0ef"
            ],
            [
             0.5,
             "#f7f7f7"
            ],
            [
             0.6,
             "#e6f5d0"
            ],
            [
             0.7,
             "#b8e186"
            ],
            [
             0.8,
             "#7fbc41"
            ],
            [
             0.9,
             "#4d9221"
            ],
            [
             1,
             "#276419"
            ]
           ],
           "sequential": [
            [
             0,
             "#0d0887"
            ],
            [
             0.1111111111111111,
             "#46039f"
            ],
            [
             0.2222222222222222,
             "#7201a8"
            ],
            [
             0.3333333333333333,
             "#9c179e"
            ],
            [
             0.4444444444444444,
             "#bd3786"
            ],
            [
             0.5555555555555556,
             "#d8576b"
            ],
            [
             0.6666666666666666,
             "#ed7953"
            ],
            [
             0.7777777777777778,
             "#fb9f3a"
            ],
            [
             0.8888888888888888,
             "#fdca26"
            ],
            [
             1,
             "#f0f921"
            ]
           ],
           "sequentialminus": [
            [
             0,
             "#0d0887"
            ],
            [
             0.1111111111111111,
             "#46039f"
            ],
            [
             0.2222222222222222,
             "#7201a8"
            ],
            [
             0.3333333333333333,
             "#9c179e"
            ],
            [
             0.4444444444444444,
             "#bd3786"
            ],
            [
             0.5555555555555556,
             "#d8576b"
            ],
            [
             0.6666666666666666,
             "#ed7953"
            ],
            [
             0.7777777777777778,
             "#fb9f3a"
            ],
            [
             0.8888888888888888,
             "#fdca26"
            ],
            [
             1,
             "#f0f921"
            ]
           ]
          },
          "colorway": [
           "#636efa",
           "#EF553B",
           "#00cc96",
           "#ab63fa",
           "#FFA15A",
           "#19d3f3",
           "#FF6692",
           "#B6E880",
           "#FF97FF",
           "#FECB52"
          ],
          "font": {
           "color": "#2a3f5f"
          },
          "geo": {
           "bgcolor": "white",
           "lakecolor": "white",
           "landcolor": "#E5ECF6",
           "showlakes": true,
           "showland": true,
           "subunitcolor": "white"
          },
          "hoverlabel": {
           "align": "left"
          },
          "hovermode": "closest",
          "mapbox": {
           "style": "light"
          },
          "paper_bgcolor": "white",
          "plot_bgcolor": "#E5ECF6",
          "polar": {
           "angularaxis": {
            "gridcolor": "white",
            "linecolor": "white",
            "ticks": ""
           },
           "bgcolor": "#E5ECF6",
           "radialaxis": {
            "gridcolor": "white",
            "linecolor": "white",
            "ticks": ""
           }
          },
          "scene": {
           "xaxis": {
            "backgroundcolor": "#E5ECF6",
            "gridcolor": "white",
            "gridwidth": 2,
            "linecolor": "white",
            "showbackground": true,
            "ticks": "",
            "zerolinecolor": "white"
           },
           "yaxis": {
            "backgroundcolor": "#E5ECF6",
            "gridcolor": "white",
            "gridwidth": 2,
            "linecolor": "white",
            "showbackground": true,
            "ticks": "",
            "zerolinecolor": "white"
           },
           "zaxis": {
            "backgroundcolor": "#E5ECF6",
            "gridcolor": "white",
            "gridwidth": 2,
            "linecolor": "white",
            "showbackground": true,
            "ticks": "",
            "zerolinecolor": "white"
           }
          },
          "shapedefaults": {
           "line": {
            "color": "#2a3f5f"
           }
          },
          "ternary": {
           "aaxis": {
            "gridcolor": "white",
            "linecolor": "white",
            "ticks": ""
           },
           "baxis": {
            "gridcolor": "white",
            "linecolor": "white",
            "ticks": ""
           },
           "bgcolor": "#E5ECF6",
           "caxis": {
            "gridcolor": "white",
            "linecolor": "white",
            "ticks": ""
           }
          },
          "title": {
           "x": 0.05
          },
          "xaxis": {
           "automargin": true,
           "gridcolor": "white",
           "linecolor": "white",
           "ticks": "",
           "title": {
            "standoff": 15
           },
           "zerolinecolor": "white",
           "zerolinewidth": 2
          },
          "yaxis": {
           "automargin": true,
           "gridcolor": "white",
           "linecolor": "white",
           "ticks": "",
           "title": {
            "standoff": 15
           },
           "zerolinecolor": "white",
           "zerolinewidth": 2
          }
         }
        },
        "title": {
         "text": "Life Ladder Comparison by Countries"
        },
        "updatemenus": [
         {
          "buttons": [
           {
            "args": [
             null,
             {
              "frame": {
               "duration": 500,
               "redraw": true
              },
              "fromcurrent": true,
              "mode": "immediate",
              "transition": {
               "duration": 500,
               "easing": "linear"
              }
             }
            ],
            "label": "&#9654;",
            "method": "animate"
           },
           {
            "args": [
             [
              null
             ],
             {
              "frame": {
               "duration": 0,
               "redraw": true
              },
              "fromcurrent": true,
              "mode": "immediate",
              "transition": {
               "duration": 0,
               "easing": "linear"
              }
             }
            ],
            "label": "&#9724;",
            "method": "animate"
           }
          ],
          "direction": "left",
          "pad": {
           "r": 10,
           "t": 70
          },
          "showactive": false,
          "type": "buttons",
          "x": 0.1,
          "xanchor": "right",
          "y": 0,
          "yanchor": "top"
         }
        ],
        "xaxis": {
         "anchor": "y",
         "domain": [
          0,
          1
         ],
         "title": {
          "text": "Life Ladder Score"
         }
        },
        "yaxis": {
         "anchor": "x",
         "categoryorder": "total ascending",
         "domain": [
          0,
          1
         ],
         "title": {
          "text": "Country"
         }
        }
       }
      }
     },
     "metadata": {},
     "output_type": "display_data"
    }
   ],
   "source": [
    "df_top10 = df_all.groupby(\"year\").apply(lambda x: x.nlargest(10, \"Life Ladder\")).reset_index(drop=True)\n",
    "\n",
    "fig = px.bar(\n",
    "    df_top10.sort_values(\"year\"),  \n",
    "    x=\"Life Ladder\", \n",
    "    y=\"Country name\", \n",
    "    orientation=\"h\",  # Horizontal bars\n",
    "    animation_frame=\"year\",  # Animate over years\n",
    "    text=\"Life Ladder\",\n",
    "    color=\"Life Ladder\",  \n",
    "    color_continuous_scale=\"Blues\",  # Color theme\n",
    "    title=\"Life Ladder Comparison by Countries\"\n",
    ")\n",
    "\n",
    "# Improve layout\n",
    "fig.update_traces(texttemplate=\"%{text:.2f}\", textposition=\"outside\")\n",
    "fig.update_layout(\n",
    "    xaxis_title=\"Life Ladder Score\",\n",
    "    yaxis_title=\"Country\",\n",
    "    yaxis=dict(categoryorder=\"total ascending\"),  # Sort countries by value\n",
    "    plot_bgcolor=\"white\"\n",
    ")\n",
    "\n",
    "# Show plot\n",
    "fig.show()"
   ]
  }
 ],
 "metadata": {
  "kernelspec": {
   "display_name": "Python 3",
   "language": "python",
   "name": "python3"
  },
  "language_info": {
   "codemirror_mode": {
    "name": "ipython",
    "version": 3
   },
   "file_extension": ".py",
   "mimetype": "text/x-python",
   "name": "python",
   "nbconvert_exporter": "python",
   "pygments_lexer": "ipython3",
   "version": "3.12.7"
  }
 },
 "nbformat": 4,
 "nbformat_minor": 2
}
